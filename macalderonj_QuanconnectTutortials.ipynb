{
  "nbformat": 4,
  "nbformat_minor": 0,
  "metadata": {
    "colab": {
      "name": "macalderonj_QuanconnectTutortials.ipynb",
      "provenance": [],
      "collapsed_sections": []
    },
    "kernelspec": {
      "name": "python3",
      "display_name": "Python 3"
    },
    "language_info": {
      "name": "python"
    }
  },
  "cells": [
    {
      "cell_type": "markdown",
      "metadata": {
        "id": "576Y4GNNLanX"
      },
      "source": [
        "# Tutorial 1\n"
      ]
    },
    {
      "cell_type": "code",
      "metadata": {
        "colab": {
          "base_uri": "https://localhost:8080/"
        },
        "id": "2bK5uYCALiEi",
        "outputId": "60f6171f-42d4-4fa4-f31d-921c38edca29"
      },
      "source": [
        "my_string1 = 'Welcome to'\n",
        "my_string2 = \"QuantConnect\"\n",
        "print(my_string1 + ' ' + my_string2)"
      ],
      "execution_count": 1,
      "outputs": [
        {
          "output_type": "stream",
          "name": "stdout",
          "text": [
            "Welcome to QuantConnect\n"
          ]
        }
      ]
    },
    {
      "cell_type": "code",
      "metadata": {
        "colab": {
          "base_uri": "https://localhost:8080/"
        },
        "id": "eMAsrNDkLoQh",
        "outputId": "45b7e2dc-deae-41ac-e339-af945de1fbec"
      },
      "source": [
        "my_string1 = 'Welcome to'\n",
        "my_string2 = \"my tutorial series\"\n",
        "my_string3 = \"by Maria Paula Calderon\"\n",
        "print(my_string1 + ' ' + my_string2 + ' ' + my_string3)"
      ],
      "execution_count": 2,
      "outputs": [
        {
          "output_type": "stream",
          "name": "stdout",
          "text": [
            "Welcome to my tutorial series by Maria Paula Calderon\n"
          ]
        }
      ]
    },
    {
      "cell_type": "code",
      "metadata": {
        "colab": {
          "base_uri": "https://localhost:8080/"
        },
        "id": "RXT-Q4orMBfb",
        "outputId": "04821369-3186-4c3e-c126-8cc4539dd407"
      },
      "source": [
        "my_int = 10\n",
        "print(my_int)\n",
        "print(type(my_int))"
      ],
      "execution_count": 4,
      "outputs": [
        {
          "output_type": "stream",
          "name": "stdout",
          "text": [
            "10\n",
            "<class 'int'>\n"
          ]
        }
      ]
    },
    {
      "cell_type": "code",
      "metadata": {
        "colab": {
          "base_uri": "https://localhost:8080/"
        },
        "id": "Kgclg7OxMHU7",
        "outputId": "29ee9371-a968-46dc-b0a6-c4b54899356a"
      },
      "source": [
        "my_int = 23\n",
        "print(my_int)\n",
        "print(type(my_int))"
      ],
      "execution_count": 5,
      "outputs": [
        {
          "output_type": "stream",
          "name": "stdout",
          "text": [
            "23\n",
            "<class 'int'>\n"
          ]
        }
      ]
    },
    {
      "cell_type": "code",
      "metadata": {
        "colab": {
          "base_uri": "https://localhost:8080/"
        },
        "id": "sQlPOa-OMOJ4",
        "outputId": "7f658d90-edee-42dc-94d0-d2c0b4035146"
      },
      "source": [
        "my_string = \"100\"\n",
        "print(type(my_string))\n",
        "my_int = int(my_string)\n",
        "print(type(my_int))"
      ],
      "execution_count": 6,
      "outputs": [
        {
          "output_type": "stream",
          "name": "stdout",
          "text": [
            "<class 'str'>\n",
            "<class 'int'>\n"
          ]
        }
      ]
    },
    {
      "cell_type": "code",
      "metadata": {
        "colab": {
          "base_uri": "https://localhost:8080/"
        },
        "id": "cuOcD4d7MTor",
        "outputId": "8a0e7e33-6c97-4d65-b2f5-d802c616e801"
      },
      "source": [
        "my_string = \"1084739\"\n",
        "print(type(my_string))\n",
        "my_int = int(my_string)\n",
        "print(type(my_int))"
      ],
      "execution_count": 7,
      "outputs": [
        {
          "output_type": "stream",
          "name": "stdout",
          "text": [
            "<class 'str'>\n",
            "<class 'int'>\n"
          ]
        }
      ]
    },
    {
      "cell_type": "code",
      "metadata": {
        "colab": {
          "base_uri": "https://localhost:8080/"
        },
        "id": "HQsFsO6zMZL4",
        "outputId": "d1dff49d-b51d-435c-e215-abe84c0d81b6"
      },
      "source": [
        "my_float = 1.0\n",
        "print(type(my_float))\n",
        "my_int = 1\n",
        "print(type(my_int))"
      ],
      "execution_count": 8,
      "outputs": [
        {
          "output_type": "stream",
          "name": "stdout",
          "text": [
            "<class 'float'>\n",
            "<class 'int'>\n"
          ]
        }
      ]
    },
    {
      "cell_type": "code",
      "metadata": {
        "colab": {
          "base_uri": "https://localhost:8080/"
        },
        "id": "sla9S8SXMdk-",
        "outputId": "0757ef44-2fc6-4846-d4a0-0f132627c342"
      },
      "source": [
        "my_float = 9.3\n",
        "print(type(my_float))\n",
        "my_int = 380\n",
        "print(type(my_int))"
      ],
      "execution_count": 9,
      "outputs": [
        {
          "output_type": "stream",
          "name": "stdout",
          "text": [
            "<class 'float'>\n",
            "<class 'int'>\n"
          ]
        }
      ]
    },
    {
      "cell_type": "code",
      "metadata": {
        "colab": {
          "base_uri": "https://localhost:8080/"
        },
        "id": "0d3vjfi2Mow0",
        "outputId": "0846e60d-b50d-421c-8c0b-04ca47254170"
      },
      "source": [
        "my_string = \"100\"\n",
        "my_float = float(my_string)\n",
        "print(type(my_float))"
      ],
      "execution_count": 10,
      "outputs": [
        {
          "output_type": "stream",
          "name": "stdout",
          "text": [
            "<class 'float'>\n"
          ]
        }
      ]
    },
    {
      "cell_type": "code",
      "metadata": {
        "colab": {
          "base_uri": "https://localhost:8080/"
        },
        "id": "GRqHZ4_mMp9G",
        "outputId": "08886431-f2ec-44c4-8ae5-3274dd4a140c"
      },
      "source": [
        "my_string = \"9\"\n",
        "my_float = float(my_string)\n",
        "print(type(my_float))"
      ],
      "execution_count": 11,
      "outputs": [
        {
          "output_type": "stream",
          "name": "stdout",
          "text": [
            "<class 'float'>\n"
          ]
        }
      ]
    },
    {
      "cell_type": "code",
      "metadata": {
        "colab": {
          "base_uri": "https://localhost:8080/"
        },
        "id": "-bVUC9xeMs6Y",
        "outputId": "e4510260-e31a-4e5a-bc78-0f10ed0c0b1e"
      },
      "source": [
        "my_bool = False\n",
        "print(my_bool)\n",
        "print(type(my_bool))"
      ],
      "execution_count": 12,
      "outputs": [
        {
          "output_type": "stream",
          "name": "stdout",
          "text": [
            "False\n",
            "<class 'bool'>\n"
          ]
        }
      ]
    },
    {
      "cell_type": "code",
      "metadata": {
        "colab": {
          "base_uri": "https://localhost:8080/"
        },
        "id": "vdC0cx35MyVz",
        "outputId": "cccd5d05-5fd6-42e7-91ad-8eafe1e08e52"
      },
      "source": [
        "my_bool = True\n",
        "print(my_bool)\n",
        "print(type(my_bool))"
      ],
      "execution_count": 13,
      "outputs": [
        {
          "output_type": "stream",
          "name": "stdout",
          "text": [
            "True\n",
            "<class 'bool'>\n"
          ]
        }
      ]
    },
    {
      "cell_type": "code",
      "metadata": {
        "colab": {
          "base_uri": "https://localhost:8080/"
        },
        "id": "GwrB5B5XM62S",
        "outputId": "838943e7-fb81-429b-8709-088286762245"
      },
      "source": [
        "print(\"Addition \", 1+1)\n",
        "print(\"Subtraction \", 5-2)\n",
        "print(\"Multiplication \", 2*3)\n",
        "print(\"Division\", 10/2)\n",
        "print(\"exponent\", 2**3)"
      ],
      "execution_count": 14,
      "outputs": [
        {
          "output_type": "stream",
          "name": "stdout",
          "text": [
            "Addition  2\n",
            "Subtraction  3\n",
            "Multiplication  6\n",
            "Division 5.0\n",
            "exponent 8\n"
          ]
        }
      ]
    },
    {
      "cell_type": "code",
      "metadata": {
        "colab": {
          "base_uri": "https://localhost:8080/"
        },
        "id": "F-CfuRVLNGPH",
        "outputId": "f476cae9-61b7-4f4c-9c0b-83089c483662"
      },
      "source": [
        "print(\"Addition:\", 29+3)\n",
        "print(\"Subtraction:\", 37-97)\n",
        "print(\"Multiplication:\", 8*37)\n",
        "print(\"Division:\", 90/4)\n",
        "print(\"exponent:\", 9**2)"
      ],
      "execution_count": 18,
      "outputs": [
        {
          "output_type": "stream",
          "name": "stdout",
          "text": [
            "Addition: 32\n",
            "Subtraction: -60\n",
            "Multiplication: 296\n",
            "Division: 22.5\n",
            "exponent: 81\n"
          ]
        }
      ]
    },
    {
      "cell_type": "code",
      "metadata": {
        "colab": {
          "base_uri": "https://localhost:8080/"
        },
        "id": "zKfUOfefNTJy",
        "outputId": "6f4c9c09-e400-4969-cfd5-5cb6c952b302"
      },
      "source": [
        "my_list = ['Quant', 'Connect', 1,2,3]\n",
        "print(my_list)"
      ],
      "execution_count": 19,
      "outputs": [
        {
          "output_type": "stream",
          "name": "stdout",
          "text": [
            "['Quant', 'Connect', 1, 2, 3]\n"
          ]
        }
      ]
    },
    {
      "cell_type": "code",
      "metadata": {
        "colab": {
          "base_uri": "https://localhost:8080/"
        },
        "id": "ujxmVNn7NWiv",
        "outputId": "3f5d2f3f-e4ec-4acc-d66a-6387074f9e6c"
      },
      "source": [
        "my_list = ['Fresa', 'Carro', 1,2,3, '*']\n",
        "print(my_list)"
      ],
      "execution_count": 20,
      "outputs": [
        {
          "output_type": "stream",
          "name": "stdout",
          "text": [
            "['Fresa', 'Carro', 1, 2, 3, '*']\n"
          ]
        }
      ]
    },
    {
      "cell_type": "code",
      "metadata": {
        "colab": {
          "base_uri": "https://localhost:8080/"
        },
        "id": "JBxDoxmvNhnl",
        "outputId": "a1d6fc46-a826-4be3-e545-2eabb7a382a5"
      },
      "source": [
        "my_list = ['Quant', 'Connect', 1,2,3]\n",
        "print(len(my_list))\n",
        "print(my_list[0])\n",
        "print(my_list[len(my_list) - 1])"
      ],
      "execution_count": 21,
      "outputs": [
        {
          "output_type": "stream",
          "name": "stdout",
          "text": [
            "5\n",
            "Quant\n",
            "3\n"
          ]
        }
      ]
    },
    {
      "cell_type": "code",
      "metadata": {
        "colab": {
          "base_uri": "https://localhost:8080/"
        },
        "id": "t1AzE4dkNneE",
        "outputId": "45a93e24-118e-412a-aa98-9e827b68ed8c"
      },
      "source": [
        "my_list = ['Fresa', 'Carro', 1,2,3, '*']\n",
        "print(len(my_list))\n",
        "print(my_list[0])\n",
        "print(my_list[2])\n",
        "print(my_list[len(my_list) - 1])"
      ],
      "execution_count": 22,
      "outputs": [
        {
          "output_type": "stream",
          "name": "stdout",
          "text": [
            "6\n",
            "Fresa\n",
            "1\n",
            "*\n"
          ]
        }
      ]
    },
    {
      "cell_type": "code",
      "metadata": {
        "colab": {
          "base_uri": "https://localhost:8080/"
        },
        "id": "0zLiDVmUNw_F",
        "outputId": "ca88e8fa-ddd8-482e-aebd-e7b317eb01b1"
      },
      "source": [
        "my_list = ['Quant','Connect',1,2,3]\n",
        "my_list[2] = 'go'\n",
        "print(my_list)"
      ],
      "execution_count": 23,
      "outputs": [
        {
          "output_type": "stream",
          "name": "stdout",
          "text": [
            "['Quant', 'Connect', 'go', 2, 3]\n"
          ]
        }
      ]
    },
    {
      "cell_type": "code",
      "metadata": {
        "colab": {
          "base_uri": "https://localhost:8080/"
        },
        "id": "bSUkruf2N2bq",
        "outputId": "8820b8db-d042-44d9-99db-bd73038a69ba"
      },
      "source": [
        "my_list = ['Fresa','Carro',1,2,3, '*']\n",
        "my_list[2] = 23\n",
        "my_list[len(my_list) -1 ] = 'go'\n",
        "print(my_list)"
      ],
      "execution_count": 26,
      "outputs": [
        {
          "output_type": "stream",
          "name": "stdout",
          "text": [
            "['Fresa', 'Carro', 23, 2, 3, 'go']\n"
          ]
        }
      ]
    },
    {
      "cell_type": "code",
      "metadata": {
        "colab": {
          "base_uri": "https://localhost:8080/"
        },
        "id": "f85nJLPiOM8o",
        "outputId": "9d4cfc7e-0742-4b55-eb09-e9374bd1c0be"
      },
      "source": [
        "my_list = ['Quant','Connect',1,2,3]\n",
        "print(my_list[1:3])"
      ],
      "execution_count": 27,
      "outputs": [
        {
          "output_type": "stream",
          "name": "stdout",
          "text": [
            "['Connect', 1]\n"
          ]
        }
      ]
    },
    {
      "cell_type": "code",
      "metadata": {
        "colab": {
          "base_uri": "https://localhost:8080/"
        },
        "id": "T610f0w1OTNE",
        "outputId": "1991797a-6621-4a34-d17f-31dd732665e7"
      },
      "source": [
        "my_list = ['Fresa','Piña',1,2,3, '*', 25, 'Botas']\n",
        "print(my_list[1:4])"
      ],
      "execution_count": 28,
      "outputs": [
        {
          "output_type": "stream",
          "name": "stdout",
          "text": [
            "['Piña', 1, 2]\n"
          ]
        }
      ]
    },
    {
      "cell_type": "code",
      "metadata": {
        "colab": {
          "base_uri": "https://localhost:8080/"
        },
        "id": "A30y0TICOkFa",
        "outputId": "cf50ec21-b619-4b1f-f13e-976c3452238e"
      },
      "source": [
        "my_list = ['Quant','Connect',1,2,3]\n",
        "print(my_list[1:])"
      ],
      "execution_count": 29,
      "outputs": [
        {
          "output_type": "stream",
          "name": "stdout",
          "text": [
            "['Connect', 1, 2, 3]\n"
          ]
        }
      ]
    },
    {
      "cell_type": "code",
      "metadata": {
        "colab": {
          "base_uri": "https://localhost:8080/"
        },
        "id": "jkHi3XgtOnf4",
        "outputId": "90afffd5-9afb-4348-a92a-bd17fb6fcc3e"
      },
      "source": [
        "my_list = ['Fresa','Piña',1,2,3, '*', 25, 'Botas']\n",
        "print(my_list[1:])"
      ],
      "execution_count": 30,
      "outputs": [
        {
          "output_type": "stream",
          "name": "stdout",
          "text": [
            "['Piña', 1, 2, 3, '*', 25, 'Botas']\n"
          ]
        }
      ]
    },
    {
      "cell_type": "code",
      "metadata": {
        "colab": {
          "base_uri": "https://localhost:8080/"
        },
        "id": "BEYhrrBgOtas",
        "outputId": "8a4c8631-a989-433e-e013-c012ed135fbc"
      },
      "source": [
        "my_list = ['Quant','Connect',1,2,3]\n",
        "print(my_list[:3])"
      ],
      "execution_count": 31,
      "outputs": [
        {
          "output_type": "stream",
          "name": "stdout",
          "text": [
            "['Quant', 'Connect', 1]\n"
          ]
        }
      ]
    },
    {
      "cell_type": "code",
      "metadata": {
        "colab": {
          "base_uri": "https://localhost:8080/"
        },
        "id": "429WCGbWOx9E",
        "outputId": "828e699d-3c56-4bfa-bf51-8aaa479607ea"
      },
      "source": [
        "my_list = ['Fresa','Piña',1,2,3, '*', 25, 'Botas']\n",
        "print(my_list[:5])"
      ],
      "execution_count": 33,
      "outputs": [
        {
          "output_type": "stream",
          "name": "stdout",
          "text": [
            "['Fresa', 'Piña', 1, 2, 3]\n"
          ]
        }
      ]
    },
    {
      "cell_type": "code",
      "metadata": {
        "colab": {
          "base_uri": "https://localhost:8080/"
        },
        "id": "QmfaTdYjO4Ax",
        "outputId": "9108193c-aa9a-4543-8386-cbfdbcc18864"
      },
      "source": [
        "my_list = ['Hello', 'Quant']\n",
        "my_list.append('Hello')\n",
        "print(my_list)\n",
        "my_list.remove('Hello')\n",
        "print(my_list)"
      ],
      "execution_count": 34,
      "outputs": [
        {
          "output_type": "stream",
          "name": "stdout",
          "text": [
            "['Hello', 'Quant', 'Hello']\n",
            "['Quant', 'Hello']\n"
          ]
        }
      ]
    },
    {
      "cell_type": "code",
      "metadata": {
        "colab": {
          "base_uri": "https://localhost:8080/"
        },
        "id": "E6dtxHRzO9Hj",
        "outputId": "cfe4a752-9ac6-46e5-cdcf-d9d86a75b89c"
      },
      "source": [
        "my_list = ['Fresa', 'Piña', 2, 4, 6]\n",
        "my_list.append(9)\n",
        "print(my_list)\n",
        "my_list.remove('Piña')\n",
        "print(my_list)"
      ],
      "execution_count": 35,
      "outputs": [
        {
          "output_type": "stream",
          "name": "stdout",
          "text": [
            "['Fresa', 'Piña', 2, 4, 6, 9]\n",
            "['Fresa', 2, 4, 6, 9]\n"
          ]
        }
      ]
    },
    {
      "cell_type": "code",
      "metadata": {
        "colab": {
          "base_uri": "https://localhost:8080/"
        },
        "id": "gaPegV_cPF7J",
        "outputId": "c36778a4-f0c5-48fb-9808-712b0bd08283"
      },
      "source": [
        "my_tuple = ('Welcome','to','QuantConnect')\n",
        "print(my_tuple)"
      ],
      "execution_count": 36,
      "outputs": [
        {
          "output_type": "stream",
          "name": "stdout",
          "text": [
            "('Welcome', 'to', 'QuantConnect')\n"
          ]
        }
      ]
    },
    {
      "cell_type": "code",
      "metadata": {
        "colab": {
          "base_uri": "https://localhost:8080/"
        },
        "id": "mPSTbPLsPPYZ",
        "outputId": "dffe15b8-5975-4ee2-a454-b9feff397893"
      },
      "source": [
        "my_tuple = ('QuantConnect', 'tutorial', 'series')\n",
        "print(my_tuple)"
      ],
      "execution_count": 37,
      "outputs": [
        {
          "output_type": "stream",
          "name": "stdout",
          "text": [
            "('QuantConnect', 'tutorial', 'series')\n"
          ]
        }
      ]
    },
    {
      "cell_type": "code",
      "metadata": {
        "colab": {
          "base_uri": "https://localhost:8080/"
        },
        "id": "vEfK2IQ9PaLJ",
        "outputId": "b4a11c91-e787-4a52-918b-6338662127d4"
      },
      "source": [
        "my_tuple = ('Welcome','to','QuantConnect')\n",
        "print(my_tuple[1:])"
      ],
      "execution_count": 38,
      "outputs": [
        {
          "output_type": "stream",
          "name": "stdout",
          "text": [
            "('to', 'QuantConnect')\n"
          ]
        }
      ]
    },
    {
      "cell_type": "code",
      "metadata": {
        "colab": {
          "base_uri": "https://localhost:8080/"
        },
        "id": "Wqth2e8zPcZc",
        "outputId": "d16027cf-5ea3-4e65-bc67-5a361cbc1650"
      },
      "source": [
        "my_tuple = ('QuantConnect', 'tutorial', 'series')\n",
        "print(my_tuple[1:])\n",
        "print(my_tuple[:2])"
      ],
      "execution_count": 42,
      "outputs": [
        {
          "output_type": "stream",
          "name": "stdout",
          "text": [
            "('tutorial', 'series')\n",
            "('QuantConnect', 'tutorial')\n"
          ]
        }
      ]
    },
    {
      "cell_type": "code",
      "metadata": {
        "colab": {
          "base_uri": "https://localhost:8080/"
        },
        "id": "LvYQETyoPvke",
        "outputId": "192d7b51-3b5f-44e5-f566-96ab2d9f1c34"
      },
      "source": [
        "stock_list = ['AAPL','GOOG','IBM','AAPL','IBM','FB','F','GOOG']\n",
        "stock_set = set(stock_list)\n",
        "print(stock_set)"
      ],
      "execution_count": 43,
      "outputs": [
        {
          "output_type": "stream",
          "name": "stdout",
          "text": [
            "{'F', 'FB', 'AAPL', 'IBM', 'GOOG'}\n"
          ]
        }
      ]
    },
    {
      "cell_type": "code",
      "metadata": {
        "colab": {
          "base_uri": "https://localhost:8080/"
        },
        "id": "90c0G0o3P4sc",
        "outputId": "e074eef0-593d-435a-c6ac-a1da030903dd"
      },
      "source": [
        "stock_list = ['Fresa', 'Piña', 'Fresa', 'Banano', 23, 28, 9, 23, 'Fresa', 'Piña']\n",
        "stock_set = set(stock_list)\n",
        "print(stock_set)"
      ],
      "execution_count": 44,
      "outputs": [
        {
          "output_type": "stream",
          "name": "stdout",
          "text": [
            "{'Banano', 9, 'Piña', 23, 28, 'Fresa'}\n"
          ]
        }
      ]
    },
    {
      "cell_type": "code",
      "metadata": {
        "colab": {
          "base_uri": "https://localhost:8080/"
        },
        "id": "7nrPK0k2QaNe",
        "outputId": "d29c698c-1d44-4d2a-a231-0fd90464a394"
      },
      "source": [
        "my_dic = {'AAPL': 'Apple', 'FB': 'FaceBook', 'GOOG': 'Alphabet'}\n",
        "print(my_dic['GOOG'])"
      ],
      "execution_count": 46,
      "outputs": [
        {
          "output_type": "stream",
          "name": "stdout",
          "text": [
            "Alphabet\n"
          ]
        }
      ]
    },
    {
      "cell_type": "code",
      "metadata": {
        "colab": {
          "base_uri": "https://localhost:8080/"
        },
        "id": "wgshKIEgQpkE",
        "outputId": "644c2d0d-2384-4cc1-8bbe-db1162a69f8e"
      },
      "source": [
        "my_dic = {'Car': 'Carro', 'Plane': 'Avion', 'Motorcycle': 'Motocicleta'}\n",
        "print(my_dic['Car'])"
      ],
      "execution_count": 47,
      "outputs": [
        {
          "output_type": "stream",
          "name": "stdout",
          "text": [
            "Carro\n"
          ]
        }
      ]
    },
    {
      "cell_type": "code",
      "metadata": {
        "colab": {
          "base_uri": "https://localhost:8080/"
        },
        "id": "1oJkk1qTQ9-c",
        "outputId": "083e7791-fd8d-4753-b186-1952db18c0e7"
      },
      "source": [
        "my_dic = {'AAPL': 'Apple', 'FB': 'FaceBook', 'GOOG': 'Alphabet'}\n",
        "my_dic['GOOG'] = 'Alphabet Company'\n",
        "print(my_dic['GOOG'])"
      ],
      "execution_count": 48,
      "outputs": [
        {
          "output_type": "stream",
          "name": "stdout",
          "text": [
            "Alphabet Company\n"
          ]
        }
      ]
    },
    {
      "cell_type": "code",
      "metadata": {
        "colab": {
          "base_uri": "https://localhost:8080/"
        },
        "id": "MJ48-YAxRGTQ",
        "outputId": "3fb80840-ef6d-4628-ed1b-057f29d56e9b"
      },
      "source": [
        "my_dic = {'Car': 'Carro', 'Plane': 'Avion', 'Motorcycle': 'Motocicleta'}\n",
        "my_dic['Plane'] = 'Aeronave'\n",
        "print(my_dic['Plane'])\n"
      ],
      "execution_count": 49,
      "outputs": [
        {
          "output_type": "stream",
          "name": "stdout",
          "text": [
            "Aeronave\n"
          ]
        }
      ]
    },
    {
      "cell_type": "code",
      "metadata": {
        "colab": {
          "base_uri": "https://localhost:8080/"
        },
        "id": "Pz8UEkE5ReUy",
        "outputId": "d1ec53eb-2aa3-47bc-946f-34e0f480de9c"
      },
      "source": [
        "my_dic = {'AAPL': 'Apple', 'FB': 'FaceBook', 'GOOG': 'Alphabet'}\n",
        "print(my_dic.keys())"
      ],
      "execution_count": 50,
      "outputs": [
        {
          "output_type": "stream",
          "name": "stdout",
          "text": [
            "dict_keys(['AAPL', 'FB', 'GOOG'])\n"
          ]
        }
      ]
    },
    {
      "cell_type": "code",
      "metadata": {
        "colab": {
          "base_uri": "https://localhost:8080/"
        },
        "id": "W-e3ZB5FRnoI",
        "outputId": "35e17a89-3623-4799-e6ad-7121253ec698"
      },
      "source": [
        "my_dic = {'Car': 'Carro', 'Plane': 'Avion', 'Motorcycle': 'Motocicleta'}\n",
        "print(my_dic.keys())"
      ],
      "execution_count": 51,
      "outputs": [
        {
          "output_type": "stream",
          "name": "stdout",
          "text": [
            "dict_keys(['Car', 'Plane', 'Motorcycle'])\n"
          ]
        }
      ]
    },
    {
      "cell_type": "code",
      "metadata": {
        "colab": {
          "base_uri": "https://localhost:8080/"
        },
        "id": "HarBZHgSRuK5",
        "outputId": "6dd27e31-ba2d-4fed-b559-57a8685ec126"
      },
      "source": [
        "my_str = 'Welcome to QuantConnect'\n",
        "print(my_str[8:])"
      ],
      "execution_count": 52,
      "outputs": [
        {
          "output_type": "stream",
          "name": "stdout",
          "text": [
            "to QuantConnect\n"
          ]
        }
      ]
    },
    {
      "cell_type": "code",
      "metadata": {
        "colab": {
          "base_uri": "https://localhost:8080/"
        },
        "id": "a-RROjl9RzZr",
        "outputId": "a9de98cb-feb2-4b25-87d2-c9bd1bd3d46a"
      },
      "source": [
        "my_str = 'Tutorials by Maria Paula'\n",
        "print(my_str[9:])"
      ],
      "execution_count": 53,
      "outputs": [
        {
          "output_type": "stream",
          "name": "stdout",
          "text": [
            " by Maria Paula\n"
          ]
        }
      ]
    },
    {
      "cell_type": "code",
      "metadata": {
        "colab": {
          "base_uri": "https://localhost:8080/"
        },
        "id": "U_pauz7DR8Ze",
        "outputId": "46550800-a177-44bc-8254-f94e7aee19d8"
      },
      "source": [
        "print(\"Counting the number of e's in this sentence\".count('e'))\n",
        "print('The first time e appears in this sentence'.find('e'))\n",
        "print('all the a in this sentence now becomes e'.replace('a','e'))"
      ],
      "execution_count": 54,
      "outputs": [
        {
          "output_type": "stream",
          "name": "stdout",
          "text": [
            "6\n",
            "2\n",
            "ell the e in this sentence now becomes e\n"
          ]
        }
      ]
    },
    {
      "cell_type": "code",
      "metadata": {
        "colab": {
          "base_uri": "https://localhost:8080/"
        },
        "id": "dpSgh2gjSDcx",
        "outputId": "e38233d6-28cc-4ed2-ebd2-34709d98c560"
      },
      "source": [
        "print(\"El numero de a's es esta oracion corresponde a:\".count('a'))\n",
        "print('La primera letra o de esta oracion aparece en la posicion'.find('o'))\n",
        "print('Todas las letras a en esta frase seran remplazadas por la letra o'.replace('a','o'))"
      ],
      "execution_count": 59,
      "outputs": [
        {
          "output_type": "stream",
          "name": "stdout",
          "text": [
            "4\n",
            "17\n",
            "Todos los letros o en esto frose seron remplozodos por lo letro o\n"
          ]
        }
      ]
    },
    {
      "cell_type": "code",
      "metadata": {
        "colab": {
          "base_uri": "https://localhost:8080/"
        },
        "id": "4xp_wBzAS3PV",
        "outputId": "ede4ed28-576c-4cff-dc70-cf41e57d8f34"
      },
      "source": [
        "Time = '2016-04-01 09:43:00'\n",
        "splited_list = Time.split(' ')\n",
        "date = splited_list[0]\n",
        "time = splited_list[1]\n",
        "print(date, time)\n",
        "hour = time.split(':')[0]\n",
        "print(hour)"
      ],
      "execution_count": 70,
      "outputs": [
        {
          "output_type": "stream",
          "name": "stdout",
          "text": [
            "2016-04-01 09:43:00\n",
            "09\n"
          ]
        }
      ]
    },
    {
      "cell_type": "code",
      "metadata": {
        "colab": {
          "base_uri": "https://localhost:8080/"
        },
        "id": "kTZ5ycaVTuPH",
        "outputId": "27f82b83-a303-4ae8-b509-1037efd54357"
      },
      "source": [
        "Time = '12 Octubre 2021 09:43:00 Siglo XXI '\n",
        "splited_list = Time.split(' ')\n",
        "day = splited_list[0]\n",
        "month = splited_list[1]\n",
        "year= splited_list[2]\n",
        "print(day, month, year)\n",
        "hour = time.split(':')[0]\n",
        "century = splited_list[5]\n",
        "print(hour)\n",
        "print(century)"
      ],
      "execution_count": 74,
      "outputs": [
        {
          "output_type": "stream",
          "name": "stdout",
          "text": [
            "12 Octubre 2021\n",
            "09\n",
            "XXI\n"
          ]
        }
      ]
    },
    {
      "cell_type": "code",
      "metadata": {
        "colab": {
          "base_uri": "https://localhost:8080/"
        },
        "id": "3Gp6rgL9UdHP",
        "outputId": "88f84074-53ac-49d2-a1ac-be4412d62beb"
      },
      "source": [
        "my_time = 'Hour: {}, Minute: {}'.format(9, 43)\n",
        "print(my_time)"
      ],
      "execution_count": 75,
      "outputs": [
        {
          "output_type": "stream",
          "name": "stdout",
          "text": [
            "Hour: 9, Minute: 43\n"
          ]
        }
      ]
    },
    {
      "cell_type": "code",
      "metadata": {
        "colab": {
          "base_uri": "https://localhost:8080/"
        },
        "id": "aHqEFtpSUhYI",
        "outputId": "d97ef98f-b195-4539-8bd8-bc272b6cf49e"
      },
      "source": [
        "my_time = 'Day: {}, Month: {}'.format(12, 10)\n",
        "print(my_time)"
      ],
      "execution_count": 76,
      "outputs": [
        {
          "output_type": "stream",
          "name": "stdout",
          "text": [
            "Day: 12, Month: 10\n"
          ]
        }
      ]
    },
    {
      "cell_type": "code",
      "metadata": {
        "colab": {
          "base_uri": "https://localhost:8080/"
        },
        "id": "6n71Q60FUotT",
        "outputId": "05342e72-8843-4e4f-8af0-07a7e427666b"
      },
      "source": [
        "print ('pi is %f' % (3.14))\n",
        "print('%s to %s' % ('Welcome', 'QuantConnect'))"
      ],
      "execution_count": 79,
      "outputs": [
        {
          "output_type": "stream",
          "name": "stdout",
          "text": [
            "pi is 3.140000\n",
            "Welcome to QuantConnect\n"
          ]
        }
      ]
    },
    {
      "cell_type": "code",
      "metadata": {
        "colab": {
          "base_uri": "https://localhost:8080/"
        },
        "id": "X5DuxpfaUyvQ",
        "outputId": "4a79f269-ea7f-4b60-d174-4677496f6ae5"
      },
      "source": [
        "print ('The %s comes from %s' % ('tutorial', 'QuantConnect'))\n",
        "print ('%f is a %s number' % (29.18, 'float'))"
      ],
      "execution_count": 86,
      "outputs": [
        {
          "output_type": "stream",
          "name": "stdout",
          "text": [
            "The tutorial comes from QuantConnect\n",
            "29.180000 is a float number\n"
          ]
        }
      ]
    },
    {
      "cell_type": "markdown",
      "metadata": {
        "id": "Z1RIFVAhaQb_"
      },
      "source": [
        "# Tutorial 2"
      ]
    },
    {
      "cell_type": "code",
      "metadata": {
        "colab": {
          "base_uri": "https://localhost:8080/"
        },
        "id": "epQF3uqFaWaF",
        "outputId": "0d23c64d-d10a-45ea-92da-21f0f740e055"
      },
      "source": [
        "print (1 == 0)    # 1 equals 0\n",
        "print (1 == 1)    # 1 equals 1\n",
        "print (1 != 0)    # 1 is not equal to 0\n",
        "print (5 >= 5)    # 5 is greater than or equal to 5\n",
        "print (5 >= 6)   # 5 is greater than or equal to 6"
      ],
      "execution_count": 88,
      "outputs": [
        {
          "output_type": "stream",
          "name": "stdout",
          "text": [
            "False\n",
            "True\n",
            "True\n",
            "True\n",
            "False\n"
          ]
        }
      ]
    },
    {
      "cell_type": "code",
      "metadata": {
        "colab": {
          "base_uri": "https://localhost:8080/"
        },
        "id": "-qt5fFCKapWa",
        "outputId": "23d8111f-7342-4fad-fb4e-25e994bbec4f"
      },
      "source": [
        "print (2 == 2)    # 1 equals 0\n",
        "print ('Perro' == 'Gato')    # 1 equals 1\n",
        "print ('Piña' != 'Fresa')    # 1 is not equal to 0\n",
        "print (10 >= 5)    # 5 is greater than or equal to 5\n",
        "print (0 >= 8)   # 5 is greater than or equal to 6"
      ],
      "execution_count": 89,
      "outputs": [
        {
          "output_type": "stream",
          "name": "stdout",
          "text": [
            "True\n",
            "False\n",
            "True\n",
            "True\n",
            "False\n"
          ]
        }
      ]
    },
    {
      "cell_type": "code",
      "metadata": {
        "colab": {
          "base_uri": "https://localhost:8080/"
        },
        "id": "ezkYuDgia8EH",
        "outputId": "79e6e368-34f4-4c5f-c802-535fd633d67e"
      },
      "source": [
        "print (2 > 1 and 3 > 2)\n",
        "print (2 > 1 and 3 < 2)\n",
        "print (2 > 1 or  3 < 2)\n",
        "print (2 < 1 and 3 < 2)"
      ],
      "execution_count": 90,
      "outputs": [
        {
          "output_type": "stream",
          "name": "stdout",
          "text": [
            "True\n",
            "False\n",
            "True\n",
            "False\n"
          ]
        }
      ]
    },
    {
      "cell_type": "code",
      "metadata": {
        "colab": {
          "base_uri": "https://localhost:8080/"
        },
        "id": "F73UFSGibFgz",
        "outputId": "343a6db9-0148-42c0-8b56-625d717cd4a1"
      },
      "source": [
        "print (50 > 1 and -90 > 2)\n",
        "print ('Perro' == 'Perro' and 'Gato' == 'Gato')\n",
        "print (60 > 90 or  200 < 190)\n",
        "print (8 < 108 or 890 > 10000)"
      ],
      "execution_count": 92,
      "outputs": [
        {
          "output_type": "stream",
          "name": "stdout",
          "text": [
            "False\n",
            "True\n",
            "False\n",
            "True\n"
          ]
        }
      ]
    },
    {
      "cell_type": "code",
      "metadata": {
        "colab": {
          "base_uri": "https://localhost:8080/"
        },
        "id": "gUWynaIzbn_v",
        "outputId": "68e3e0db-01fc-4896-f3a7-cc4d90fcdc80"
      },
      "source": [
        "print ((3 > 2 or 1 < 3) and (1!=3 and 4>3) and not ( 3 < 2 or 1 < 3 and (1!=3 and 4>3)))\n",
        "print (3 > 2 or 1 < 3) and (1!=3 and 4>3) and not ( 3 < 2 or 1 < 3 and (1!=3 and 4>3))"
      ],
      "execution_count": 97,
      "outputs": [
        {
          "output_type": "stream",
          "name": "stdout",
          "text": [
            "False\n",
            "True\n"
          ]
        }
      ]
    },
    {
      "cell_type": "code",
      "metadata": {
        "colab": {
          "base_uri": "https://localhost:8080/"
        },
        "id": "IEjnOpqocKN-",
        "outputId": "3c74f67a-72ad-4f17-923b-9bd8d13e5db9"
      },
      "source": [
        "print ((70 > 89 or 100 < 200) and ('Perro' != 'Gato' and 200 > 199 ) and not ( 'Carro' == 'Carro' or 130394 < 10 and ('Uva' != 'Fresa' and 19 > 18)))\n",
        "print (70 > 89 or 100 < 200) and ('Perro' != 'Gato' and 200 > 199 ) and not ( 'Carro' != 'Carro' or 130394 < 10 and ('Uva' != 'Fresa' and 19 > 18))"
      ],
      "execution_count": 100,
      "outputs": [
        {
          "output_type": "stream",
          "name": "stdout",
          "text": [
            "False\n",
            "True\n"
          ]
        }
      ]
    },
    {
      "cell_type": "code",
      "metadata": {
        "colab": {
          "base_uri": "https://localhost:8080/"
        },
        "id": "BMCMSPiJddRW",
        "outputId": "1ad25c9b-2b03-4801-f583-597ac6443d11"
      },
      "source": [
        "i = 0\n",
        "if i == 0: print ('i == 0 is True')"
      ],
      "execution_count": 102,
      "outputs": [
        {
          "output_type": "stream",
          "name": "stdout",
          "text": [
            "i == 0 is True\n"
          ]
        }
      ]
    },
    {
      "cell_type": "code",
      "metadata": {
        "colab": {
          "base_uri": "https://localhost:8080/"
        },
        "id": "BHq02tFQdixq",
        "outputId": "e06482e1-d588-4e69-fff2-99d29420d41c"
      },
      "source": [
        "i = 10\n",
        "if (i >= 9): \n",
        "  print ('i == 10 is true')"
      ],
      "execution_count": 111,
      "outputs": [
        {
          "output_type": "stream",
          "name": "stdout",
          "text": [
            "i == 10 is true\n"
          ]
        }
      ]
    },
    {
      "cell_type": "code",
      "metadata": {
        "colab": {
          "base_uri": "https://localhost:8080/"
        },
        "id": "qyh4SAhLeQid",
        "outputId": "e5a535d7-2809-4f37-96a5-fea17fddc8ed"
      },
      "source": [
        "p = 1 > 0\n",
        "q = 2 > 3\n",
        "if p and q:\n",
        "    print ('p and q is true')\n",
        "elif p and not q:\n",
        "    print ('q is false')\n",
        "elif q and not p:\n",
        "    print ('p is false')\n",
        "else:\n",
        "    print ('None of p and q is true')"
      ],
      "execution_count": 113,
      "outputs": [
        {
          "output_type": "stream",
          "name": "stdout",
          "text": [
            "q is false\n"
          ]
        }
      ]
    },
    {
      "cell_type": "code",
      "metadata": {
        "colab": {
          "base_uri": "https://localhost:8080/"
        },
        "id": "aoy_-0APeX4D",
        "outputId": "a4c0e04a-f94b-40d1-d545-6a234a790e68"
      },
      "source": [
        "q = 10 > 9 \n",
        "p = 'Perro' == 'Carro'\n",
        "if p and q:\n",
        "    print ('p and q is true')\n",
        "elif p and not q:\n",
        "    print ('q is false')\n",
        "elif q and not p:\n",
        "    print ('p is false')\n",
        "else:\n",
        "    print ('None of p and q is true')"
      ],
      "execution_count": 115,
      "outputs": [
        {
          "output_type": "stream",
          "name": "stdout",
          "text": [
            "p is false\n"
          ]
        }
      ]
    },
    {
      "cell_type": "code",
      "metadata": {
        "colab": {
          "base_uri": "https://localhost:8080/"
        },
        "id": "Yhd6Q-5-hE7e",
        "outputId": "5e93061f-df78-4870-d611-d390cfd0e54d"
      },
      "source": [
        "i = 0\n",
        "while i < 5:\n",
        "    print (i)\n",
        "    i += 1"
      ],
      "execution_count": 117,
      "outputs": [
        {
          "output_type": "stream",
          "name": "stdout",
          "text": [
            "0\n",
            "1\n",
            "2\n",
            "3\n",
            "4\n"
          ]
        }
      ]
    },
    {
      "cell_type": "code",
      "metadata": {
        "colab": {
          "base_uri": "https://localhost:8080/"
        },
        "id": "pudKBoL_hJZ3",
        "outputId": "8163e819-3259-4595-8100-f48c21b763e6"
      },
      "source": [
        "i = 7;\n",
        "while (i < 20):\n",
        "  print (i)\n",
        "  i = i+2"
      ],
      "execution_count": 118,
      "outputs": [
        {
          "output_type": "stream",
          "name": "stdout",
          "text": [
            "7\n",
            "9\n",
            "11\n",
            "13\n",
            "15\n",
            "17\n",
            "19\n"
          ]
        }
      ]
    },
    {
      "cell_type": "code",
      "metadata": {
        "colab": {
          "base_uri": "https://localhost:8080/"
        },
        "id": "TGnsQbdj5AbK",
        "outputId": "7a961443-7903-4c72-fe7d-f8e26def5f72"
      },
      "source": [
        "for x in [1,2,3,4,5]:\n",
        "   print (x)"
      ],
      "execution_count": 2,
      "outputs": [
        {
          "output_type": "stream",
          "name": "stdout",
          "text": [
            "1\n",
            "2\n",
            "3\n",
            "4\n",
            "5\n"
          ]
        }
      ]
    },
    {
      "cell_type": "code",
      "metadata": {
        "colab": {
          "base_uri": "https://localhost:8080/"
        },
        "id": "q7OTUGVx5Ipr",
        "outputId": "a40e7a63-de5e-4080-9abb-5f603418babf"
      },
      "source": [
        "for x in ['Perro', 'Gato', 'Leon', 'Araña']:\n",
        "   print (x)"
      ],
      "execution_count": 3,
      "outputs": [
        {
          "output_type": "stream",
          "name": "stdout",
          "text": [
            "Perro\n",
            "Gato\n",
            "Leon\n",
            "Araña\n"
          ]
        }
      ]
    },
    {
      "cell_type": "code",
      "metadata": {
        "colab": {
          "base_uri": "https://localhost:8080/"
        },
        "id": "SbJ8xXS55SyY",
        "outputId": "97b97c20-fc02-45f2-e14e-522ebccd4b8a"
      },
      "source": [
        "stocks = ['AAPL','GOOG','IBM','FB','F','V', 'G', 'GE']\n",
        "selected = ['AAPL','IBM']\n",
        "new_list = []\n",
        "for stock in stocks:\n",
        "    if stock not in selected:\n",
        "        new_list.append(stock)\n",
        "print (new_list)"
      ],
      "execution_count": 4,
      "outputs": [
        {
          "output_type": "stream",
          "name": "stdout",
          "text": [
            "['GOOG', 'FB', 'F', 'V', 'G', 'GE']\n"
          ]
        }
      ]
    },
    {
      "cell_type": "code",
      "metadata": {
        "colab": {
          "base_uri": "https://localhost:8080/"
        },
        "id": "d6kfnOvx5lls",
        "outputId": "99b6d154-ef24-4455-d69e-7a0683e122fb"
      },
      "source": [
        "stocks = ['Perro', 'Gato', 'Leon', 'Araña', 1, 2, 3, 4, 5]\n",
        "selected = ['Gato', 2, 5]\n",
        "new_list = []\n",
        "for stock in stocks:\n",
        "    if stock not in selected:\n",
        "        new_list.append(stock)\n",
        "print (new_list)"
      ],
      "execution_count": 5,
      "outputs": [
        {
          "output_type": "stream",
          "name": "stdout",
          "text": [
            "['Perro', 'Leon', 'Araña', 1, 3, 4]\n"
          ]
        }
      ]
    },
    {
      "cell_type": "code",
      "metadata": {
        "colab": {
          "base_uri": "https://localhost:8080/"
        },
        "id": "FY3-v9pC51MP",
        "outputId": "19603ea5-9c34-4e31-fb06-bae234ba9a1d"
      },
      "source": [
        "stocks = ['AAPL','GOOG','IBM','FB','F','V', 'G', 'GE']\n",
        "for stock in stocks:\n",
        "    print (stock)\n",
        "    if stock == 'FB':\n",
        "       break"
      ],
      "execution_count": 6,
      "outputs": [
        {
          "output_type": "stream",
          "name": "stdout",
          "text": [
            "AAPL\n",
            "GOOG\n",
            "IBM\n",
            "FB\n"
          ]
        }
      ]
    },
    {
      "cell_type": "code",
      "metadata": {
        "colab": {
          "base_uri": "https://localhost:8080/"
        },
        "id": "kYtq7sDQ58Sw",
        "outputId": "c7dcd38d-c73a-4116-d8a3-1e8ac20517a9"
      },
      "source": [
        "stocks = ['Perro', 'Gato', 'Leon', 'Araña', 1, 2, 3, 4, 5]\n",
        "for stock in stocks:\n",
        "    print (stock)\n",
        "    if stock == 'Leon':\n",
        "       break"
      ],
      "execution_count": 7,
      "outputs": [
        {
          "output_type": "stream",
          "name": "stdout",
          "text": [
            "Perro\n",
            "Gato\n",
            "Leon\n"
          ]
        }
      ]
    },
    {
      "cell_type": "code",
      "metadata": {
        "colab": {
          "base_uri": "https://localhost:8080/"
        },
        "id": "JSw8bHXA6D72",
        "outputId": "79e22cc4-c290-49dc-ea00-bc7e42759d7d"
      },
      "source": [
        "stocks = ['AAPL','GOOG','IBM','FB','F','V', 'G', 'GE']\n",
        "for stock in stocks:\n",
        "    if stock == 'FB': \n",
        "      continue\n",
        "    print (stock)"
      ],
      "execution_count": 9,
      "outputs": [
        {
          "output_type": "stream",
          "name": "stdout",
          "text": [
            "AAPL\n",
            "GOOG\n",
            "IBM\n",
            "F\n",
            "V\n",
            "G\n",
            "GE\n"
          ]
        }
      ]
    },
    {
      "cell_type": "code",
      "metadata": {
        "colab": {
          "base_uri": "https://localhost:8080/"
        },
        "id": "k08v1uZZ6QGB",
        "outputId": "9e687b23-31f0-4ab7-a063-0c0876f70913"
      },
      "source": [
        "stocks = ['Perro', 'Gato', 'Leon', 'Araña', 1, 2, 3, 4, 5]\n",
        "for stock in stocks:\n",
        "    if stock == 'Araña': \n",
        "      continue\n",
        "    print (stock)"
      ],
      "execution_count": 10,
      "outputs": [
        {
          "output_type": "stream",
          "name": "stdout",
          "text": [
            "Perro\n",
            "Gato\n",
            "Leon\n",
            "1\n",
            "2\n",
            "3\n",
            "4\n",
            "5\n"
          ]
        }
      ]
    },
    {
      "cell_type": "code",
      "metadata": {
        "colab": {
          "base_uri": "https://localhost:8080/"
        },
        "id": "PMUY1ieX6V9o",
        "outputId": "cf6d0bee-efc3-4cdb-90fd-8505454e48d1"
      },
      "source": [
        "squares = []\n",
        "for i in [1,2,3,4,5]:\n",
        "    squares.append(i**2)\n",
        "print (squares)"
      ],
      "execution_count": 11,
      "outputs": [
        {
          "output_type": "stream",
          "name": "stdout",
          "text": [
            "[1, 4, 9, 16, 25]\n"
          ]
        }
      ]
    },
    {
      "cell_type": "code",
      "metadata": {
        "colab": {
          "base_uri": "https://localhost:8080/"
        },
        "id": "dlrH32956a40",
        "outputId": "0c51bbfa-eab6-4d91-fbfc-0dc47e4c56c8"
      },
      "source": [
        "div = []\n",
        "for i in [2, 4, 6, 8, 10]:\n",
        "    div.append(i/2)\n",
        "print (div)"
      ],
      "execution_count": 12,
      "outputs": [
        {
          "output_type": "stream",
          "name": "stdout",
          "text": [
            "[1.0, 2.0, 3.0, 4.0, 5.0]\n"
          ]
        }
      ]
    },
    {
      "cell_type": "code",
      "metadata": {
        "colab": {
          "base_uri": "https://localhost:8080/"
        },
        "id": "Z8cuvkIh6nID",
        "outputId": "336de27a-e876-43b5-c639-306bd46d41d4"
      },
      "source": [
        "foo = [1,2,3,4,5]\n",
        "squares = [x**2 for x in foo]\n",
        "print (squares)"
      ],
      "execution_count": 13,
      "outputs": [
        {
          "output_type": "stream",
          "name": "stdout",
          "text": [
            "[1, 4, 9, 16, 25]\n"
          ]
        }
      ]
    },
    {
      "cell_type": "code",
      "metadata": {
        "colab": {
          "base_uri": "https://localhost:8080/"
        },
        "id": "1Y4CE0Eh6riR",
        "outputId": "83c3a810-b96d-4212-e8e6-893c7cff4229"
      },
      "source": [
        "foo = [2, 4, 6, 8, 10]\n",
        "div = [x/2 for x in foo]\n",
        "print (div)"
      ],
      "execution_count": 14,
      "outputs": [
        {
          "output_type": "stream",
          "name": "stdout",
          "text": [
            "[1.0, 2.0, 3.0, 4.0, 5.0]\n"
          ]
        }
      ]
    },
    {
      "cell_type": "code",
      "metadata": {
        "colab": {
          "base_uri": "https://localhost:8080/"
        },
        "id": "pc37fDWi60Js",
        "outputId": "30fe1761-bb90-46e6-d16c-6dcb69acd8e3"
      },
      "source": [
        "stocks = ['AAPL','GOOG','IBM','FB','F','V', 'G', 'GE']\n",
        "selected = ['AAPL','IBM']\n",
        "new_list = [x for x in stocks if x not in selected]\n",
        "print (new_list)"
      ],
      "execution_count": 15,
      "outputs": [
        {
          "output_type": "stream",
          "name": "stdout",
          "text": [
            "['GOOG', 'FB', 'F', 'V', 'G', 'GE']\n"
          ]
        }
      ]
    },
    {
      "cell_type": "code",
      "metadata": {
        "colab": {
          "base_uri": "https://localhost:8080/"
        },
        "id": "E7Lr9ffQ7Ehg",
        "outputId": "62cff0c0-1b47-4a9f-946f-4a7c05382450"
      },
      "source": [
        "stocks = ['Perro', 'Gato', 'Leon', 'Araña', 1, 2, 3, 4, 5]\n",
        "selected = ['Leon',2, 3]\n",
        "new_list = [x for x in stocks if x not in selected]\n",
        "print (new_list)"
      ],
      "execution_count": 16,
      "outputs": [
        {
          "output_type": "stream",
          "name": "stdout",
          "text": [
            "['Perro', 'Gato', 'Araña', 1, 4, 5]\n"
          ]
        }
      ]
    },
    {
      "cell_type": "code",
      "metadata": {
        "colab": {
          "base_uri": "https://localhost:8080/"
        },
        "id": "qmvRR5Lq7Omf",
        "outputId": "328e4558-8ad9-44c8-a29f-d286de035904"
      },
      "source": [
        "print ([(x, y) for x in [1,2,3] for y in [3,1,4] if x != y])\n",
        "print ([str(x) + ' vs ' + str(y) for x in ['AAPL','GOOG','IBM','FB']\n",
        "                                for y in ['F','V','G','GE'] if x != y])"
      ],
      "execution_count": 18,
      "outputs": [
        {
          "output_type": "stream",
          "name": "stdout",
          "text": [
            "[(1, 3), (1, 4), (2, 3), (2, 1), (2, 4), (3, 1), (3, 4)]\n",
            "['AAPL vs F', 'AAPL vs V', 'AAPL vs G', 'AAPL vs GE', 'GOOG vs F', 'GOOG vs V', 'GOOG vs G', 'GOOG vs GE', 'IBM vs F', 'IBM vs V', 'IBM vs G', 'IBM vs GE', 'FB vs F', 'FB vs V', 'FB vs G', 'FB vs GE']\n"
          ]
        }
      ]
    },
    {
      "cell_type": "code",
      "metadata": {
        "colab": {
          "base_uri": "https://localhost:8080/"
        },
        "id": "mrrfP9oI7ixf",
        "outputId": "9085b482-cf35-463e-c0af-9461ae0bd819"
      },
      "source": [
        "print ([(x,y) for x in [10, 15 , 22] for y in [2, 5, 8] if x % y != 0])\n",
        "print ([str(x) + ' ' + str(y) for x in ['Maria','Ana','Luisa']\n",
        "                                for y in ['Paula','Veronica','Maria','Ana'] if x != y])"
      ],
      "execution_count": 23,
      "outputs": [
        {
          "output_type": "stream",
          "name": "stdout",
          "text": [
            "[(10, 8), (15, 2), (15, 8), (22, 5), (22, 8)]\n",
            "['Maria Paula', 'Maria Veronica', 'Maria Ana', 'Ana Paula', 'Ana Veronica', 'Ana Maria', 'Luisa Paula', 'Luisa Veronica', 'Luisa Maria', 'Luisa Ana']\n"
          ]
        }
      ]
    },
    {
      "cell_type": "markdown",
      "metadata": {
        "id": "hKpRqkG2-bYt"
      },
      "source": [
        "# Tutorial 3"
      ]
    },
    {
      "cell_type": "code",
      "metadata": {
        "colab": {
          "base_uri": "https://localhost:8080/"
        },
        "id": "6_7RbTYD-eo5",
        "outputId": "7b123e6f-096d-4f6e-ff07-c748259390f0"
      },
      "source": [
        "def product(x,y):\n",
        "    return x*y\n",
        "print (product(2,3))\n",
        "print (product(5,10))"
      ],
      "execution_count": 25,
      "outputs": [
        {
          "output_type": "stream",
          "name": "stdout",
          "text": [
            "6\n",
            "50\n"
          ]
        }
      ]
    },
    {
      "cell_type": "code",
      "metadata": {
        "colab": {
          "base_uri": "https://localhost:8080/"
        },
        "id": "z0FvwGn--phs",
        "outputId": "d1e50884-13ac-4754-e8ae-b1207500ac24"
      },
      "source": [
        "def division(x,y):\n",
        "    return x/y\n",
        "print (division(10,2))\n",
        "print (division(50,7))"
      ],
      "execution_count": 27,
      "outputs": [
        {
          "output_type": "stream",
          "name": "stdout",
          "text": [
            "5.0\n",
            "7.142857142857143\n"
          ]
        }
      ]
    },
    {
      "cell_type": "code",
      "metadata": {
        "colab": {
          "base_uri": "https://localhost:8080/"
        },
        "id": "p0nGGURi-3eR",
        "outputId": "d2c58722-245f-4fa3-a193-97bd23541306"
      },
      "source": [
        "def say_hi():\n",
        "    print ('Welcome to QuantConnect')\n",
        "say_hi()"
      ],
      "execution_count": 28,
      "outputs": [
        {
          "output_type": "stream",
          "name": "stdout",
          "text": [
            "Welcome to QuantConnect\n"
          ]
        }
      ]
    },
    {
      "cell_type": "code",
      "metadata": {
        "colab": {
          "base_uri": "https://localhost:8080/"
        },
        "id": "fOgTi0kf-9k9",
        "outputId": "a55cfd27-9265-41d7-ed33-02c555f80d60"
      },
      "source": [
        "def say_hi():\n",
        "    print ('Tutorial series by QuantConnect')\n",
        "say_hi()"
      ],
      "execution_count": 29,
      "outputs": [
        {
          "output_type": "stream",
          "name": "stdout",
          "text": [
            "Tutorial series by QuantConnect\n"
          ]
        }
      ]
    },
    {
      "cell_type": "code",
      "metadata": {
        "colab": {
          "base_uri": "https://localhost:8080/"
        },
        "id": "YoFLhKOl_HEw",
        "outputId": "23479895-8136-4b1d-bbc9-f8d40f127424"
      },
      "source": [
        "My_list1 = [*range(10)]\n",
        "print(My_list1)\n",
        "My_list2 = [*range(1, 11)]\n",
        "print(My_list2)\n",
        "My_list3 = [*range(1, 11, 2)]\n",
        "print(My_list3)"
      ],
      "execution_count": 40,
      "outputs": [
        {
          "output_type": "stream",
          "name": "stdout",
          "text": [
            "[0, 1, 2, 3, 4, 5, 6, 7, 8, 9]\n",
            "[1, 2, 3, 4, 5, 6, 7, 8, 9, 10]\n",
            "[1, 3, 5, 7, 9]\n"
          ]
        }
      ]
    },
    {
      "cell_type": "code",
      "metadata": {
        "colab": {
          "base_uri": "https://localhost:8080/"
        },
        "id": "2f-pFwafApc4",
        "outputId": "a0a90f1c-ad06-469c-b47f-b250775a2413"
      },
      "source": [
        "My_list = [*range(11, 17, 2)]\n",
        "print(My_list)"
      ],
      "execution_count": 49,
      "outputs": [
        {
          "output_type": "stream",
          "name": "stdout",
          "text": [
            "[11, 13, 15]\n"
          ]
        }
      ]
    },
    {
      "cell_type": "code",
      "metadata": {
        "colab": {
          "base_uri": "https://localhost:8080/"
        },
        "id": "XCe3A2gkH9RJ",
        "outputId": "c77c6f5a-f200-4d80-87e2-a3cfce69c8df"
      },
      "source": [
        "tickers = ['AAPL', 'GOOGL', 'IBM', 'FB', 'F', 'V', 'G', 'GE']\n",
        "print (\"The number of tickers is {}\".format(len(tickers)))\n",
        "for k in range(len(tickers)):\n",
        "    print (k + 1, tickers[k])"
      ],
      "execution_count": 51,
      "outputs": [
        {
          "output_type": "stream",
          "name": "stdout",
          "text": [
            "The number of tickers is 8\n",
            "1 AAPL\n",
            "2 GOOGL\n",
            "3 IBM\n",
            "4 FB\n",
            "5 F\n",
            "6 V\n",
            "7 G\n",
            "8 GE\n"
          ]
        }
      ]
    },
    {
      "cell_type": "code",
      "metadata": {
        "colab": {
          "base_uri": "https://localhost:8080/"
        },
        "id": "jckdqSRXKSL7",
        "outputId": "433c285e-f627-446b-d0f6-a8d50a05e067"
      },
      "source": [
        "tickers = ['Fresa', 'Piña', 109, 383, 5, 'Leon', 'Tigre']\n",
        "print (\"The number of tickers is {}\".format(len(tickers)))\n",
        "for k in range(len(tickers)):\n",
        "    print (k + 1, tickers[k])"
      ],
      "execution_count": 55,
      "outputs": [
        {
          "output_type": "stream",
          "name": "stdout",
          "text": [
            "The number of tickers is 7\n",
            "1 Fresa\n",
            "2 Piña\n",
            "3 1\n",
            "4 3\n",
            "5 5\n",
            "6 Leon\n",
            "7 Tigre\n"
          ]
        }
      ]
    },
    {
      "cell_type": "code",
      "metadata": {
        "colab": {
          "base_uri": "https://localhost:8080/"
        },
        "id": "w_7nJdvTMDwE",
        "outputId": "f37e73e5-8cc7-4b94-8b59-6e042c84729e"
      },
      "source": [
        "tickers = ['AAPL','GOOG','IBM','FB','F','V', 'G', 'GE']\n",
        "print(list(map(len,tickers)))"
      ],
      "execution_count": 56,
      "outputs": [
        {
          "output_type": "stream",
          "name": "stdout",
          "text": [
            "[4, 4, 3, 2, 1, 1, 1, 2]\n"
          ]
        }
      ]
    },
    {
      "cell_type": "code",
      "metadata": {
        "colab": {
          "base_uri": "https://localhost:8080/"
        },
        "id": "IVmuH6epOQX4",
        "outputId": "aed73fee-54a7-4573-86ad-2972b4f60aa1"
      },
      "source": [
        "tickers = ['Fresa', 'Piña', 'Leon', 'Tigre', 'P', 'Y', 'La']\n",
        "print(list(map(len,tickers)))"
      ],
      "execution_count": 59,
      "outputs": [
        {
          "output_type": "stream",
          "name": "stdout",
          "text": [
            "[5, 4, 4, 5, 1, 1, 2]\n"
          ]
        }
      ]
    },
    {
      "cell_type": "code",
      "metadata": {
        "colab": {
          "base_uri": "https://localhost:8080/"
        },
        "id": "DrmqEDIuOs5F",
        "outputId": "4885f5b4-beb3-4120-93b3-6b83f431a0c6"
      },
      "source": [
        "print(list(map(lambda x: x**2, range(10))))"
      ],
      "execution_count": 64,
      "outputs": [
        {
          "output_type": "stream",
          "name": "stdout",
          "text": [
            "[0, 1, 4, 9, 16, 25, 36, 49, 64, 81]\n"
          ]
        }
      ]
    },
    {
      "cell_type": "code",
      "metadata": {
        "colab": {
          "base_uri": "https://localhost:8080/"
        },
        "id": "ClJhAqhiP8Gx",
        "outputId": "66a6ef0e-3583-4825-b089-a290696e6959"
      },
      "source": [
        "print(list(map(lambda x: x/2, range(10, 21))))"
      ],
      "execution_count": 66,
      "outputs": [
        {
          "output_type": "stream",
          "name": "stdout",
          "text": [
            "[5.0, 5.5, 6.0, 6.5, 7.0, 7.5, 8.0, 8.5, 9.0, 9.5, 10.0]\n"
          ]
        }
      ]
    },
    {
      "cell_type": "code",
      "metadata": {
        "colab": {
          "base_uri": "https://localhost:8080/"
        },
        "id": "PV73d43lQPZd",
        "outputId": "fd2952c1-221e-4889-f78d-4ec0859c2dd4"
      },
      "source": [
        "print(list(map(lambda x, y: y-x, [4, 10, 14, 20], [20, 19, 18, 17])))"
      ],
      "execution_count": 68,
      "outputs": [
        {
          "output_type": "stream",
          "name": "stdout",
          "text": [
            "[16, 9, 4, -3]\n"
          ]
        }
      ]
    },
    {
      "cell_type": "code",
      "metadata": {
        "colab": {
          "base_uri": "https://localhost:8080/"
        },
        "id": "Rx7eD9cQQs1V",
        "outputId": "f3d3cf37-e192-46e5-9b34-80b31e280ef9"
      },
      "source": [
        "print(list(sorted([5,2,3,4,1])))"
      ],
      "execution_count": 69,
      "outputs": [
        {
          "output_type": "stream",
          "name": "stdout",
          "text": [
            "[1, 2, 3, 4, 5]\n"
          ]
        }
      ]
    },
    {
      "cell_type": "code",
      "metadata": {
        "colab": {
          "base_uri": "https://localhost:8080/"
        },
        "id": "3Ru3CEXCQws8",
        "outputId": "e24958be-6a82-4ff1-80aa-47c10966bdb5"
      },
      "source": [
        "print(list(sorted([100, 19736, 9, 27, 476])))"
      ],
      "execution_count": 71,
      "outputs": [
        {
          "output_type": "stream",
          "name": "stdout",
          "text": [
            "[9, 27, 100, 476, 19736]\n"
          ]
        }
      ]
    },
    {
      "cell_type": "code",
      "metadata": {
        "colab": {
          "base_uri": "https://localhost:8080/"
        },
        "id": "tOi2hreXRAH_",
        "outputId": "39ebb540-072c-4387-b1db-ac7b17e2d890"
      },
      "source": [
        "price_list = [('AAPL', 144.09), ('GOOGL', 911.71), ('MSFT', 69), ('FB', 150), ('WMT', 75.32)]\n",
        "print(list(sorted(price_list, key = lambda x: x[1])))"
      ],
      "execution_count": 72,
      "outputs": [
        {
          "output_type": "stream",
          "name": "stdout",
          "text": [
            "[('MSFT', 69), ('WMT', 75.32), ('AAPL', 144.09), ('FB', 150), ('GOOGL', 911.71)]\n"
          ]
        }
      ]
    },
    {
      "cell_type": "code",
      "metadata": {
        "colab": {
          "base_uri": "https://localhost:8080/"
        },
        "id": "jilVD2BCRITi",
        "outputId": "4fa9366b-f65f-4d31-d01b-05a34ff76846"
      },
      "source": [
        "price_list = [('Paula', 10384), ('Luisa', 85900), ('Ana', 1), ('Maria', 48)]\n",
        "print(list(sorted(price_list, key = lambda x: x[1])))"
      ],
      "execution_count": 73,
      "outputs": [
        {
          "output_type": "stream",
          "name": "stdout",
          "text": [
            "[('Ana', 1), ('Maria', 48), ('Paula', 10384), ('Luisa', 85900)]\n"
          ]
        }
      ]
    },
    {
      "cell_type": "code",
      "metadata": {
        "colab": {
          "base_uri": "https://localhost:8080/"
        },
        "id": "rKZ7omi_SCNc",
        "outputId": "f82e0231-39a6-47ba-bc2d-8c1c2970e656"
      },
      "source": [
        "price_list = [('Paula', 10384), ('Luisa', 85900), ('Ana', 1), ('Maria', 48)]\n",
        "print(list(sorted(price_list, key = lambda x: x[1], reverse = True)))"
      ],
      "execution_count": 75,
      "outputs": [
        {
          "output_type": "stream",
          "name": "stdout",
          "text": [
            "[('Luisa', 85900), ('Paula', 10384), ('Maria', 48), ('Ana', 1)]\n"
          ]
        }
      ]
    },
    {
      "cell_type": "code",
      "metadata": {
        "colab": {
          "base_uri": "https://localhost:8080/"
        },
        "id": "KWDU30X7SRhV",
        "outputId": "28c142a1-a595-487c-e9cf-fb452b14add7"
      },
      "source": [
        "price_list = [('AAPL', 144.09), ('GOOGL', 911.71), ('MSFT', 69), ('FB', 150), ('WMT', 75.32)]\n",
        "price_list.sort(key = lambda x: x[1])\n",
        "print (price_list)"
      ],
      "execution_count": 76,
      "outputs": [
        {
          "output_type": "stream",
          "name": "stdout",
          "text": [
            "[('MSFT', 69), ('WMT', 75.32), ('AAPL', 144.09), ('FB', 150), ('GOOGL', 911.71)]\n"
          ]
        }
      ]
    },
    {
      "cell_type": "code",
      "metadata": {
        "colab": {
          "base_uri": "https://localhost:8080/"
        },
        "id": "BHrwy__JSj6f",
        "outputId": "0a40fe05-4d3d-486a-db49-24633f99b9be"
      },
      "source": [
        "price_list = [('Paula', 10384), ('Luisa', 85900), ('Ana', 1), ('Maria', 48)]\n",
        "price_list.sort(key = lambda x: x[1], reverse = True)\n",
        "print (price_list)"
      ],
      "execution_count": 78,
      "outputs": [
        {
          "output_type": "stream",
          "name": "stdout",
          "text": [
            "[('Luisa', 85900), ('Paula', 10384), ('Maria', 48), ('Ana', 1)]\n"
          ]
        }
      ]
    },
    {
      "cell_type": "code",
      "metadata": {
        "colab": {
          "base_uri": "https://localhost:8080/"
        },
        "id": "JQFczcIiSxy_",
        "outputId": "5602768e-caa3-4e6f-ef36-cfcc3a3dc007"
      },
      "source": [
        "class Stock:\n",
        "    def __init__(self, ticker, open, close, volume):\n",
        "        self.ticker = ticker\n",
        "        self.open = open\n",
        "        self.close = close\n",
        "        self.volume = volume\n",
        "        self.rate_return = float(close)/open - 1\n",
        "\n",
        "    def update(self, open, close):\n",
        "        self.open = open\n",
        "        self.close = close\n",
        "        self.rate_return = float(self.close)/self.open - 1\n",
        "\n",
        "    def print_return(self):\n",
        "        print (self.rate_return)\n",
        "\n",
        "apple  = Stock('AAPL', 143.69, 144.09, 20109375)\n",
        "google = Stock('GOOGL', 898.7, 911.7, 1561616)\n",
        "\n",
        "apple.ticker\n",
        "google.print_return()\n",
        "google.update(912.8,913.4)\n",
        "google.print_return()"
      ],
      "execution_count": 83,
      "outputs": [
        {
          "output_type": "stream",
          "name": "stdout",
          "text": [
            "0.014465338822744034\n",
            "0.0006573181419806673\n"
          ]
        }
      ]
    },
    {
      "cell_type": "code",
      "metadata": {
        "colab": {
          "base_uri": "https://localhost:8080/"
        },
        "id": "RwNTD-aSTr5b",
        "outputId": "30a656e9-bbbb-4596-8edb-8e58df449ce2"
      },
      "source": [
        "class Stock:\n",
        "    def __init__(self, ticker, open, close, volume):\n",
        "        self.ticker = ticker\n",
        "        self.open = open\n",
        "        self.close = close\n",
        "        self.volume = volume\n",
        "        self.rate_return = float(close)/open - 1\n",
        "\n",
        "    def update(self, open, close):\n",
        "        self.open = open\n",
        "        self.close = close\n",
        "        self.rate_return = float(self.close)/self.open - 1\n",
        "\n",
        "    def print_return(self):\n",
        "        print (self.rate_return)\n",
        "\n",
        "apple  = Stock('AAPL', 143.69, 144.09, 20109375)\n",
        "google = Stock('GOOGL', 898.7, 911.7, 1561616)\n",
        "amazon = Stock('AMZ', 292.5, 920.6, 87987023)\n",
        "amazon.ticker\n",
        "amazon.print_return()\n",
        "amazon.update(300.78, 208429)\n",
        "amazon.print_return()\n"
      ],
      "execution_count": 84,
      "outputs": [
        {
          "output_type": "stream",
          "name": "stdout",
          "text": [
            "2.1473504273504274\n",
            "691.9616330873064\n"
          ]
        }
      ]
    },
    {
      "cell_type": "code",
      "metadata": {
        "colab": {
          "base_uri": "https://localhost:8080/",
          "height": 35
        },
        "id": "SYuzoPmFVAyJ",
        "outputId": "2d21c0b9-c7cb-4f9e-99c1-6e0a79085e69"
      },
      "source": [
        "apple.ceo = 'Tim Cook'\n",
        "apple.ceo"
      ],
      "execution_count": 85,
      "outputs": [
        {
          "output_type": "execute_result",
          "data": {
            "application/vnd.google.colaboratory.intrinsic+json": {
              "type": "string"
            },
            "text/plain": [
              "'Tim Cook'"
            ]
          },
          "metadata": {},
          "execution_count": 85
        }
      ]
    },
    {
      "cell_type": "code",
      "metadata": {
        "colab": {
          "base_uri": "https://localhost:8080/",
          "height": 35
        },
        "id": "3hDu3NPuVEvK",
        "outputId": "f2e1ee1d-7625-4d3d-b390-118815c6bc58"
      },
      "source": [
        "amazon.ceo = 'Andy Jassy'\n",
        "amazon.ceo"
      ],
      "execution_count": 86,
      "outputs": [
        {
          "output_type": "execute_result",
          "data": {
            "application/vnd.google.colaboratory.intrinsic+json": {
              "type": "string"
            },
            "text/plain": [
              "'Andy Jassy'"
            ]
          },
          "metadata": {},
          "execution_count": 86
        }
      ]
    },
    {
      "cell_type": "code",
      "metadata": {
        "colab": {
          "base_uri": "https://localhost:8080/"
        },
        "id": "NmV7GQRuVPc4",
        "outputId": "2c4fa33e-7e9a-4136-f291-8e36610cb320"
      },
      "source": [
        "dir(apple)"
      ],
      "execution_count": 87,
      "outputs": [
        {
          "output_type": "execute_result",
          "data": {
            "text/plain": [
              "['__class__',\n",
              " '__delattr__',\n",
              " '__dict__',\n",
              " '__dir__',\n",
              " '__doc__',\n",
              " '__eq__',\n",
              " '__format__',\n",
              " '__ge__',\n",
              " '__getattribute__',\n",
              " '__gt__',\n",
              " '__hash__',\n",
              " '__init__',\n",
              " '__init_subclass__',\n",
              " '__le__',\n",
              " '__lt__',\n",
              " '__module__',\n",
              " '__ne__',\n",
              " '__new__',\n",
              " '__reduce__',\n",
              " '__reduce_ex__',\n",
              " '__repr__',\n",
              " '__setattr__',\n",
              " '__sizeof__',\n",
              " '__str__',\n",
              " '__subclasshook__',\n",
              " '__weakref__',\n",
              " 'ceo',\n",
              " 'close',\n",
              " 'open',\n",
              " 'print_return',\n",
              " 'rate_return',\n",
              " 'ticker',\n",
              " 'update',\n",
              " 'volume']"
            ]
          },
          "metadata": {},
          "execution_count": 87
        }
      ]
    },
    {
      "cell_type": "code",
      "metadata": {
        "colab": {
          "base_uri": "https://localhost:8080/"
        },
        "id": "Tn6691DqVWNp",
        "outputId": "7960382b-467d-4c79-cff6-18c5c88a5f79"
      },
      "source": [
        "dir(amazon)"
      ],
      "execution_count": 88,
      "outputs": [
        {
          "output_type": "execute_result",
          "data": {
            "text/plain": [
              "['__class__',\n",
              " '__delattr__',\n",
              " '__dict__',\n",
              " '__dir__',\n",
              " '__doc__',\n",
              " '__eq__',\n",
              " '__format__',\n",
              " '__ge__',\n",
              " '__getattribute__',\n",
              " '__gt__',\n",
              " '__hash__',\n",
              " '__init__',\n",
              " '__init_subclass__',\n",
              " '__le__',\n",
              " '__lt__',\n",
              " '__module__',\n",
              " '__ne__',\n",
              " '__new__',\n",
              " '__reduce__',\n",
              " '__reduce_ex__',\n",
              " '__repr__',\n",
              " '__setattr__',\n",
              " '__sizeof__',\n",
              " '__str__',\n",
              " '__subclasshook__',\n",
              " '__weakref__',\n",
              " 'ceo',\n",
              " 'close',\n",
              " 'open',\n",
              " 'print_return',\n",
              " 'rate_return',\n",
              " 'ticker',\n",
              " 'update',\n",
              " 'volume']"
            ]
          },
          "metadata": {},
          "execution_count": 88
        }
      ]
    },
    {
      "cell_type": "code",
      "metadata": {
        "colab": {
          "base_uri": "https://localhost:8080/"
        },
        "id": "NVMrGNIxVafy",
        "outputId": "124bdd0d-ac55-431a-e112-01c7a1e89229"
      },
      "source": [
        "class Child(Stock):\n",
        "    def __init__(self, name):\n",
        "        self.name = name\n",
        "\n",
        "aa = Child('AA')\n",
        "print (aa.name)\n",
        "aa.update(100, 102)\n",
        "print (aa.open)\n",
        "print (aa.close)\n",
        "print (aa.print_return())"
      ],
      "execution_count": 92,
      "outputs": [
        {
          "output_type": "stream",
          "name": "stdout",
          "text": [
            "AA\n",
            "100\n",
            "102\n",
            "0.020000000000000018\n",
            "None\n"
          ]
        }
      ]
    },
    {
      "cell_type": "code",
      "metadata": {
        "colab": {
          "base_uri": "https://localhost:8080/"
        },
        "id": "6dR1e4XfVxPq",
        "outputId": "69a87196-8c30-4aac-e597-b81901632258"
      },
      "source": [
        "net = Child('NET')\n",
        "print (net.name)\n",
        "net.update(489, 2977)\n",
        "print (net.open)\n",
        "print (net.close)\n",
        "print (net.print_return())"
      ],
      "execution_count": 93,
      "outputs": [
        {
          "output_type": "stream",
          "name": "stdout",
          "text": [
            "NET\n",
            "489\n",
            "2977\n",
            "5.087934560327199\n",
            "None\n"
          ]
        }
      ]
    },
    {
      "cell_type": "markdown",
      "metadata": {
        "id": "aeFdFbuQdQxa"
      },
      "source": [
        "# Tutorial 4"
      ]
    },
    {
      "cell_type": "code",
      "metadata": {
        "id": "Kxot6ZE0dTj0"
      },
      "source": [
        "import numpy as np\n"
      ],
      "execution_count": 1,
      "outputs": []
    },
    {
      "cell_type": "code",
      "metadata": {
        "colab": {
          "base_uri": "https://localhost:8080/"
        },
        "id": "cWwDk9jo_oqF",
        "outputId": "ff35c8b6-60d1-42bd-b482-f2e2c1ef80ff"
      },
      "source": [
        "price_list = [143.73, 145.83, 143.68, 144.02, 143.5, 142.62]\n",
        "price_array = np.array(price_list)\n",
        "print (price_array, type(price_array))"
      ],
      "execution_count": 3,
      "outputs": [
        {
          "output_type": "stream",
          "name": "stdout",
          "text": [
            "[143.73 145.83 143.68 144.02 143.5  142.62] <class 'numpy.ndarray'>\n"
          ]
        }
      ]
    },
    {
      "cell_type": "code",
      "metadata": {
        "colab": {
          "base_uri": "https://localhost:8080/"
        },
        "id": "AEJkeO1y_tmc",
        "outputId": "a8a48601-9520-4eb3-d4b1-53699ee02c3d"
      },
      "source": [
        "numbers_list = [1, 2, 3, 4, 5, 6]\n",
        "animals_list = ['Perro', 'Gato', 'Rana', 'Leon']\n",
        "price_list = [123.45 , 8483.46 , 88.36, 878.37]\n",
        "numbers_array = np.array(numbers_list)\n",
        "animals_array = np.array(animals_list)\n",
        "price_array = np.array(price_list)\n",
        "print (numbers_array, type(numbers_array))\n",
        "print (animals_array, type(animals_array))\n",
        "print (price_array, type(price_array))"
      ],
      "execution_count": 5,
      "outputs": [
        {
          "output_type": "stream",
          "name": "stdout",
          "text": [
            "[1 2 3 4 5 6] <class 'numpy.ndarray'>\n",
            "['Perro' 'Gato' 'Rana' 'Leon'] <class 'numpy.ndarray'>\n",
            "[ 123.45 8483.46   88.36  878.37] <class 'numpy.ndarray'>\n"
          ]
        }
      ]
    },
    {
      "cell_type": "code",
      "metadata": {
        "colab": {
          "base_uri": "https://localhost:8080/"
        },
        "id": "A9Gv-N-wApOn",
        "outputId": "9ecbf5be-2115-4195-ee33-4ed756aa9f16"
      },
      "source": [
        "Ar = np.array([[1,3], [2,4]])\n",
        "print (Ar, type(Ar))"
      ],
      "execution_count": 6,
      "outputs": [
        {
          "output_type": "stream",
          "name": "stdout",
          "text": [
            "[[1 3]\n",
            " [2 4]] <class 'numpy.ndarray'>\n"
          ]
        }
      ]
    },
    {
      "cell_type": "code",
      "metadata": {
        "colab": {
          "base_uri": "https://localhost:8080/"
        },
        "id": "cPy-ymNqAxCm",
        "outputId": "ad4f176b-647b-4eb6-d0cf-7340536bc3d1"
      },
      "source": [
        "Ar_2 = np.array([[23, 17], [24, 68], [39,92], [29, 58]])\n",
        "print (Ar_2, type(Ar_2))"
      ],
      "execution_count": 12,
      "outputs": [
        {
          "output_type": "stream",
          "name": "stdout",
          "text": [
            "[[23 17]\n",
            " [24 68]\n",
            " [39 92]\n",
            " [29 58]] <class 'numpy.ndarray'>\n"
          ]
        }
      ]
    },
    {
      "cell_type": "code",
      "metadata": {
        "colab": {
          "base_uri": "https://localhost:8080/"
        },
        "id": "WYLd2BsjBRhZ",
        "outputId": "b5b2ebcb-5b5d-425c-ae7e-dc703d57eac7"
      },
      "source": [
        "Ar = np.array([[1,3], [2,4]])\n",
        "print (Ar.shape)"
      ],
      "execution_count": 15,
      "outputs": [
        {
          "output_type": "stream",
          "name": "stdout",
          "text": [
            "(2, 2)\n"
          ]
        }
      ]
    },
    {
      "cell_type": "code",
      "metadata": {
        "colab": {
          "base_uri": "https://localhost:8080/"
        },
        "id": "0HIylTqwBedW",
        "outputId": "6cb45225-21e2-4b2c-8946-1fff7617dcbd"
      },
      "source": [
        "Ar_2 = np.array([[23, 17], [24, 68], [39,92], [29, 58]])\n",
        "print (Ar_2.shape)"
      ],
      "execution_count": 16,
      "outputs": [
        {
          "output_type": "stream",
          "name": "stdout",
          "text": [
            "(4, 2)\n"
          ]
        }
      ]
    },
    {
      "cell_type": "code",
      "metadata": {
        "colab": {
          "base_uri": "https://localhost:8080/"
        },
        "id": "DOLayK1bBmBU",
        "outputId": "4224a610-d016-4b43-ebac-a0408e61ebd8"
      },
      "source": [
        "Ar = np.array([[1,3], [2,4]])\n",
        "print (Ar[0])\n",
        "print (Ar[1])"
      ],
      "execution_count": 18,
      "outputs": [
        {
          "output_type": "stream",
          "name": "stdout",
          "text": [
            "[1 3]\n",
            "[2 4]\n"
          ]
        }
      ]
    },
    {
      "cell_type": "code",
      "metadata": {
        "colab": {
          "base_uri": "https://localhost:8080/"
        },
        "id": "Ekhi1wL9GTDh",
        "outputId": "979887df-b0b4-4aa9-86cb-14ebfb1a8c17"
      },
      "source": [
        "Ar_2 = np.array([[23, 17], [24, 68], [39,92], [29, 58]])\n",
        "print (Ar_2[0])\n",
        "print (Ar_2[1])\n",
        "print (Ar_2[3])"
      ],
      "execution_count": 20,
      "outputs": [
        {
          "output_type": "stream",
          "name": "stdout",
          "text": [
            "[23 17]\n",
            "[24 68]\n",
            "[29 58]\n"
          ]
        }
      ]
    },
    {
      "cell_type": "code",
      "metadata": {
        "colab": {
          "base_uri": "https://localhost:8080/"
        },
        "id": "LcL4vXMnGcwE",
        "outputId": "818a9338-f7f0-4c14-97eb-2d60024ddbf2"
      },
      "source": [
        "Ar = np.array([[1,3], [2,4]])\n",
        "print ('First column:', Ar[:,0])\n",
        "print ('Second column:', Ar[:,1])"
      ],
      "execution_count": 22,
      "outputs": [
        {
          "output_type": "stream",
          "name": "stdout",
          "text": [
            "First column: [1 2]\n",
            "Second column: [3 4]\n"
          ]
        }
      ]
    },
    {
      "cell_type": "code",
      "metadata": {
        "colab": {
          "base_uri": "https://localhost:8080/"
        },
        "id": "77f05Lq-Gq9t",
        "outputId": "6af4b216-2be9-4bd8-e4e2-07ebe93adc61"
      },
      "source": [
        "Ar_2 = np.array([[23, 17], [24, 68], [39,92], [29, 58]])\n",
        "print('First column: ', Ar_2[:,0])\n",
        "print('Second column: ', Ar_2[:,1])"
      ],
      "execution_count": 23,
      "outputs": [
        {
          "output_type": "stream",
          "name": "stdout",
          "text": [
            "First column:  [23 24 39 29]\n",
            "Second column:  [17 68 92 58]\n"
          ]
        }
      ]
    },
    {
      "cell_type": "code",
      "metadata": {
        "colab": {
          "base_uri": "https://localhost:8080/"
        },
        "id": "EvBSpf-KG78R",
        "outputId": "dd70d66a-348b-436c-f526-a6131bf3d20e"
      },
      "source": [
        "price_list = [143.73, 145.83, 143.68, 144.02, 143.5, 142.62]\n",
        "price_array = np.array(price_list)\n",
        "np.log(price_array)"
      ],
      "execution_count": 25,
      "outputs": [
        {
          "output_type": "execute_result",
          "data": {
            "text/plain": [
              "array([4.96793654, 4.98244156, 4.9675886 , 4.96995218, 4.96633504,\n",
              "       4.96018375])"
            ]
          },
          "metadata": {},
          "execution_count": 25
        }
      ]
    },
    {
      "cell_type": "code",
      "metadata": {
        "colab": {
          "base_uri": "https://localhost:8080/"
        },
        "id": "8AxFiL5oHJDA",
        "outputId": "686f3082-8283-4994-f17f-5065d4bf847d"
      },
      "source": [
        "price_list = [123.45 , 8483.46 , 88.36, 878.37]\n",
        "price_array = np.array(price_list)\n",
        "np.log(price_array)"
      ],
      "execution_count": 28,
      "outputs": [
        {
          "output_type": "execute_result",
          "data": {
            "text/plain": [
              "array([4.81583622, 9.04587366, 4.48141938, 6.77806792])"
            ]
          },
          "metadata": {},
          "execution_count": 28
        }
      ]
    },
    {
      "cell_type": "code",
      "metadata": {
        "colab": {
          "base_uri": "https://localhost:8080/"
        },
        "id": "kga2xzJvHFv2",
        "outputId": "32c5773b-937e-48b3-ab24-bfb5080197dc"
      },
      "source": [
        "price_list = [143.73, 145.83, 143.68, 144.02, 143.5, 142.62]\n",
        "price_array = np.array(price_list)\n",
        "print(np.mean(price_array))\n",
        "print (np.std(price_array))\n",
        "print (np.sum(price_array))\n",
        "print (np.max(price_array))"
      ],
      "execution_count": 30,
      "outputs": [
        {
          "output_type": "stream",
          "name": "stdout",
          "text": [
            "143.89666666666668\n",
            "0.9673790478515796\n",
            "863.38\n",
            "145.83\n"
          ]
        }
      ]
    },
    {
      "cell_type": "code",
      "metadata": {
        "colab": {
          "base_uri": "https://localhost:8080/"
        },
        "id": "4DBrabv3HIay",
        "outputId": "d5af85db-0c8b-40d1-e6de-9828b8856f23"
      },
      "source": [
        "price_list = [123.45 , 8483.46 , 88.36, 878.37]\n",
        "price_array = np.array(price_list)\n",
        "print(np.mean(price_array))\n",
        "print (np.std(price_array))\n",
        "print (np.sum(price_array))\n",
        "print (np.max(price_array))"
      ],
      "execution_count": 31,
      "outputs": [
        {
          "output_type": "stream",
          "name": "stdout",
          "text": [
            "2393.4100000000003\n",
            "3530.227652298078\n",
            "9573.640000000001\n",
            "8483.46\n"
          ]
        }
      ]
    },
    {
      "cell_type": "code",
      "metadata": {
        "id": "q--T9n3vIMvP"
      },
      "source": [
        "import pandas as pd"
      ],
      "execution_count": 32,
      "outputs": []
    },
    {
      "cell_type": "code",
      "metadata": {
        "colab": {
          "base_uri": "https://localhost:8080/"
        },
        "id": "Jauw_UTSIPuw",
        "outputId": "213f9da9-341f-466c-8936-e8c7b1992804"
      },
      "source": [
        "price = [143.73, 145.83, 143.68, 144.02, 143.5, 142.62]\n",
        "s = pd.Series(price)\n",
        "print (s)"
      ],
      "execution_count": 33,
      "outputs": [
        {
          "output_type": "stream",
          "name": "stdout",
          "text": [
            "0    143.73\n",
            "1    145.83\n",
            "2    143.68\n",
            "3    144.02\n",
            "4    143.50\n",
            "5    142.62\n",
            "dtype: float64\n"
          ]
        }
      ]
    },
    {
      "cell_type": "code",
      "metadata": {
        "colab": {
          "base_uri": "https://localhost:8080/"
        },
        "id": "4roPJosbIaNo",
        "outputId": "120e1252-1d97-4198-c10c-6621f2d8901c"
      },
      "source": [
        "numbers = [123.5, 902.4, 9.38, 389.03]\n",
        "n = pd.Series(numbers)\n",
        "print(n)"
      ],
      "execution_count": 36,
      "outputs": [
        {
          "output_type": "stream",
          "name": "stdout",
          "text": [
            "0    123.50\n",
            "1    902.40\n",
            "2      9.38\n",
            "3    389.03\n",
            "dtype: float64\n"
          ]
        }
      ]
    },
    {
      "cell_type": "code",
      "metadata": {
        "colab": {
          "base_uri": "https://localhost:8080/"
        },
        "id": "1reY3CxmITn6",
        "outputId": "57901082-9ac0-4877-dfaf-854007e60cf1"
      },
      "source": [
        "s = pd.Series(price, index = ['a', 'b', 'c', 'd', 'e', 'f'])\n",
        "print (s)"
      ],
      "execution_count": 34,
      "outputs": [
        {
          "output_type": "stream",
          "name": "stdout",
          "text": [
            "a    143.73\n",
            "b    145.83\n",
            "c    143.68\n",
            "d    144.02\n",
            "e    143.50\n",
            "f    142.62\n",
            "dtype: float64\n"
          ]
        }
      ]
    },
    {
      "cell_type": "code",
      "metadata": {
        "colab": {
          "base_uri": "https://localhost:8080/"
        },
        "id": "E7-gpvtOIxQO",
        "outputId": "69728e4d-9a64-46f3-ef30-c73df4ae5430"
      },
      "source": [
        "n = pd.Series(numbers, index = ['-', '*', '+', ':'])\n",
        "print (n)"
      ],
      "execution_count": 37,
      "outputs": [
        {
          "output_type": "stream",
          "name": "stdout",
          "text": [
            "-    123.50\n",
            "*    902.40\n",
            "+      9.38\n",
            ":    389.03\n",
            "dtype: float64\n"
          ]
        }
      ]
    },
    {
      "cell_type": "code",
      "metadata": {
        "colab": {
          "base_uri": "https://localhost:8080/"
        },
        "id": "AG3vPFNfI_0b",
        "outputId": "4a2c7173-8fa1-41f7-cc0b-7d0e00302ffb"
      },
      "source": [
        "s.index = [6,5,4,3,2,1]\n",
        "print (s)"
      ],
      "execution_count": 38,
      "outputs": [
        {
          "output_type": "stream",
          "name": "stdout",
          "text": [
            "6    143.73\n",
            "5    145.83\n",
            "4    143.68\n",
            "3    144.02\n",
            "2    143.50\n",
            "1    142.62\n",
            "dtype: float64\n"
          ]
        }
      ]
    },
    {
      "cell_type": "code",
      "metadata": {
        "colab": {
          "base_uri": "https://localhost:8080/"
        },
        "id": "ewwXaj0GJE8L",
        "outputId": "02e9658c-447d-4fdf-bc6e-506616775e2b"
      },
      "source": [
        "n.index = [2, 2**2, 2**3, 2**4]\n",
        "print (n)"
      ],
      "execution_count": 39,
      "outputs": [
        {
          "output_type": "stream",
          "name": "stdout",
          "text": [
            "2     123.50\n",
            "4     902.40\n",
            "8       9.38\n",
            "16    389.03\n",
            "dtype: float64\n"
          ]
        }
      ]
    },
    {
      "cell_type": "code",
      "metadata": {
        "colab": {
          "base_uri": "https://localhost:8080/"
        },
        "id": "ymfCEL1cJO4d",
        "outputId": "a72e74ed-7a8e-4c61-b01b-fb98228052bb"
      },
      "source": [
        "print (s[1:])\n",
        "print (s[:-2])\n"
      ],
      "execution_count": 40,
      "outputs": [
        {
          "output_type": "stream",
          "name": "stdout",
          "text": [
            "5    145.83\n",
            "4    143.68\n",
            "3    144.02\n",
            "2    143.50\n",
            "1    142.62\n",
            "dtype: float64\n",
            "6    143.73\n",
            "5    145.83\n",
            "4    143.68\n",
            "3    144.02\n",
            "dtype: float64\n"
          ]
        }
      ]
    },
    {
      "cell_type": "code",
      "metadata": {
        "colab": {
          "base_uri": "https://localhost:8080/"
        },
        "id": "FRmcV74OJX7m",
        "outputId": "a4451a87-eae9-4ed9-89a3-ad8a196d9c1d"
      },
      "source": [
        "print (n[2:])\n",
        "print (n[:3])\n"
      ],
      "execution_count": 46,
      "outputs": [
        {
          "output_type": "stream",
          "name": "stdout",
          "text": [
            "8       9.38\n",
            "16    389.03\n",
            "dtype: float64\n",
            "2    123.50\n",
            "4    902.40\n",
            "8      9.38\n",
            "dtype: float64\n"
          ]
        }
      ]
    },
    {
      "cell_type": "code",
      "metadata": {
        "colab": {
          "base_uri": "https://localhost:8080/"
        },
        "id": "EWrogQ9vJyWt",
        "outputId": "25326200-4a22-49c0-b1c6-f2914e0da87b"
      },
      "source": [
        "print (s[4])\n",
        "s[4] = 0\n",
        "print (s)"
      ],
      "execution_count": 47,
      "outputs": [
        {
          "output_type": "stream",
          "name": "stdout",
          "text": [
            "143.68\n",
            "6    143.73\n",
            "5    145.83\n",
            "4      0.00\n",
            "3    144.02\n",
            "2    143.50\n",
            "1    142.62\n",
            "dtype: float64\n"
          ]
        }
      ]
    },
    {
      "cell_type": "code",
      "metadata": {
        "colab": {
          "base_uri": "https://localhost:8080/"
        },
        "id": "A3WSO1uHKClP",
        "outputId": "9400f9bb-8a18-43d9-f92e-f32a6d79c5ae"
      },
      "source": [
        "print (n[2])\n",
        "n[2] = 10\n",
        "print (n)"
      ],
      "execution_count": 51,
      "outputs": [
        {
          "output_type": "stream",
          "name": "stdout",
          "text": [
            "10.0\n",
            "2      10.00\n",
            "4     902.40\n",
            "8       9.38\n",
            "16    389.03\n",
            "dtype: float64\n"
          ]
        }
      ]
    },
    {
      "cell_type": "code",
      "metadata": {
        "colab": {
          "base_uri": "https://localhost:8080/"
        },
        "id": "-b2pmE0yKYCR",
        "outputId": "2a208946-e190-4dfa-c3f7-9093778d4c16"
      },
      "source": [
        "s = pd.Series(price, name = 'Apple Prices')\n",
        "print (s)\n",
        "print (s.name)"
      ],
      "execution_count": 52,
      "outputs": [
        {
          "output_type": "stream",
          "name": "stdout",
          "text": [
            "0    143.73\n",
            "1    145.83\n",
            "2    143.68\n",
            "3    144.02\n",
            "4    143.50\n",
            "5    142.62\n",
            "Name: Apple Prices, dtype: float64\n",
            "Apple Prices\n"
          ]
        }
      ]
    },
    {
      "cell_type": "code",
      "metadata": {
        "colab": {
          "base_uri": "https://localhost:8080/"
        },
        "id": "SUm20rdnKeAe",
        "outputId": "68217e86-747a-46cd-f067-ee52a0308f5a"
      },
      "source": [
        "n = pd.Series(numbers, name = 'Amazon Prices')\n",
        "print (n)\n",
        "print (n.name)"
      ],
      "execution_count": 54,
      "outputs": [
        {
          "output_type": "stream",
          "name": "stdout",
          "text": [
            "0    123.50\n",
            "1    902.40\n",
            "2      9.38\n",
            "3    389.03\n",
            "Name: Amazon Prices, dtype: float64\n",
            "Amazon Prices\n"
          ]
        }
      ]
    },
    {
      "cell_type": "code",
      "metadata": {
        "colab": {
          "base_uri": "https://localhost:8080/"
        },
        "id": "4HKdZM3AKny6",
        "outputId": "5f783199-dbdb-40f3-83e8-4bcb61604e6a"
      },
      "source": [
        "print (s.describe())"
      ],
      "execution_count": 55,
      "outputs": [
        {
          "output_type": "stream",
          "name": "stdout",
          "text": [
            "count      6.000000\n",
            "mean     143.896667\n",
            "std        1.059711\n",
            "min      142.620000\n",
            "25%      143.545000\n",
            "50%      143.705000\n",
            "75%      143.947500\n",
            "max      145.830000\n",
            "Name: Apple Prices, dtype: float64\n"
          ]
        }
      ]
    },
    {
      "cell_type": "code",
      "metadata": {
        "colab": {
          "base_uri": "https://localhost:8080/"
        },
        "id": "76_AKIYUKqIp",
        "outputId": "5a88a1b5-185d-4c5b-9e0d-3a4de3d4f853"
      },
      "source": [
        "print (n.describe())"
      ],
      "execution_count": 56,
      "outputs": [
        {
          "output_type": "stream",
          "name": "stdout",
          "text": [
            "count      4.00000\n",
            "mean     356.07750\n",
            "std      397.42739\n",
            "min        9.38000\n",
            "25%       94.97000\n",
            "50%      256.26500\n",
            "75%      517.37250\n",
            "max      902.40000\n",
            "Name: Amazon Prices, dtype: float64\n"
          ]
        }
      ]
    },
    {
      "cell_type": "code",
      "metadata": {
        "colab": {
          "base_uri": "https://localhost:8080/"
        },
        "id": "RJHPgCo8Kuqt",
        "outputId": "b9350b11-512f-4dbf-a94a-54681e666f50"
      },
      "source": [
        "time_index = pd.date_range('2017-01-01', periods = len(s), freq = 'D')\n",
        "print (time_index)\n",
        "s.index = time_index\n",
        "print (s)"
      ],
      "execution_count": 67,
      "outputs": [
        {
          "output_type": "stream",
          "name": "stdout",
          "text": [
            "DatetimeIndex(['2017-01-01', '2017-01-02', '2017-01-03', '2017-01-04',\n",
            "               '2017-01-05', '2017-01-06'],\n",
            "              dtype='datetime64[ns]', freq='D')\n",
            "2017-01-01    143.73\n",
            "2017-01-02    145.83\n",
            "2017-01-03    143.68\n",
            "2017-01-04    144.02\n",
            "2017-01-05    143.50\n",
            "2017-01-06    142.62\n",
            "Freq: D, Name: Apple Prices, dtype: float64\n"
          ]
        }
      ]
    },
    {
      "cell_type": "code",
      "metadata": {
        "colab": {
          "base_uri": "https://localhost:8080/"
        },
        "id": "vW1dEcQDK4rj",
        "outputId": "b68e3474-583d-4788-fa54-6ebf18bfba7f"
      },
      "source": [
        "time_index = pd.date_range('2021-10-13', periods = len(n), freq = 'D')\n",
        "print (time_index)\n",
        "n.index = time_index\n",
        "print (n)"
      ],
      "execution_count": 69,
      "outputs": [
        {
          "output_type": "stream",
          "name": "stdout",
          "text": [
            "DatetimeIndex(['2021-10-13', '2021-10-14', '2021-10-15', '2021-10-16'], dtype='datetime64[ns]', freq='D')\n",
            "2021-10-13    123.50\n",
            "2021-10-14    902.40\n",
            "2021-10-15      9.38\n",
            "2021-10-16    389.03\n",
            "Freq: D, Name: Amazon Prices, dtype: float64\n"
          ]
        }
      ]
    },
    {
      "cell_type": "code",
      "metadata": {
        "colab": {
          "base_uri": "https://localhost:8080/"
        },
        "id": "vQoPuR3qLECz",
        "outputId": "a89a0de7-e1c7-4380-8e6a-663dd578d51b"
      },
      "source": [
        "s.index = [6,5,4,3,2,1]\n",
        "print (s)\n",
        "print (s[1])"
      ],
      "execution_count": 59,
      "outputs": [
        {
          "output_type": "stream",
          "name": "stdout",
          "text": [
            "6    143.73\n",
            "5    145.83\n",
            "4    143.68\n",
            "3    144.02\n",
            "2    143.50\n",
            "1    142.62\n",
            "Name: Apple Prices, dtype: float64\n",
            "142.62\n"
          ]
        }
      ]
    },
    {
      "cell_type": "code",
      "metadata": {
        "colab": {
          "base_uri": "https://localhost:8080/"
        },
        "id": "hXDDOUynLJNO",
        "outputId": "a0107ae5-ec16-4d6c-f607-dbde8fb27e6d"
      },
      "source": [
        "n.index = [2, 4, 6, 8]\n",
        "print (n)\n",
        "print (n[6])"
      ],
      "execution_count": 63,
      "outputs": [
        {
          "output_type": "stream",
          "name": "stdout",
          "text": [
            "2    123.50\n",
            "4    902.40\n",
            "6      9.38\n",
            "8    389.03\n",
            "Name: Amazon Prices, dtype: float64\n",
            "9.38\n"
          ]
        }
      ]
    },
    {
      "cell_type": "code",
      "metadata": {
        "colab": {
          "base_uri": "https://localhost:8080/"
        },
        "id": "T0ZHcB5RLR5o",
        "outputId": "b5ca687a-71fc-44a0-af9e-cd4dbff22d3f"
      },
      "source": [
        "print (s.iloc[1])"
      ],
      "execution_count": 64,
      "outputs": [
        {
          "output_type": "stream",
          "name": "stdout",
          "text": [
            "145.83\n"
          ]
        }
      ]
    },
    {
      "cell_type": "code",
      "metadata": {
        "colab": {
          "base_uri": "https://localhost:8080/"
        },
        "id": "jav3sQumLfwT",
        "outputId": "f9f68050-ccd4-40b0-9abd-33368d9135bb"
      },
      "source": [
        "print (n.iloc[3])"
      ],
      "execution_count": 65,
      "outputs": [
        {
          "output_type": "stream",
          "name": "stdout",
          "text": [
            "389.03\n"
          ]
        }
      ]
    },
    {
      "cell_type": "code",
      "metadata": {
        "colab": {
          "base_uri": "https://localhost:8080/"
        },
        "id": "okXtoKEhLj6d",
        "outputId": "0063fea1-e82c-4fe9-fa3f-52dd6a345ff7"
      },
      "source": [
        "s.index = time_index\n",
        "print (s['2017-01-03'])"
      ],
      "execution_count": 68,
      "outputs": [
        {
          "output_type": "stream",
          "name": "stdout",
          "text": [
            "143.68\n"
          ]
        }
      ]
    },
    {
      "cell_type": "code",
      "metadata": {
        "colab": {
          "base_uri": "https://localhost:8080/"
        },
        "id": "lC2hoGVAL2Qg",
        "outputId": "96cec309-13f7-4899-8c0c-ac70f63a3aff"
      },
      "source": [
        "n.index = time_index\n",
        "print (n['2021-10-15'])"
      ],
      "execution_count": 70,
      "outputs": [
        {
          "output_type": "stream",
          "name": "stdout",
          "text": [
            "9.38\n"
          ]
        }
      ]
    },
    {
      "cell_type": "code",
      "metadata": {
        "colab": {
          "base_uri": "https://localhost:8080/"
        },
        "id": "nQEuBev-L-it",
        "outputId": "89acd891-cfc9-425c-c1b3-1dd6f3e769e3"
      },
      "source": [
        "print (s['2017-01-02':'2017-01-05'])"
      ],
      "execution_count": 72,
      "outputs": [
        {
          "output_type": "stream",
          "name": "stdout",
          "text": [
            "2017-01-02    145.83\n",
            "2017-01-03    143.68\n",
            "2017-01-04    144.02\n",
            "2017-01-05    143.50\n",
            "Freq: D, Name: Apple Prices, dtype: float64\n"
          ]
        }
      ]
    },
    {
      "cell_type": "code",
      "metadata": {
        "colab": {
          "base_uri": "https://localhost:8080/"
        },
        "id": "UcV_EX6XMDbQ",
        "outputId": "26a2ca0a-01b9-4ab9-daa6-a39596e367fc"
      },
      "source": [
        "print (n['2021-10-13':'2021-10-15'])"
      ],
      "execution_count": 74,
      "outputs": [
        {
          "output_type": "stream",
          "name": "stdout",
          "text": [
            "2021-10-13    123.50\n",
            "2021-10-14    902.40\n",
            "2021-10-15      9.38\n",
            "Freq: D, Name: Amazon Prices, dtype: float64\n"
          ]
        }
      ]
    },
    {
      "cell_type": "code",
      "metadata": {
        "colab": {
          "base_uri": "https://localhost:8080/"
        },
        "id": "8EmbZC84MNwy",
        "outputId": "290216b9-f523-4870-8733-52dcc1daf1c2"
      },
      "source": [
        "print (s[s < np.mean(s)])\n",
        "print (s[(s > np.mean(s)) & (s < np.mean(s) + 1.64*np.std(s))])"
      ],
      "execution_count": 75,
      "outputs": [
        {
          "output_type": "stream",
          "name": "stdout",
          "text": [
            "2017-01-01    143.73\n",
            "2017-01-03    143.68\n",
            "2017-01-05    143.50\n",
            "2017-01-06    142.62\n",
            "Name: Apple Prices, dtype: float64\n",
            "2017-01-04    144.02\n",
            "Freq: D, Name: Apple Prices, dtype: float64\n"
          ]
        }
      ]
    },
    {
      "cell_type": "code",
      "metadata": {
        "colab": {
          "base_uri": "https://localhost:8080/"
        },
        "id": "9UY-dJlAMWOO",
        "outputId": "7d1152b4-0515-4dd4-b8f6-e2039d0f5aa0"
      },
      "source": [
        "print (n[n > np.mean(n)])\n",
        "print (n[(n > np.mean(n)) & (n < np.mean(n) + 1.64*np.std(n))])"
      ],
      "execution_count": 81,
      "outputs": [
        {
          "output_type": "stream",
          "name": "stdout",
          "text": [
            "2021-10-14    902.40\n",
            "2021-10-16    389.03\n",
            "Name: Amazon Prices, dtype: float64\n",
            "2021-10-14    902.40\n",
            "2021-10-16    389.03\n",
            "Name: Amazon Prices, dtype: float64\n"
          ]
        }
      ]
    },
    {
      "cell_type": "markdown",
      "metadata": {
        "id": "eil8hANkRp7S"
      },
      "source": [
        "# Tutotial 5"
      ]
    },
    {
      "cell_type": "code",
      "metadata": {
        "colab": {
          "base_uri": "https://localhost:8080/"
        },
        "id": "zXXNup_wRtCL",
        "outputId": "f5d08862-e552-432e-d247-442929e9854f"
      },
      "source": [
        "!pip install yfinance"
      ],
      "execution_count": 57,
      "outputs": [
        {
          "output_type": "stream",
          "name": "stdout",
          "text": [
            "Requirement already satisfied: yfinance in /usr/local/lib/python3.7/dist-packages (0.1.63)\n",
            "Requirement already satisfied: requests>=2.20 in /usr/local/lib/python3.7/dist-packages (from yfinance) (2.23.0)\n",
            "Requirement already satisfied: pandas>=0.24 in /usr/local/lib/python3.7/dist-packages (from yfinance) (1.1.5)\n",
            "Requirement already satisfied: lxml>=4.5.1 in /usr/local/lib/python3.7/dist-packages (from yfinance) (4.6.3)\n",
            "Requirement already satisfied: numpy>=1.15 in /usr/local/lib/python3.7/dist-packages (from yfinance) (1.19.5)\n",
            "Requirement already satisfied: multitasking>=0.0.7 in /usr/local/lib/python3.7/dist-packages (from yfinance) (0.0.9)\n",
            "Requirement already satisfied: python-dateutil>=2.7.3 in /usr/local/lib/python3.7/dist-packages (from pandas>=0.24->yfinance) (2.8.2)\n",
            "Requirement already satisfied: pytz>=2017.2 in /usr/local/lib/python3.7/dist-packages (from pandas>=0.24->yfinance) (2018.9)\n",
            "Requirement already satisfied: six>=1.5 in /usr/local/lib/python3.7/dist-packages (from python-dateutil>=2.7.3->pandas>=0.24->yfinance) (1.15.0)\n",
            "Requirement already satisfied: idna<3,>=2.5 in /usr/local/lib/python3.7/dist-packages (from requests>=2.20->yfinance) (2.10)\n",
            "Requirement already satisfied: urllib3!=1.25.0,!=1.25.1,<1.26,>=1.21.1 in /usr/local/lib/python3.7/dist-packages (from requests>=2.20->yfinance) (1.24.3)\n",
            "Requirement already satisfied: certifi>=2017.4.17 in /usr/local/lib/python3.7/dist-packages (from requests>=2.20->yfinance) (2021.5.30)\n",
            "Requirement already satisfied: chardet<4,>=3.0.2 in /usr/local/lib/python3.7/dist-packages (from requests>=2.20->yfinance) (3.0.4)\n"
          ]
        }
      ]
    },
    {
      "cell_type": "code",
      "metadata": {
        "colab": {
          "base_uri": "https://localhost:8080/",
          "height": 487
        },
        "id": "vdT_Iqf0R0ri",
        "outputId": "c163ccb7-aa53-49aa-f3b8-f04e2928b5a0"
      },
      "source": [
        "import yfinance as yf\n",
        "\n",
        "aapl = yf.Ticker(\"AAPL\")\n",
        "\n",
        "# get stock info\n",
        "print(aapl.info)\n",
        "\n",
        "# get historical market data\n",
        "aapl_table = aapl.history(start=\"2016-01-01\",  end=\"2017-12-31\")\n",
        "aapl_table"
      ],
      "execution_count": 58,
      "outputs": [
        {
          "output_type": "stream",
          "name": "stdout",
          "text": [
            "{'zip': '95014', 'sector': 'Technology', 'fullTimeEmployees': 147000, 'longBusinessSummary': 'Apple Inc. designs, manufactures, and markets smartphones, personal computers, tablets, wearables, and accessories worldwide. It also sells various related services. The company offers iPhone, a line of smartphones; Mac, a line of personal computers; iPad, a line of multi-purpose tablets; and wearables, home, and accessories comprising AirPods, Apple TV, Apple Watch, Beats products, HomePod, iPod touch, and other Apple-branded and third-party accessories. It also provides AppleCare support services; cloud services store services; and operates various platforms, including the App Store, that allow customers to discover and download applications and digital content, such as books, music, video, games, and podcasts. In addition, the company offers various services, such as Apple Arcade, a game subscription service; Apple Music, which offers users a curated listening experience with on-demand radio stations; Apple News+, a subscription news and magazine service; Apple TV+, which offers exclusive original content; Apple Card, a co-branded credit card; and Apple Pay, a cashless payment service, as well as licenses its intellectual property. The company serves consumers, and small and mid-sized businesses; and the education, enterprise, and government markets. It sells and delivers third-party applications for its products through the App Store. The company also sells its products through its retail and online stores, and direct sales force; and third-party cellular network carriers, wholesalers, retailers, and resellers. Apple Inc. was founded in 1977 and is headquartered in Cupertino, California.', 'city': 'Cupertino', 'phone': '408-996-1010', 'state': 'CA', 'country': 'United States', 'companyOfficers': [], 'website': 'http://www.apple.com', 'maxAge': 1, 'address1': 'One Apple Park Way', 'industry': 'Consumer Electronics', 'ebitdaMargins': 0.31955, 'profitMargins': 0.25004, 'grossMargins': 0.41005, 'operatingCashflow': 104414003200, 'revenueGrowth': 0.364, 'operatingMargins': 0.28788, 'ebitda': 110934999040, 'targetLowPrice': 132, 'recommendationKey': 'buy', 'grossProfits': 104956000000, 'freeCashflow': 80625876992, 'targetMedianPrice': 169.64, 'currentPrice': 140.91, 'earningsGrowth': 1, 'currentRatio': 1.062, 'returnOnAssets': 0.19302, 'numberOfAnalystOpinions': 42, 'targetMeanPrice': 167.92, 'debtToEquity': 210.782, 'returnOnEquity': 1.27125, 'targetHighPrice': 190, 'totalCash': 61696000000, 'totalDebt': 135491002368, 'totalRevenue': 347155005440, 'totalCashPerShare': 3.732, 'financialCurrency': 'USD', 'revenuePerShare': 20.61, 'quickRatio': 0.887, 'recommendationMean': 1.9, 'exchange': 'NMS', 'shortName': 'Apple Inc.', 'longName': 'Apple Inc.', 'exchangeTimezoneName': 'America/New_York', 'exchangeTimezoneShortName': 'EDT', 'isEsgPopulated': False, 'gmtOffSetMilliseconds': '-14400000', 'quoteType': 'EQUITY', 'symbol': 'AAPL', 'messageBoardId': 'finmb_24937', 'market': 'us_market', 'annualHoldingsTurnover': None, 'enterpriseToRevenue': 6.951, 'beta3Year': None, 'enterpriseToEbitda': 21.751, '52WeekChange': 0.16767061, 'morningStarRiskRating': None, 'forwardEps': 5.68, 'revenueQuarterlyGrowth': None, 'sharesOutstanding': 16530199552, 'fundInceptionDate': None, 'annualReportExpenseRatio': None, 'totalAssets': None, 'bookValue': 3.882, 'sharesShort': 101107412, 'sharesPercentSharesOut': 0.0061000003, 'fundFamily': None, 'lastFiscalYearEnd': 1601078400, 'heldPercentInstitutions': 0.5869, 'netIncomeToCommon': 86801997824, 'trailingEps': 5.108, 'lastDividendValue': 0.22, 'SandP52WeekChange': 0.24707985, 'priceToBook': 36.2983, 'heldPercentInsiders': 0.00072999997, 'nextFiscalYearEnd': 1664150400, 'yield': None, 'mostRecentQuarter': 1624665600, 'shortRatio': 1.18, 'sharesShortPreviousMonthDate': 1630368000, 'floatShares': 16512974627, 'beta': 1.222222, 'enterpriseValue': 2412978896896, 'priceHint': 2, 'threeYearAverageReturn': None, 'lastSplitDate': 1598832000, 'lastSplitFactor': '4:1', 'legalType': None, 'lastDividendDate': 1628208000, 'morningStarOverallRating': None, 'earningsQuarterlyGrowth': 0.932, 'priceToSalesTrailing12Months': 6.709598, 'dateShortInterest': 1632960000, 'pegRatio': 1.38, 'ytdReturn': None, 'forwardPE': 24.8081, 'lastCapGain': None, 'shortPercentOfFloat': 0.0061000003, 'sharesShortPriorMonth': 96838699, 'impliedSharesOutstanding': None, 'category': None, 'fiveYearAverageReturn': None, 'previousClose': 141.51, 'regularMarketOpen': 141.235, 'twoHundredDayAverage': 138.28957, 'trailingAnnualDividendYield': 0.0059006433, 'payoutRatio': 0.16309999, 'volume24Hr': None, 'regularMarketDayHigh': 141.4, 'navPrice': None, 'averageDailyVolume10Day': 74294614, 'regularMarketPreviousClose': 141.51, 'fiftyDayAverage': 147.11171, 'trailingAnnualDividendRate': 0.835, 'open': 141.235, 'toCurrency': None, 'averageVolume10days': 74294614, 'expireDate': None, 'algorithm': None, 'dividendRate': 0.88, 'exDividendDate': 1628208000, 'circulatingSupply': None, 'startDate': None, 'regularMarketDayLow': 139.2, 'currency': 'USD', 'trailingPE': 27.586142, 'regularMarketVolume': 74732031, 'lastMarket': None, 'maxSupply': None, 'openInterest': None, 'marketCap': 2329270550528, 'volumeAllCurrencies': None, 'strikePrice': None, 'averageVolume': 79472161, 'dayLow': 139.2, 'ask': 140.94, 'askSize': 1400, 'volume': 74732031, 'fiftyTwoWeekHigh': 157.26, 'fromCurrency': None, 'fiveYearAvgDividendYield': 1.24, 'fiftyTwoWeekLow': 107.32, 'bid': 140.92, 'tradeable': False, 'dividendYield': 0.0062, 'bidSize': 1100, 'dayHigh': 141.4, 'regularMarketPrice': 140.91, 'logo_url': 'https://logo.clearbit.com/apple.com'}\n"
          ]
        },
        {
          "output_type": "execute_result",
          "data": {
            "text/html": [
              "<div>\n",
              "<style scoped>\n",
              "    .dataframe tbody tr th:only-of-type {\n",
              "        vertical-align: middle;\n",
              "    }\n",
              "\n",
              "    .dataframe tbody tr th {\n",
              "        vertical-align: top;\n",
              "    }\n",
              "\n",
              "    .dataframe thead th {\n",
              "        text-align: right;\n",
              "    }\n",
              "</style>\n",
              "<table border=\"1\" class=\"dataframe\">\n",
              "  <thead>\n",
              "    <tr style=\"text-align: right;\">\n",
              "      <th></th>\n",
              "      <th>Open</th>\n",
              "      <th>High</th>\n",
              "      <th>Low</th>\n",
              "      <th>Close</th>\n",
              "      <th>Volume</th>\n",
              "      <th>Dividends</th>\n",
              "      <th>Stock Splits</th>\n",
              "    </tr>\n",
              "    <tr>\n",
              "      <th>Date</th>\n",
              "      <th></th>\n",
              "      <th></th>\n",
              "      <th></th>\n",
              "      <th></th>\n",
              "      <th></th>\n",
              "      <th></th>\n",
              "      <th></th>\n",
              "    </tr>\n",
              "  </thead>\n",
              "  <tbody>\n",
              "    <tr>\n",
              "      <th>2016-01-04</th>\n",
              "      <td>23.655166</td>\n",
              "      <td>24.291443</td>\n",
              "      <td>23.514540</td>\n",
              "      <td>24.286831</td>\n",
              "      <td>270597600</td>\n",
              "      <td>0.0</td>\n",
              "      <td>0</td>\n",
              "    </tr>\n",
              "    <tr>\n",
              "      <th>2016-01-05</th>\n",
              "      <td>24.379043</td>\n",
              "      <td>24.402096</td>\n",
              "      <td>23.609058</td>\n",
              "      <td>23.678217</td>\n",
              "      <td>223164000</td>\n",
              "      <td>0.0</td>\n",
              "      <td>0</td>\n",
              "    </tr>\n",
              "    <tr>\n",
              "      <th>2016-01-06</th>\n",
              "      <td>23.182571</td>\n",
              "      <td>23.599840</td>\n",
              "      <td>23.023503</td>\n",
              "      <td>23.214846</td>\n",
              "      <td>273829600</td>\n",
              "      <td>0.0</td>\n",
              "      <td>0</td>\n",
              "    </tr>\n",
              "    <tr>\n",
              "      <th>2016-01-07</th>\n",
              "      <td>22.749162</td>\n",
              "      <td>23.083437</td>\n",
              "      <td>22.230459</td>\n",
              "      <td>22.235069</td>\n",
              "      <td>324377600</td>\n",
              "      <td>0.0</td>\n",
              "      <td>0</td>\n",
              "    </tr>\n",
              "    <tr>\n",
              "      <th>2016-01-08</th>\n",
              "      <td>22.719197</td>\n",
              "      <td>22.848296</td>\n",
              "      <td>22.306540</td>\n",
              "      <td>22.352646</td>\n",
              "      <td>283192000</td>\n",
              "      <td>0.0</td>\n",
              "      <td>0</td>\n",
              "    </tr>\n",
              "    <tr>\n",
              "      <th>...</th>\n",
              "      <td>...</td>\n",
              "      <td>...</td>\n",
              "      <td>...</td>\n",
              "      <td>...</td>\n",
              "      <td>...</td>\n",
              "      <td>...</td>\n",
              "      <td>...</td>\n",
              "    </tr>\n",
              "    <tr>\n",
              "      <th>2017-12-22</th>\n",
              "      <td>41.827752</td>\n",
              "      <td>42.004949</td>\n",
              "      <td>41.784653</td>\n",
              "      <td>41.906773</td>\n",
              "      <td>65397600</td>\n",
              "      <td>0.0</td>\n",
              "      <td>0</td>\n",
              "    </tr>\n",
              "    <tr>\n",
              "      <th>2017-12-26</th>\n",
              "      <td>40.898675</td>\n",
              "      <td>41.059108</td>\n",
              "      <td>40.630484</td>\n",
              "      <td>40.843601</td>\n",
              "      <td>132742000</td>\n",
              "      <td>0.0</td>\n",
              "      <td>0</td>\n",
              "    </tr>\n",
              "    <tr>\n",
              "      <th>2017-12-27</th>\n",
              "      <td>40.731054</td>\n",
              "      <td>40.893880</td>\n",
              "      <td>40.637667</td>\n",
              "      <td>40.850780</td>\n",
              "      <td>85992800</td>\n",
              "      <td>0.0</td>\n",
              "      <td>0</td>\n",
              "    </tr>\n",
              "    <tr>\n",
              "      <th>2017-12-28</th>\n",
              "      <td>40.946561</td>\n",
              "      <td>41.150098</td>\n",
              "      <td>40.822044</td>\n",
              "      <td>40.965717</td>\n",
              "      <td>65920800</td>\n",
              "      <td>0.0</td>\n",
              "      <td>0</td>\n",
              "    </tr>\n",
              "    <tr>\n",
              "      <th>2017-12-29</th>\n",
              "      <td>40.831633</td>\n",
              "      <td>40.848393</td>\n",
              "      <td>40.520342</td>\n",
              "      <td>40.522736</td>\n",
              "      <td>103999600</td>\n",
              "      <td>0.0</td>\n",
              "      <td>0</td>\n",
              "    </tr>\n",
              "  </tbody>\n",
              "</table>\n",
              "<p>503 rows × 7 columns</p>\n",
              "</div>"
            ],
            "text/plain": [
              "                 Open       High        Low  ...     Volume  Dividends  Stock Splits\n",
              "Date                                         ...                                    \n",
              "2016-01-04  23.655166  24.291443  23.514540  ...  270597600        0.0             0\n",
              "2016-01-05  24.379043  24.402096  23.609058  ...  223164000        0.0             0\n",
              "2016-01-06  23.182571  23.599840  23.023503  ...  273829600        0.0             0\n",
              "2016-01-07  22.749162  23.083437  22.230459  ...  324377600        0.0             0\n",
              "2016-01-08  22.719197  22.848296  22.306540  ...  283192000        0.0             0\n",
              "...               ...        ...        ...  ...        ...        ...           ...\n",
              "2017-12-22  41.827752  42.004949  41.784653  ...   65397600        0.0             0\n",
              "2017-12-26  40.898675  41.059108  40.630484  ...  132742000        0.0             0\n",
              "2017-12-27  40.731054  40.893880  40.637667  ...   85992800        0.0             0\n",
              "2017-12-28  40.946561  41.150098  40.822044  ...   65920800        0.0             0\n",
              "2017-12-29  40.831633  40.848393  40.520342  ...  103999600        0.0             0\n",
              "\n",
              "[503 rows x 7 columns]"
            ]
          },
          "metadata": {},
          "execution_count": 58
        }
      ]
    },
    {
      "cell_type": "code",
      "metadata": {
        "id": "qrJfLBRoR-OK"
      },
      "source": [
        "aapl = aapl_table['Close']['2017']"
      ],
      "execution_count": 59,
      "outputs": []
    },
    {
      "cell_type": "code",
      "metadata": {
        "colab": {
          "base_uri": "https://localhost:8080/"
        },
        "id": "BXKCTKKkSFXx",
        "outputId": "6781d94a-53c6-4806-cb62-d9604a07b037"
      },
      "source": [
        "print(aapl)"
      ],
      "execution_count": 60,
      "outputs": [
        {
          "output_type": "stream",
          "name": "stdout",
          "text": [
            "Date\n",
            "2017-01-03    27.372362\n",
            "2017-01-04    27.341726\n",
            "2017-01-05    27.480770\n",
            "2017-01-06    27.787130\n",
            "2017-01-09    28.041647\n",
            "                ...    \n",
            "2017-12-22    41.906773\n",
            "2017-12-26    40.843601\n",
            "2017-12-27    40.850780\n",
            "2017-12-28    40.965717\n",
            "2017-12-29    40.522736\n",
            "Name: Close, Length: 251, dtype: float64\n"
          ]
        }
      ]
    },
    {
      "cell_type": "code",
      "metadata": {
        "id": "RHUJUjOvSI6Z"
      },
      "source": [
        "aapl = aapl_table['Close']['2016']"
      ],
      "execution_count": 86,
      "outputs": []
    },
    {
      "cell_type": "code",
      "metadata": {
        "colab": {
          "base_uri": "https://localhost:8080/"
        },
        "id": "iguBOVMASMJb",
        "outputId": "9c9239b5-5228-463b-f938-0eed4626ebcf"
      },
      "source": [
        "print(aapl)"
      ],
      "execution_count": 87,
      "outputs": [
        {
          "output_type": "stream",
          "name": "stdout",
          "text": [
            "Date\n",
            "2016-01-04    24.286825\n",
            "2016-01-05    23.678221\n",
            "2016-01-06    23.214842\n",
            "2016-01-07    22.235071\n",
            "2016-01-08    22.352638\n",
            "                ...    \n",
            "2016-12-23    27.459555\n",
            "2016-12-27    27.633949\n",
            "2016-12-28    27.516115\n",
            "2016-12-29    27.509048\n",
            "2016-12-30    27.294590\n",
            "Name: Close, Length: 252, dtype: float64\n"
          ]
        }
      ]
    },
    {
      "cell_type": "code",
      "metadata": {
        "colab": {
          "base_uri": "https://localhost:8080/"
        },
        "id": "UrXYpgTfSWvA",
        "outputId": "333df9de-9a9d-44f3-8509-7d671b60a4b4"
      },
      "source": [
        "#aapl is related to 2016, have to change to 2017\n",
        "print (aapl['2017-3'])"
      ],
      "execution_count": 90,
      "outputs": [
        {
          "output_type": "stream",
          "name": "stdout",
          "text": [
            "Date\n",
            "2017-03-01    33.086288\n",
            "2017-03-02    32.889835\n",
            "2017-03-03    33.083920\n",
            "2017-03-06    32.979774\n",
            "2017-03-07    33.022381\n",
            "2017-03-08    32.899315\n",
            "2017-03-09    32.823570\n",
            "2017-03-10    32.932442\n",
            "2017-03-13    32.946644\n",
            "2017-03-14    32.896931\n",
            "2017-03-15    33.244862\n",
            "2017-03-16    33.299305\n",
            "2017-03-17    33.133621\n",
            "2017-03-20    33.481556\n",
            "2017-03-21    33.098122\n",
            "2017-03-22    33.472084\n",
            "2017-03-23    33.353737\n",
            "2017-03-24    33.287464\n",
            "2017-03-27    33.344273\n",
            "2017-03-28    34.035389\n",
            "2017-03-29    34.111137\n",
            "2017-03-30    34.066162\n",
            "2017-03-31    34.002258\n",
            "Name: Close, dtype: float64\n"
          ]
        }
      ]
    },
    {
      "cell_type": "code",
      "metadata": {
        "colab": {
          "base_uri": "https://localhost:8080/"
        },
        "id": "eI4FAl-MSiTY",
        "outputId": "14d3872a-d118-444b-a0fa-ac14eca647a2"
      },
      "source": [
        "print ([aapl['2017-01']])"
      ],
      "execution_count": 92,
      "outputs": [
        {
          "output_type": "stream",
          "name": "stdout",
          "text": [
            "[Date\n",
            "2017-01-03    27.372358\n",
            "2017-01-04    27.341726\n",
            "2017-01-05    27.480766\n",
            "2017-01-06    27.787130\n",
            "2017-01-09    28.041647\n",
            "2017-01-10    28.069921\n",
            "2017-01-11    28.220755\n",
            "2017-01-12    28.102921\n",
            "2017-01-13    28.053432\n",
            "2017-01-17    28.279669\n",
            "2017-01-18    28.277309\n",
            "2017-01-19    28.227819\n",
            "2017-01-20    28.279669\n",
            "2017-01-23    28.298525\n",
            "2017-01-24    28.272600\n",
            "2017-01-25    28.722713\n",
            "2017-01-26    28.736851\n",
            "2017-01-27    28.739210\n",
            "2017-01-30    28.663803\n",
            "2017-01-31    28.597811\n",
            "Name: Close, dtype: float64]\n"
          ]
        }
      ]
    },
    {
      "cell_type": "code",
      "metadata": {
        "colab": {
          "base_uri": "https://localhost:8080/"
        },
        "id": "0RNMtXVPSsge",
        "outputId": "d64f66a5-a890-4d36-f527-d8a31425b692"
      },
      "source": [
        "aapl['2017-2':'2017-4']"
      ],
      "execution_count": 93,
      "outputs": [
        {
          "output_type": "execute_result",
          "data": {
            "text/plain": [
              "Date\n",
              "2017-02-01    30.341724\n",
              "2017-02-02    30.289883\n",
              "2017-02-03    30.419498\n",
              "2017-02-06    30.704647\n",
              "2017-02-07    30.996868\n",
              "                ...    \n",
              "2017-04-24    33.997517\n",
              "2017-04-25    34.208164\n",
              "2017-04-26    34.006981\n",
              "2017-04-27    34.033031\n",
              "2017-04-28    33.999889\n",
              "Name: Close, Length: 61, dtype: float64"
            ]
          },
          "metadata": {},
          "execution_count": 93
        }
      ]
    },
    {
      "cell_type": "code",
      "metadata": {
        "colab": {
          "base_uri": "https://localhost:8080/"
        },
        "id": "n4A7RMHISx7p",
        "outputId": "5a97474b-28da-470f-cc8c-02a8a4e41782"
      },
      "source": [
        "aapl['2017-7':'2017-9']"
      ],
      "execution_count": 94,
      "outputs": [
        {
          "output_type": "execute_result",
          "data": {
            "text/plain": [
              "Date\n",
              "2017-07-03    34.104584\n",
              "2017-07-05    34.244793\n",
              "2017-07-06    33.921589\n",
              "2017-07-07    34.266190\n",
              "2017-07-10    34.475330\n",
              "                ...    \n",
              "2017-09-25    35.920612\n",
              "2017-09-26    36.538574\n",
              "2017-09-27    36.798634\n",
              "2017-09-28    36.571976\n",
              "2017-09-29    36.772396\n",
              "Name: Close, Length: 63, dtype: float64"
            ]
          },
          "metadata": {},
          "execution_count": 94
        }
      ]
    },
    {
      "cell_type": "code",
      "metadata": {
        "colab": {
          "base_uri": "https://localhost:8080/"
        },
        "id": "1dTes3-pS2dz",
        "outputId": "f94c280c-8e0a-4e20-9082-ea9bfc3a6122"
      },
      "source": [
        "print(aapl.head(5))\n",
        "print(aapl.tail(10))"
      ],
      "execution_count": 95,
      "outputs": [
        {
          "output_type": "stream",
          "name": "stdout",
          "text": [
            "Date\n",
            "2017-01-03    27.372358\n",
            "2017-01-04    27.341726\n",
            "2017-01-05    27.480766\n",
            "2017-01-06    27.787130\n",
            "2017-01-09    28.041647\n",
            "Name: Close, dtype: float64\n",
            "Date\n",
            "2017-12-15    41.657738\n",
            "2017-12-18    42.244396\n",
            "2017-12-19    41.794228\n",
            "2017-12-20    41.748737\n",
            "2017-12-21    41.906773\n",
            "2017-12-22    41.906773\n",
            "2017-12-26    40.843605\n",
            "2017-12-27    40.850788\n",
            "2017-12-28    40.965725\n",
            "2017-12-29    40.522732\n",
            "Name: Close, dtype: float64\n"
          ]
        }
      ]
    },
    {
      "cell_type": "code",
      "metadata": {
        "colab": {
          "base_uri": "https://localhost:8080/"
        },
        "id": "XmOuaTicS65R",
        "outputId": "394efac5-6d4f-434e-e9e3-6d76d935894b"
      },
      "source": [
        "print(aapl.head())\n",
        "print(aapl.tail(5))"
      ],
      "execution_count": 97,
      "outputs": [
        {
          "output_type": "stream",
          "name": "stdout",
          "text": [
            "Date\n",
            "2017-01-03    27.372358\n",
            "2017-01-04    27.341726\n",
            "2017-01-05    27.480766\n",
            "2017-01-06    27.787130\n",
            "2017-01-09    28.041647\n",
            "Name: Close, dtype: float64\n",
            "Date\n",
            "2017-12-22    41.906773\n",
            "2017-12-26    40.843605\n",
            "2017-12-27    40.850788\n",
            "2017-12-28    40.965725\n",
            "2017-12-29    40.522732\n",
            "Name: Close, dtype: float64\n"
          ]
        }
      ]
    },
    {
      "cell_type": "code",
      "metadata": {
        "colab": {
          "base_uri": "https://localhost:8080/"
        },
        "id": "iLoyE5YVTDLC",
        "outputId": "b4b0d9c5-85d7-4f6f-9a15-721b5e6280ad"
      },
      "source": [
        "by_month = aapl.resample('M').mean()\n",
        "print (by_month)"
      ],
      "execution_count": 61,
      "outputs": [
        {
          "output_type": "stream",
          "name": "stdout",
          "text": [
            "Date\n",
            "2017-01-31    28.178332\n",
            "2017-02-28    31.606276\n",
            "2017-03-31    33.282218\n",
            "2017-04-30    33.819263\n",
            "2017-05-31    36.125684\n",
            "2017-06-30    35.133982\n",
            "2017-07-31    35.245242\n",
            "2017-08-31    37.897226\n",
            "2017-09-30    37.604737\n",
            "2017-10-31    37.654551\n",
            "2017-11-30    41.233916\n",
            "2017-12-31    41.160038\n",
            "Freq: M, Name: Close, dtype: float64\n"
          ]
        }
      ]
    },
    {
      "cell_type": "code",
      "metadata": {
        "colab": {
          "base_uri": "https://localhost:8080/"
        },
        "id": "L5DFzb3bTZ9E",
        "outputId": "750b8b6d-8d58-4312-efcb-bdb1c58a0539"
      },
      "source": [
        "by_week = aapl.resample('W').mean()\n",
        "print (by_week)"
      ],
      "execution_count": 62,
      "outputs": [
        {
          "output_type": "stream",
          "name": "stdout",
          "text": [
            "Date\n",
            "2017-01-08    27.495497\n",
            "2017-01-15    28.097734\n",
            "2017-01-22    28.266115\n",
            "2017-01-29    28.553982\n",
            "2017-02-05    29.662541\n",
            "2017-02-12    31.086280\n",
            "2017-02-19    31.947353\n",
            "2017-02-26    32.366764\n",
            "2017-03-05    32.778590\n",
            "2017-03-12    32.931491\n",
            "2017-03-19    33.104274\n",
            "2017-03-26    33.338592\n",
            "2017-04-02    33.911842\n",
            "2017-04-09    34.058591\n",
            "2017-04-16    33.588653\n",
            "2017-04-23    33.534568\n",
            "2017-04-30    34.049117\n",
            "2017-05-07    34.870425\n",
            "2017-05-14    36.524844\n",
            "2017-05-21    36.458389\n",
            "2017-05-28    36.533966\n",
            "2017-06-04    36.544185\n",
            "2017-06-11    36.491663\n",
            "2017-06-18    34.400708\n",
            "2017-06-25    34.657381\n",
            "2017-07-02    34.369809\n",
            "2017-07-09    34.134287\n",
            "2017-07-16    34.847989\n",
            "2017-07-23    35.709753\n",
            "2017-07-30    36.046284\n",
            "2017-08-06    36.499265\n",
            "2017-08-13    37.739789\n",
            "2017-08-20    38.068447\n",
            "2017-08-27    37.989230\n",
            "2017-09-03    38.928349\n",
            "2017-09-10    38.406775\n",
            "2017-09-17    38.183457\n",
            "2017-09-24    37.161306\n",
            "2017-10-01    36.520437\n",
            "2017-10-08    36.861154\n",
            "2017-10-15    37.282037\n",
            "2017-10-22    37.809811\n",
            "2017-10-29    37.704830\n",
            "2017-11-05    40.239673\n",
            "2017-11-12    41.824805\n",
            "2017-11-19    40.977213\n",
            "2017-11-26    41.488331\n",
            "2017-12-03    41.163989\n",
            "2017-12-10    40.570142\n",
            "2017-12-17    41.321551\n",
            "2017-12-24    41.920183\n",
            "2017-12-31    40.795709\n",
            "Freq: W-SUN, Name: Close, dtype: float64\n"
          ]
        }
      ]
    },
    {
      "cell_type": "code",
      "metadata": {
        "colab": {
          "base_uri": "https://localhost:8080/"
        },
        "id": "sESw1bZnTg9y",
        "outputId": "296eadd1-78a7-4b7f-dac6-7e0e3715cbf5"
      },
      "source": [
        "by_week = aapl.resample('W').mean()\n",
        "print (by_week.head())"
      ],
      "execution_count": 63,
      "outputs": [
        {
          "output_type": "stream",
          "name": "stdout",
          "text": [
            "Date\n",
            "2017-01-08    27.495497\n",
            "2017-01-15    28.097734\n",
            "2017-01-22    28.266115\n",
            "2017-01-29    28.553982\n",
            "2017-02-05    29.662541\n",
            "Freq: W-SUN, Name: Close, dtype: float64\n"
          ]
        }
      ]
    },
    {
      "cell_type": "code",
      "metadata": {
        "colab": {
          "base_uri": "https://localhost:8080/"
        },
        "id": "5myim18HTn44",
        "outputId": "e6bc9c53-47bf-4efa-8a1e-e835177ab0c4"
      },
      "source": [
        "by_week = aapl.resample('W').mean()\n",
        "print (by_week.head(10))"
      ],
      "execution_count": 64,
      "outputs": [
        {
          "output_type": "stream",
          "name": "stdout",
          "text": [
            "Date\n",
            "2017-01-08    27.495497\n",
            "2017-01-15    28.097734\n",
            "2017-01-22    28.266115\n",
            "2017-01-29    28.553982\n",
            "2017-02-05    29.662541\n",
            "2017-02-12    31.086280\n",
            "2017-02-19    31.947353\n",
            "2017-02-26    32.366764\n",
            "2017-03-05    32.778590\n",
            "2017-03-12    32.931491\n",
            "Freq: W-SUN, Name: Close, dtype: float64\n"
          ]
        }
      ]
    },
    {
      "cell_type": "code",
      "metadata": {
        "colab": {
          "base_uri": "https://localhost:8080/"
        },
        "id": "ejbNZJyfTt9i",
        "outputId": "6ecd0829-0de7-4006-ef55-32d58acf8db5"
      },
      "source": [
        "aapl.resample('M').max()"
      ],
      "execution_count": 65,
      "outputs": [
        {
          "output_type": "execute_result",
          "data": {
            "text/plain": [
              "Date\n",
              "2017-01-31    28.739212\n",
              "2017-02-28    32.451962\n",
              "2017-03-31    34.111130\n",
              "2017-04-30    34.264984\n",
              "2017-05-31    37.099133\n",
              "2017-06-30    36.944649\n",
              "2017-07-31    36.471706\n",
              "2017-08-31    39.129723\n",
              "2017-09-30    39.141647\n",
              "2017-10-31    40.332233\n",
              "2017-11-30    42.050140\n",
              "2017-12-31    42.244408\n",
              "Freq: M, Name: Close, dtype: float64"
            ]
          },
          "metadata": {},
          "execution_count": 65
        }
      ]
    },
    {
      "cell_type": "code",
      "metadata": {
        "colab": {
          "base_uri": "https://localhost:8080/"
        },
        "id": "7jgQgsMPTwUR",
        "outputId": "8d5f03a9-b990-4b77-c674-f0c8381870f3"
      },
      "source": [
        "aapl.resample('W').max()"
      ],
      "execution_count": 66,
      "outputs": [
        {
          "output_type": "execute_result",
          "data": {
            "text/plain": [
              "Date\n",
              "2017-01-08    27.787130\n",
              "2017-01-15    28.220753\n",
              "2017-01-22    28.279667\n",
              "2017-01-29    28.739212\n",
              "2017-02-05    30.419489\n",
              "2017-02-12    31.341906\n",
              "2017-02-19    32.122978\n",
              "2017-02-26    32.451962\n",
              "2017-03-05    33.086285\n",
              "2017-03-12    33.022377\n",
              "2017-03-19    33.299305\n",
              "2017-03-26    33.481560\n",
              "2017-04-02    34.111130\n",
              "2017-04-09    34.264984\n",
              "2017-04-16    33.886284\n",
              "2017-04-23    33.713501\n",
              "2017-04-30    34.208168\n",
              "2017-05-07    35.256699\n",
              "2017-05-14    37.099133\n",
              "2017-05-21    37.004059\n",
              "2017-05-28    36.597660\n",
              "2017-06-04    36.944649\n",
              "2017-06-11    36.925636\n",
              "2017-06-18    34.838966\n",
              "2017-06-25    34.779541\n",
              "2017-07-02    34.658333\n",
              "2017-07-09    34.266186\n",
              "2017-07-16    35.421227\n",
              "2017-07-23    35.891808\n",
              "2017-07-30    36.471706\n",
              "2017-08-06    37.346298\n",
              "2017-08-13    38.277939\n",
              "2017-08-20    38.557095\n",
              "2017-08-27    38.170559\n",
              "2017-09-03    39.141647\n",
              "2017-09-10    38.671616\n",
              "2017-09-17    38.533234\n",
              "2017-09-24    37.872318\n",
              "2017-10-01    36.798641\n",
              "2017-10-08    37.075417\n",
              "2017-10-15    37.457165\n",
              "2017-10-22    38.287483\n",
              "2017-10-29    38.903061\n",
              "2017-11-05    41.157795\n",
              "2017-11-12    42.050140\n",
              "2017-11-19    41.657745\n",
              "2017-11-26    41.897202\n",
              "2017-12-03    41.686478\n",
              "2017-12-10    40.659225\n",
              "2017-12-17    41.657745\n",
              "2017-12-24    42.244408\n",
              "2017-12-31    40.965717\n",
              "Freq: W-SUN, Name: Close, dtype: float64"
            ]
          },
          "metadata": {},
          "execution_count": 66
        }
      ]
    },
    {
      "cell_type": "code",
      "metadata": {
        "colab": {
          "base_uri": "https://localhost:8080/"
        },
        "id": "dS7diF99T4Ae",
        "outputId": "799fe3a6-2009-473c-fef0-bca8e8dacbcd"
      },
      "source": [
        "three_day = aapl.resample('3D').mean()\n",
        "two_week = aapl.resample('2W').mean()\n",
        "two_month = aapl.resample('2M').mean()\n",
        "\n",
        "\n",
        "print(three_day)\n",
        "print(two_week)\n",
        "print(two_month )"
      ],
      "execution_count": 104,
      "outputs": [
        {
          "output_type": "stream",
          "name": "stdout",
          "text": [
            "Date\n",
            "2017-01-03    27.398284\n",
            "2017-01-06    27.787130\n",
            "2017-01-09    28.110774\n",
            "2017-01-12    28.078176\n",
            "2017-01-15    28.279669\n",
            "                ...    \n",
            "2017-12-17    42.019312\n",
            "2017-12-20    41.854094\n",
            "2017-12-23          NaN\n",
            "2017-12-26    40.886706\n",
            "2017-12-29    40.522732\n",
            "Freq: 3D, Name: Close, Length: 121, dtype: float64\n",
            "Date\n",
            "2017-01-08    27.495495\n",
            "2017-01-22    28.172571\n",
            "2017-02-05    29.108262\n",
            "2017-02-19    31.516814\n",
            "2017-03-05    32.595558\n",
            "2017-03-19    33.017884\n",
            "2017-04-02    33.625218\n",
            "2017-04-16    33.849728\n",
            "2017-04-30    33.791842\n",
            "2017-05-14    35.697632\n",
            "2017-05-28    36.496180\n",
            "2017-06-11    36.515006\n",
            "2017-06-25    34.529045\n",
            "2017-07-09    34.265134\n",
            "2017-07-23    35.278871\n",
            "2017-08-06    36.272775\n",
            "2017-08-20    37.904117\n",
            "2017-09-03    38.458793\n",
            "2017-09-17    38.282706\n",
            "2017-10-01    36.840872\n",
            "2017-10-15    37.071597\n",
            "2017-10-29    37.757320\n",
            "2017-11-12    41.032240\n",
            "2017-11-26    41.204376\n",
            "2017-12-10    40.867067\n",
            "2017-12-24    41.620865\n",
            "2018-01-07    40.795712\n",
            "Freq: 2W-SUN, Name: Close, dtype: float64\n",
            "Date\n",
            "2017-01-31    28.178332\n",
            "2017-03-31    32.524055\n",
            "2017-05-31    35.056854\n",
            "2017-07-31    35.186963\n",
            "2017-09-30    37.761185\n",
            "2017-11-30    39.402613\n",
            "2018-01-31    41.160038\n",
            "Freq: 2M, Name: Close, dtype: float64\n"
          ]
        }
      ]
    },
    {
      "cell_type": "code",
      "metadata": {
        "colab": {
          "base_uri": "https://localhost:8080/"
        },
        "id": "X-oGLi03T_CF",
        "outputId": "2f32b1e7-58f8-488d-ab52-4652c8c46b6e"
      },
      "source": [
        "five_day = aapl.resample('5D').mean()\n",
        "four_week = aapl.resample('4W').mean()\n",
        "six_month = aapl.resample('6M').mean()\n",
        "\n",
        "\n",
        "print(five_day)\n",
        "print(four_week)\n",
        "print(six_month )"
      ],
      "execution_count": 105,
      "outputs": [
        {
          "output_type": "stream",
          "name": "stdout",
          "text": [
            "Date\n",
            "2017-01-03    27.495495\n",
            "2017-01-08    28.108811\n",
            "2017-01-13    28.166551\n",
            "2017-01-18    28.261599\n",
            "2017-01-23    28.553980\n",
            "                ...    \n",
            "2017-12-09    41.237105\n",
            "2017-12-14    41.713609\n",
            "2017-12-19    41.839128\n",
            "2017-12-24    40.886706\n",
            "2017-12-29    40.522732\n",
            "Freq: 5D, Name: Close, Length: 73, dtype: float64\n",
            "Date\n",
            "2017-01-08    27.495495\n",
            "2017-02-05    28.665040\n",
            "2017-03-05    32.027798\n",
            "2017-04-02    33.321551\n",
            "2017-04-30    33.819261\n",
            "2017-05-28    36.096906\n",
            "2017-06-25    35.469763\n",
            "2017-07-23    34.798680\n",
            "2017-08-20    37.088446\n",
            "2017-09-17    38.375383\n",
            "2017-10-15    36.956234\n",
            "2017-11-12    39.394780\n",
            "2017-12-10    41.026845\n",
            "2018-01-07    41.385107\n",
            "Freq: 4W-SUN, Name: Close, dtype: float64\n",
            "Date\n",
            "2017-01-31    28.178332\n",
            "2017-07-31    34.249550\n",
            "2018-01-31    39.068340\n",
            "Freq: 6M, Name: Close, dtype: float64\n"
          ]
        }
      ]
    },
    {
      "cell_type": "code",
      "metadata": {
        "colab": {
          "base_uri": "https://localhost:8080/"
        },
        "id": "BRvMYVmIUOjn",
        "outputId": "075fd9ea-ec72-4e8c-c669-48771ab24910"
      },
      "source": [
        "std = aapl.resample('W').std()\n",
        "max = aapl.resample('W').max()\n",
        "min = aapl.resample('W').min()\n",
        "\n",
        "\n",
        "print(std)\n",
        "print(max)\n",
        "print(min)"
      ],
      "execution_count": 106,
      "outputs": [
        {
          "output_type": "stream",
          "name": "stdout",
          "text": [
            "Date\n",
            "2017-01-08    0.203368\n",
            "2017-01-15    0.072531\n",
            "2017-01-22    0.025556\n",
            "2017-01-29    0.245283\n",
            "2017-02-05    0.943260\n",
            "2017-02-12    0.252001\n",
            "2017-02-19    0.231393\n",
            "2017-02-26    0.059348\n",
            "2017-03-05    0.340091\n",
            "2017-03-12    0.076281\n",
            "2017-03-19    0.177835\n",
            "2017-03-26    0.157264\n",
            "2017-04-02    0.319807\n",
            "2017-04-09    0.128689\n",
            "2017-04-16    0.212474\n",
            "2017-04-23    0.174672\n",
            "2017-04-30    0.090022\n",
            "2017-05-07    0.235637\n",
            "2017-05-14    0.352979\n",
            "2017-05-21    0.536091\n",
            "2017-05-28    0.060391\n",
            "2017-06-04    0.281223\n",
            "2017-06-11    0.620034\n",
            "2017-06-18    0.382568\n",
            "2017-06-25    0.128891\n",
            "2017-07-02    0.264107\n",
            "2017-07-09    0.158884\n",
            "2017-07-16    0.404282\n",
            "2017-07-23    0.124986\n",
            "2017-07-30    0.384441\n",
            "2017-08-06    0.924393\n",
            "2017-08-13    0.467468\n",
            "2017-08-20    0.435254\n",
            "2017-08-27    0.275764\n",
            "2017-09-03    0.251728\n",
            "2017-09-10    0.381641\n",
            "2017-09-17    0.294141\n",
            "2017-09-24    0.735193\n",
            "2017-10-01    0.354842\n",
            "2017-10-08    0.204856\n",
            "2017-10-15    0.118732\n",
            "2017-10-22    0.516999\n",
            "2017-10-29    0.680459\n",
            "2017-11-05    0.560684\n",
            "2017-11-12    0.190972\n",
            "2017-11-19    0.436195\n",
            "2017-11-26    0.563048\n",
            "2017-12-03    0.427444\n",
            "2017-12-10    0.073129\n",
            "2017-12-17    0.205261\n",
            "2017-12-24    0.194121\n",
            "2017-12-31    0.190394\n",
            "Freq: W-SUN, Name: Close, dtype: float64\n",
            "Date\n",
            "2017-01-08    27.787130\n",
            "2017-01-15    28.220755\n",
            "2017-01-22    28.279669\n",
            "2017-01-29    28.739210\n",
            "2017-02-05    30.419498\n",
            "2017-02-12    31.341908\n",
            "2017-02-19    32.122974\n",
            "2017-02-26    32.451973\n",
            "2017-03-05    33.086288\n",
            "2017-03-12    33.022381\n",
            "2017-03-19    33.299305\n",
            "2017-03-26    33.481556\n",
            "2017-04-02    34.111137\n",
            "2017-04-09    34.264980\n",
            "2017-04-16    33.886276\n",
            "2017-04-23    33.713505\n",
            "2017-04-30    34.208164\n",
            "2017-05-07    35.256695\n",
            "2017-05-14    37.099129\n",
            "2017-05-21    37.004063\n",
            "2017-05-28    36.597660\n",
            "2017-06-04    36.944649\n",
            "2017-06-11    36.925636\n",
            "2017-06-18    34.838959\n",
            "2017-06-25    34.779537\n",
            "2017-07-02    34.658329\n",
            "2017-07-09    34.266190\n",
            "2017-07-16    35.421227\n",
            "2017-07-23    35.891796\n",
            "2017-07-30    36.471699\n",
            "2017-08-06    37.346298\n",
            "2017-08-13    38.277927\n",
            "2017-08-20    38.557098\n",
            "2017-08-27    38.170567\n",
            "2017-09-03    39.141659\n",
            "2017-09-10    38.671612\n",
            "2017-09-17    38.533234\n",
            "2017-09-24    37.872326\n",
            "2017-10-01    36.798634\n",
            "2017-10-08    37.075417\n",
            "2017-10-15    37.457169\n",
            "2017-10-22    38.287479\n",
            "2017-10-29    38.903065\n",
            "2017-11-05    41.157795\n",
            "2017-11-12    42.050140\n",
            "2017-11-19    41.657738\n",
            "2017-11-26    41.897198\n",
            "2017-12-03    41.686470\n",
            "2017-12-10    40.659218\n",
            "2017-12-17    41.657738\n",
            "2017-12-24    42.244396\n",
            "2017-12-31    40.965725\n",
            "Freq: W-SUN, Name: Close, dtype: float64\n",
            "Date\n",
            "2017-01-08    27.341726\n",
            "2017-01-15    28.041647\n",
            "2017-01-22    28.227819\n",
            "2017-01-29    28.272600\n",
            "2017-02-05    28.597811\n",
            "2017-02-12    30.704647\n",
            "2017-02-19    31.547825\n",
            "2017-02-26    32.314690\n",
            "2017-03-05    32.409367\n",
            "2017-03-12    32.823570\n",
            "2017-03-19    32.896931\n",
            "2017-03-26    33.098122\n",
            "2017-04-02    33.344273\n",
            "2017-04-09    33.926517\n",
            "2017-04-16    33.384506\n",
            "2017-04-23    33.296936\n",
            "2017-04-30    33.997517\n",
            "2017-05-07    34.681549\n",
            "2017-05-14    36.215267\n",
            "2017-05-21    35.708805\n",
            "2017-05-28    36.443180\n",
            "2017-06-04    36.305336\n",
            "2017-06-11    35.406971\n",
            "2017-06-18    33.812252\n",
            "2017-06-25    34.463451\n",
            "2017-07-02    34.147350\n",
            "2017-07-09    33.921589\n",
            "2017-07-16    34.475330\n",
            "2017-07-23    35.544819\n",
            "2017-07-30    35.530552\n",
            "2017-08-06    35.347553\n",
            "2017-08-13    37.058708\n",
            "2017-08-20    37.578846\n",
            "2017-08-27    37.509663\n",
            "2017-09-03    38.526073\n",
            "2017-09-10    37.848457\n",
            "2017-09-17    37.764950\n",
            "2017-09-24    36.240326\n",
            "2017-10-01    35.920612\n",
            "2017-10-08    36.619694\n",
            "2017-10-15    37.182777\n",
            "2017-10-22    37.216183\n",
            "2017-10-29    37.261517\n",
            "2017-11-05    39.778713\n",
            "2017-11-12    41.575333\n",
            "2017-11-19    40.486816\n",
            "2017-11-26    40.702316\n",
            "2017-12-03    40.582592\n",
            "2017-12-10    40.470051\n",
            "2017-12-17    41.114189\n",
            "2017-12-24    41.748737\n",
            "2017-12-31    40.522732\n",
            "Freq: W-SUN, Name: Close, dtype: float64\n"
          ]
        }
      ]
    },
    {
      "cell_type": "code",
      "metadata": {
        "colab": {
          "base_uri": "https://localhost:8080/"
        },
        "id": "vIu8jipXURvL",
        "outputId": "93561ee1-8ee1-4318-c051-75cd3c491ece"
      },
      "source": [
        "std = aapl.resample('M').std()\n",
        "max = aapl.resample('M').max()\n",
        "min = aapl.resample('M').min()\n",
        "\n",
        "\n",
        "print(std)\n",
        "print(max)\n",
        "print(min)"
      ],
      "execution_count": 107,
      "outputs": [
        {
          "output_type": "stream",
          "name": "stdout",
          "text": [
            "Date\n",
            "2017-01-31    0.425088\n",
            "2017-02-28    0.773847\n",
            "2017-03-31    0.407926\n",
            "2017-04-30    0.291041\n",
            "2017-05-31    0.760190\n",
            "2017-06-30    1.053871\n",
            "2017-07-31    0.774826\n",
            "2017-08-31    0.767478\n",
            "2017-09-30    0.943681\n",
            "2017-10-31    0.946221\n",
            "2017-11-30    0.638005\n",
            "2017-12-31    0.551568\n",
            "Freq: M, Name: Close, dtype: float64\n",
            "Date\n",
            "2017-01-31    28.739210\n",
            "2017-02-28    32.451973\n",
            "2017-03-31    34.111137\n",
            "2017-04-30    34.264980\n",
            "2017-05-31    37.099129\n",
            "2017-06-30    36.944649\n",
            "2017-07-31    36.471699\n",
            "2017-08-31    39.129726\n",
            "2017-09-30    39.141659\n",
            "2017-10-31    40.332253\n",
            "2017-11-30    42.050140\n",
            "2017-12-31    42.244396\n",
            "Freq: M, Name: Close, dtype: float64\n",
            "Date\n",
            "2017-01-31    27.341726\n",
            "2017-02-28    30.289883\n",
            "2017-03-31    32.823570\n",
            "2017-04-30    33.296936\n",
            "2017-05-31    34.681549\n",
            "2017-06-30    33.812252\n",
            "2017-07-31    33.921589\n",
            "2017-08-31    35.661266\n",
            "2017-09-30    35.920612\n",
            "2017-10-31    36.619694\n",
            "2017-11-30    39.819267\n",
            "2017-12-31    40.470051\n",
            "Freq: M, Name: Close, dtype: float64\n"
          ]
        }
      ]
    },
    {
      "cell_type": "code",
      "metadata": {
        "colab": {
          "base_uri": "https://localhost:8080/"
        },
        "id": "B3Qwi_2_UWHL",
        "outputId": "0dfd991e-37d0-48d1-c310-ba93fc291fda"
      },
      "source": [
        "last_dayM = aapl.resample('M').agg(lambda x: x[-1])\n",
        "print(last_dayM)"
      ],
      "execution_count": 67,
      "outputs": [
        {
          "output_type": "stream",
          "name": "stdout",
          "text": [
            "Date\n",
            "2017-01-31    28.597813\n",
            "2017-02-28    32.423565\n",
            "2017-03-31    34.002254\n",
            "2017-04-30    33.999886\n",
            "2017-05-31    36.305328\n",
            "2017-06-30    34.228161\n",
            "2017-07-31    35.347549\n",
            "2017-08-31    39.129723\n",
            "2017-09-30    36.772388\n",
            "2017-10-31    40.332233\n",
            "2017-11-30    41.150101\n",
            "2017-12-31    40.522736\n",
            "Freq: M, Name: Close, dtype: float64\n"
          ]
        }
      ]
    },
    {
      "cell_type": "code",
      "metadata": {
        "colab": {
          "base_uri": "https://localhost:8080/"
        },
        "id": "uwPTw7IvUa3z",
        "outputId": "df9b911d-31f8-4cfe-ae1e-cc5aa085b5f9"
      },
      "source": [
        "last_dayW = aapl.resample('W').agg(lambda x: x[-1])\n",
        "print(last_dayW)"
      ],
      "execution_count": 68,
      "outputs": [
        {
          "output_type": "stream",
          "name": "stdout",
          "text": [
            "Date\n",
            "2017-01-08    27.787130\n",
            "2017-01-15    28.053427\n",
            "2017-01-22    28.279667\n",
            "2017-01-29    28.739212\n",
            "2017-02-05    30.419489\n",
            "2017-02-12    31.270912\n",
            "2017-02-19    32.122978\n",
            "2017-02-26    32.345467\n",
            "2017-03-05    33.083912\n",
            "2017-03-12    32.932446\n",
            "2017-03-19    33.133625\n",
            "2017-03-26    33.287476\n",
            "2017-04-02    34.002254\n",
            "2017-04-09    33.926525\n",
            "2017-04-16    33.384510\n",
            "2017-04-23    33.673264\n",
            "2017-04-30    33.999886\n",
            "2017-05-07    35.256699\n",
            "2017-05-14    37.099133\n",
            "2017-05-21    36.376629\n",
            "2017-05-28    36.507347\n",
            "2017-06-04    36.944649\n",
            "2017-06-11    35.406975\n",
            "2017-06-18    33.812256\n",
            "2017-06-25    34.765278\n",
            "2017-07-02    34.228161\n",
            "2017-07-09    34.266186\n",
            "2017-07-16    35.421227\n",
            "2017-07-23    35.713558\n",
            "2017-07-30    35.530552\n",
            "2017-08-06    37.168041\n",
            "2017-08-13    37.574078\n",
            "2017-08-20    37.578842\n",
            "2017-08-27    38.141937\n",
            "2017-09-03    39.141647\n",
            "2017-09-10    37.848465\n",
            "2017-09-17    38.146713\n",
            "2017-09-24    36.240330\n",
            "2017-10-01    36.772388\n",
            "2017-10-08    37.053944\n",
            "2017-10-15    37.457165\n",
            "2017-10-22    37.280605\n",
            "2017-10-29    38.903061\n",
            "2017-11-05    41.157795\n",
            "2017-11-12    41.825359\n",
            "2017-11-19    40.743019\n",
            "2017-11-26    41.897202\n",
            "2017-12-03    40.958542\n",
            "2017-12-10    40.556252\n",
            "2017-12-17    41.657745\n",
            "2017-12-24    41.906773\n",
            "2017-12-31    40.522736\n",
            "Freq: W-SUN, Name: Close, dtype: float64\n"
          ]
        }
      ]
    },
    {
      "cell_type": "code",
      "metadata": {
        "colab": {
          "base_uri": "https://localhost:8080/"
        },
        "id": "58KyWqB8VwQK",
        "outputId": "7bdccd97-9158-4f79-ea01-486369f84d51"
      },
      "source": [
        "weekly_return = aapl.resample('W').agg(lambda x: x[-1]/x[0] - 1)\n",
        "print(weekly_return)"
      ],
      "execution_count": 114,
      "outputs": [
        {
          "output_type": "stream",
          "name": "stdout",
          "text": [
            "Date\n",
            "2017-01-08    0.015153\n",
            "2017-01-15    0.000420\n",
            "2017-01-22    0.000000\n",
            "2017-01-29    0.015573\n",
            "2017-02-05    0.061251\n",
            "2017-02-12    0.018442\n",
            "2017-02-19    0.018231\n",
            "2017-02-26   -0.000293\n",
            "2017-03-05    0.020814\n",
            "2017-03-12   -0.001435\n",
            "2017-03-19    0.005675\n",
            "2017-03-26   -0.005797\n",
            "2017-04-02    0.019733\n",
            "2017-04-09   -0.002505\n",
            "2017-04-16   -0.014807\n",
            "2017-04-23    0.003102\n",
            "2017-04-30    0.000070\n",
            "2017-05-07    0.016237\n",
            "2017-05-14    0.024406\n",
            "2017-05-21   -0.016955\n",
            "2017-05-28   -0.002468\n",
            "2017-06-04    0.011583\n",
            "2017-06-11   -0.032157\n",
            "2017-06-18   -0.021662\n",
            "2017-06-25   -0.000410\n",
            "2017-07-02   -0.012344\n",
            "2017-07-09    0.004739\n",
            "2017-07-16    0.027437\n",
            "2017-07-23    0.004747\n",
            "2017-07-30   -0.017030\n",
            "2017-08-06    0.051503\n",
            "2017-08-13   -0.004481\n",
            "2017-08-20   -0.014701\n",
            "2017-08-27    0.016856\n",
            "2017-09-03    0.015978\n",
            "2017-09-10   -0.021286\n",
            "2017-09-17   -0.010031\n",
            "2017-09-24   -0.042730\n",
            "2017-10-01    0.023713\n",
            "2017-10-08    0.009687\n",
            "2017-10-15    0.007380\n",
            "2017-10-22   -0.022705\n",
            "2017-10-29    0.044055\n",
            "2017-11-05    0.034669\n",
            "2017-11-12    0.006014\n",
            "2017-11-19   -0.021958\n",
            "2017-11-26    0.029357\n",
            "2017-12-03   -0.017462\n",
            "2017-12-10   -0.002532\n",
            "2017-12-17    0.007529\n",
            "2017-12-24   -0.007992\n",
            "2017-12-31   -0.007856\n",
            "Freq: W-SUN, Name: Close, dtype: float64\n"
          ]
        }
      ]
    },
    {
      "cell_type": "code",
      "metadata": {
        "colab": {
          "base_uri": "https://localhost:8080/"
        },
        "id": "OWFCzkVhV7J1",
        "outputId": "8d64b8c2-b9f3-4d47-c4d2-6e81843fd451"
      },
      "source": [
        "print(weekly_return.mean())\n",
        "print(weekly_return.std())\n",
        "print(weekly_return.max())"
      ],
      "execution_count": 117,
      "outputs": [
        {
          "output_type": "stream",
          "name": "stdout",
          "text": [
            "0.004091466186323859\n",
            "0.020404121863419174\n",
            "0.06125130488988351\n"
          ]
        }
      ]
    },
    {
      "cell_type": "code",
      "metadata": {
        "colab": {
          "base_uri": "https://localhost:8080/"
        },
        "id": "sj__f4OjWDNg",
        "outputId": "9a2bcb07-e9e6-4a3c-9f29-5fd193b80dec"
      },
      "source": [
        "#Last day of month\n",
        "print(last_dayM.diff())\n",
        "print(last_dayM.pct_change())"
      ],
      "execution_count": 69,
      "outputs": [
        {
          "output_type": "stream",
          "name": "stdout",
          "text": [
            "Date\n",
            "2017-01-31         NaN\n",
            "2017-02-28    3.825752\n",
            "2017-03-31    1.578690\n",
            "2017-04-30   -0.002369\n",
            "2017-05-31    2.305443\n",
            "2017-06-30   -2.077168\n",
            "2017-07-31    1.119389\n",
            "2017-08-31    3.782173\n",
            "2017-09-30   -2.357334\n",
            "2017-10-31    3.559845\n",
            "2017-11-30    0.817867\n",
            "2017-12-31   -0.627365\n",
            "Freq: M, Name: Close, dtype: float64\n",
            "Date\n",
            "2017-01-31         NaN\n",
            "2017-02-28    0.133778\n",
            "2017-03-31    0.048690\n",
            "2017-04-30   -0.000070\n",
            "2017-05-31    0.067807\n",
            "2017-06-30   -0.057214\n",
            "2017-07-31    0.032704\n",
            "2017-08-31    0.107000\n",
            "2017-09-30   -0.060244\n",
            "2017-10-31    0.096808\n",
            "2017-11-30    0.020278\n",
            "2017-12-31   -0.015246\n",
            "Freq: M, Name: Close, dtype: float64\n"
          ]
        }
      ]
    },
    {
      "cell_type": "code",
      "metadata": {
        "colab": {
          "base_uri": "https://localhost:8080/"
        },
        "id": "ZqtlVocrWiE0",
        "outputId": "e7f2d537-0819-40f0-bf1f-b00db1767952"
      },
      "source": [
        "#Last day of week\n",
        "print(last_dayW.diff())\n",
        "print(last_dayW.pct_change())"
      ],
      "execution_count": 70,
      "outputs": [
        {
          "output_type": "stream",
          "name": "stdout",
          "text": [
            "Date\n",
            "2017-01-08         NaN\n",
            "2017-01-15    0.266296\n",
            "2017-01-22    0.226240\n",
            "2017-01-29    0.459545\n",
            "2017-02-05    1.680277\n",
            "2017-02-12    0.851423\n",
            "2017-02-19    0.852066\n",
            "2017-02-26    0.222488\n",
            "2017-03-05    0.738445\n",
            "2017-03-12   -0.151466\n",
            "2017-03-19    0.201180\n",
            "2017-03-26    0.153851\n",
            "2017-04-02    0.714779\n",
            "2017-04-09   -0.075729\n",
            "2017-04-16   -0.542015\n",
            "2017-04-23    0.288754\n",
            "2017-04-30    0.326622\n",
            "2017-05-07    1.256813\n",
            "2017-05-14    1.842434\n",
            "2017-05-21   -0.722504\n",
            "2017-05-28    0.130718\n",
            "2017-06-04    0.437302\n",
            "2017-06-11   -1.537674\n",
            "2017-06-18   -1.594719\n",
            "2017-06-25    0.953022\n",
            "2017-07-02   -0.537117\n",
            "2017-07-09    0.038025\n",
            "2017-07-16    1.155041\n",
            "2017-07-23    0.292332\n",
            "2017-07-30   -0.183006\n",
            "2017-08-06    1.637489\n",
            "2017-08-13    0.406036\n",
            "2017-08-20    0.004765\n",
            "2017-08-27    0.563095\n",
            "2017-09-03    0.999710\n",
            "2017-09-10   -1.293182\n",
            "2017-09-17    0.298248\n",
            "2017-09-24   -1.906384\n",
            "2017-10-01    0.532059\n",
            "2017-10-08    0.281555\n",
            "2017-10-15    0.403221\n",
            "2017-10-22   -0.176559\n",
            "2017-10-29    1.622456\n",
            "2017-11-05    2.254734\n",
            "2017-11-12    0.667564\n",
            "2017-11-19   -1.082340\n",
            "2017-11-26    1.154182\n",
            "2017-12-03   -0.938660\n",
            "2017-12-10   -0.402290\n",
            "2017-12-17    1.101494\n",
            "2017-12-24    0.249027\n",
            "2017-12-31   -1.384037\n",
            "Freq: W-SUN, Name: Close, dtype: float64\n",
            "Date\n",
            "2017-01-08         NaN\n",
            "2017-01-15    0.009583\n",
            "2017-01-22    0.008065\n",
            "2017-01-29    0.016250\n",
            "2017-02-05    0.058466\n",
            "2017-02-12    0.027989\n",
            "2017-02-19    0.027248\n",
            "2017-02-26    0.006926\n",
            "2017-03-05    0.022830\n",
            "2017-03-12   -0.004578\n",
            "2017-03-19    0.006109\n",
            "2017-03-26    0.004643\n",
            "2017-04-02    0.021473\n",
            "2017-04-09   -0.002227\n",
            "2017-04-16   -0.015976\n",
            "2017-04-23    0.008649\n",
            "2017-04-30    0.009700\n",
            "2017-05-07    0.036965\n",
            "2017-05-14    0.052258\n",
            "2017-05-21   -0.019475\n",
            "2017-05-28    0.003593\n",
            "2017-06-04    0.011978\n",
            "2017-06-11   -0.041621\n",
            "2017-06-18   -0.045040\n",
            "2017-06-25    0.028186\n",
            "2017-07-02   -0.015450\n",
            "2017-07-09    0.001111\n",
            "2017-07-16    0.033708\n",
            "2017-07-23    0.008253\n",
            "2017-07-30   -0.005124\n",
            "2017-08-06    0.046087\n",
            "2017-08-13    0.010924\n",
            "2017-08-20    0.000127\n",
            "2017-08-27    0.014984\n",
            "2017-09-03    0.026210\n",
            "2017-09-10   -0.033039\n",
            "2017-09-17    0.007880\n",
            "2017-09-24   -0.049975\n",
            "2017-10-01    0.014681\n",
            "2017-10-08    0.007657\n",
            "2017-10-15    0.010882\n",
            "2017-10-22   -0.004714\n",
            "2017-10-29    0.043520\n",
            "2017-11-05    0.057958\n",
            "2017-11-12    0.016220\n",
            "2017-11-19   -0.025878\n",
            "2017-11-26    0.028328\n",
            "2017-12-03   -0.022404\n",
            "2017-12-10   -0.009822\n",
            "2017-12-17    0.027160\n",
            "2017-12-24    0.005978\n",
            "2017-12-31   -0.033027\n",
            "Freq: W-SUN, Name: Close, dtype: float64\n"
          ]
        }
      ]
    },
    {
      "cell_type": "code",
      "metadata": {
        "colab": {
          "base_uri": "https://localhost:8080/"
        },
        "id": "xQqYiZmQWj_z",
        "outputId": "e4fe5b0e-410a-4175-f84e-48dea1926ad7"
      },
      "source": [
        "#Daily return of month\n",
        "daily_return = last_dayM.pct_change()\n",
        "print(daily_return.fillna(0))"
      ],
      "execution_count": 71,
      "outputs": [
        {
          "output_type": "stream",
          "name": "stdout",
          "text": [
            "Date\n",
            "2017-01-31    0.000000\n",
            "2017-02-28    0.133778\n",
            "2017-03-31    0.048690\n",
            "2017-04-30   -0.000070\n",
            "2017-05-31    0.067807\n",
            "2017-06-30   -0.057214\n",
            "2017-07-31    0.032704\n",
            "2017-08-31    0.107000\n",
            "2017-09-30   -0.060244\n",
            "2017-10-31    0.096808\n",
            "2017-11-30    0.020278\n",
            "2017-12-31   -0.015246\n",
            "Freq: M, Name: Close, dtype: float64\n"
          ]
        }
      ]
    },
    {
      "cell_type": "code",
      "metadata": {
        "colab": {
          "base_uri": "https://localhost:8080/"
        },
        "id": "nmsWkDscW4vG",
        "outputId": "d9643a9c-6465-451e-a49b-f92b0b127d9d"
      },
      "source": [
        "#Daily return of week\n",
        "daily_return = last_dayW.pct_change()\n",
        "print(daily_return.fillna(0))"
      ],
      "execution_count": 72,
      "outputs": [
        {
          "output_type": "stream",
          "name": "stdout",
          "text": [
            "Date\n",
            "2017-01-08    0.000000\n",
            "2017-01-15    0.009583\n",
            "2017-01-22    0.008065\n",
            "2017-01-29    0.016250\n",
            "2017-02-05    0.058466\n",
            "2017-02-12    0.027989\n",
            "2017-02-19    0.027248\n",
            "2017-02-26    0.006926\n",
            "2017-03-05    0.022830\n",
            "2017-03-12   -0.004578\n",
            "2017-03-19    0.006109\n",
            "2017-03-26    0.004643\n",
            "2017-04-02    0.021473\n",
            "2017-04-09   -0.002227\n",
            "2017-04-16   -0.015976\n",
            "2017-04-23    0.008649\n",
            "2017-04-30    0.009700\n",
            "2017-05-07    0.036965\n",
            "2017-05-14    0.052258\n",
            "2017-05-21   -0.019475\n",
            "2017-05-28    0.003593\n",
            "2017-06-04    0.011978\n",
            "2017-06-11   -0.041621\n",
            "2017-06-18   -0.045040\n",
            "2017-06-25    0.028186\n",
            "2017-07-02   -0.015450\n",
            "2017-07-09    0.001111\n",
            "2017-07-16    0.033708\n",
            "2017-07-23    0.008253\n",
            "2017-07-30   -0.005124\n",
            "2017-08-06    0.046087\n",
            "2017-08-13    0.010924\n",
            "2017-08-20    0.000127\n",
            "2017-08-27    0.014984\n",
            "2017-09-03    0.026210\n",
            "2017-09-10   -0.033039\n",
            "2017-09-17    0.007880\n",
            "2017-09-24   -0.049975\n",
            "2017-10-01    0.014681\n",
            "2017-10-08    0.007657\n",
            "2017-10-15    0.010882\n",
            "2017-10-22   -0.004714\n",
            "2017-10-29    0.043520\n",
            "2017-11-05    0.057958\n",
            "2017-11-12    0.016220\n",
            "2017-11-19   -0.025878\n",
            "2017-11-26    0.028328\n",
            "2017-12-03   -0.022404\n",
            "2017-12-10   -0.009822\n",
            "2017-12-17    0.027160\n",
            "2017-12-24    0.005978\n",
            "2017-12-31   -0.033027\n",
            "Freq: W-SUN, Name: Close, dtype: float64\n"
          ]
        }
      ]
    },
    {
      "cell_type": "code",
      "metadata": {
        "colab": {
          "base_uri": "https://localhost:8080/"
        },
        "id": "smAHBaROW8N7",
        "outputId": "846585a7-3992-4816-a685-283d9a0beeee"
      },
      "source": [
        "#Daily return of month \n",
        "daily_return = last_dayM.pct_change()\n",
        "print(daily_return.fillna(method = 'bfill'))"
      ],
      "execution_count": 128,
      "outputs": [
        {
          "output_type": "stream",
          "name": "stdout",
          "text": [
            "Date\n",
            "2017-01-31    0.133778\n",
            "2017-02-28    0.133778\n",
            "2017-03-31    0.048690\n",
            "2017-04-30   -0.000070\n",
            "2017-05-31    0.067807\n",
            "2017-06-30   -0.057214\n",
            "2017-07-31    0.032703\n",
            "2017-08-31    0.107000\n",
            "2017-09-30   -0.060244\n",
            "2017-10-31    0.096808\n",
            "2017-11-30    0.020278\n",
            "2017-12-31   -0.015246\n",
            "Freq: M, Name: Close, dtype: float64\n"
          ]
        }
      ]
    },
    {
      "cell_type": "code",
      "metadata": {
        "colab": {
          "base_uri": "https://localhost:8080/"
        },
        "id": "g8-FYiJoXA8V",
        "outputId": "5a9c283a-f6f3-4e08-f1c3-534cd5afd167"
      },
      "source": [
        "#Daily return of week\n",
        "daily_return = last_dayW.pct_change()\n",
        "print(daily_return.fillna(method = 'bfill'))"
      ],
      "execution_count": 73,
      "outputs": [
        {
          "output_type": "stream",
          "name": "stdout",
          "text": [
            "Date\n",
            "2017-01-08    0.009583\n",
            "2017-01-15    0.009583\n",
            "2017-01-22    0.008065\n",
            "2017-01-29    0.016250\n",
            "2017-02-05    0.058466\n",
            "2017-02-12    0.027989\n",
            "2017-02-19    0.027248\n",
            "2017-02-26    0.006926\n",
            "2017-03-05    0.022830\n",
            "2017-03-12   -0.004578\n",
            "2017-03-19    0.006109\n",
            "2017-03-26    0.004643\n",
            "2017-04-02    0.021473\n",
            "2017-04-09   -0.002227\n",
            "2017-04-16   -0.015976\n",
            "2017-04-23    0.008649\n",
            "2017-04-30    0.009700\n",
            "2017-05-07    0.036965\n",
            "2017-05-14    0.052258\n",
            "2017-05-21   -0.019475\n",
            "2017-05-28    0.003593\n",
            "2017-06-04    0.011978\n",
            "2017-06-11   -0.041621\n",
            "2017-06-18   -0.045040\n",
            "2017-06-25    0.028186\n",
            "2017-07-02   -0.015450\n",
            "2017-07-09    0.001111\n",
            "2017-07-16    0.033708\n",
            "2017-07-23    0.008253\n",
            "2017-07-30   -0.005124\n",
            "2017-08-06    0.046087\n",
            "2017-08-13    0.010924\n",
            "2017-08-20    0.000127\n",
            "2017-08-27    0.014984\n",
            "2017-09-03    0.026210\n",
            "2017-09-10   -0.033039\n",
            "2017-09-17    0.007880\n",
            "2017-09-24   -0.049975\n",
            "2017-10-01    0.014681\n",
            "2017-10-08    0.007657\n",
            "2017-10-15    0.010882\n",
            "2017-10-22   -0.004714\n",
            "2017-10-29    0.043520\n",
            "2017-11-05    0.057958\n",
            "2017-11-12    0.016220\n",
            "2017-11-19   -0.025878\n",
            "2017-11-26    0.028328\n",
            "2017-12-03   -0.022404\n",
            "2017-12-10   -0.009822\n",
            "2017-12-17    0.027160\n",
            "2017-12-24    0.005978\n",
            "2017-12-31   -0.033027\n",
            "Freq: W-SUN, Name: Close, dtype: float64\n"
          ]
        }
      ]
    },
    {
      "cell_type": "code",
      "metadata": {
        "colab": {
          "base_uri": "https://localhost:8080/"
        },
        "id": "d_fW4nibXKYy",
        "outputId": "61f1e3de-45d3-45f8-8675-bbb11a71e9bc"
      },
      "source": [
        "#Daily return of month\n",
        "daily_return = last_dayM.pct_change()\n",
        "daily_return.dropna()"
      ],
      "execution_count": 74,
      "outputs": [
        {
          "output_type": "execute_result",
          "data": {
            "text/plain": [
              "Date\n",
              "2017-02-28    0.133778\n",
              "2017-03-31    0.048690\n",
              "2017-04-30   -0.000070\n",
              "2017-05-31    0.067807\n",
              "2017-06-30   -0.057214\n",
              "2017-07-31    0.032704\n",
              "2017-08-31    0.107000\n",
              "2017-09-30   -0.060244\n",
              "2017-10-31    0.096808\n",
              "2017-11-30    0.020278\n",
              "2017-12-31   -0.015246\n",
              "Freq: M, Name: Close, dtype: float64"
            ]
          },
          "metadata": {},
          "execution_count": 74
        }
      ]
    },
    {
      "cell_type": "code",
      "metadata": {
        "colab": {
          "base_uri": "https://localhost:8080/"
        },
        "id": "fOceNSueXP0u",
        "outputId": "5d697b2d-2f50-4003-bea7-fb4a8f645d12"
      },
      "source": [
        "#daily return of week \n",
        "daily_return = last_dayW.pct_change()\n",
        "daily_return.dropna()"
      ],
      "execution_count": 130,
      "outputs": [
        {
          "output_type": "execute_result",
          "data": {
            "text/plain": [
              "Date\n",
              "2017-02-28    0.133778\n",
              "2017-03-31    0.048690\n",
              "2017-04-30   -0.000070\n",
              "2017-05-31    0.067807\n",
              "2017-06-30   -0.057214\n",
              "2017-07-31    0.032703\n",
              "2017-08-31    0.107000\n",
              "2017-09-30   -0.060244\n",
              "2017-10-31    0.096808\n",
              "2017-11-30    0.020278\n",
              "2017-12-31   -0.015246\n",
              "Freq: M, Name: Close, dtype: float64"
            ]
          },
          "metadata": {},
          "execution_count": 130
        }
      ]
    },
    {
      "cell_type": "code",
      "metadata": {
        "colab": {
          "base_uri": "https://localhost:8080/"
        },
        "id": "NxX0tGB_XTMK",
        "outputId": "b5165895-1051-43c0-ab29-037d0f0c35e0"
      },
      "source": [
        "import pandas as pd\n",
        "\n",
        "dict = {'AAPL': [143.5, 144.09, 142.73, 144.18, 143.77],'GOOG':[898.7, 911.71, 906.69, 918.59, 926.99],\n",
        "        'IBM':[155.58, 153.67, 152.36, 152.94, 153.49]}\n",
        "data_index = pd.date_range('2017-07-03',periods = 5, freq = 'D')\n",
        "df = pd.DataFrame(dict, index = data_index)\n",
        "print(df)"
      ],
      "execution_count": 1,
      "outputs": [
        {
          "output_type": "stream",
          "name": "stdout",
          "text": [
            "              AAPL    GOOG     IBM\n",
            "2017-07-03  143.50  898.70  155.58\n",
            "2017-07-04  144.09  911.71  153.67\n",
            "2017-07-05  142.73  906.69  152.36\n",
            "2017-07-06  144.18  918.59  152.94\n",
            "2017-07-07  143.77  926.99  153.49\n"
          ]
        }
      ]
    },
    {
      "cell_type": "code",
      "metadata": {
        "colab": {
          "base_uri": "https://localhost:8080/"
        },
        "id": "zSPBqO4MRYVX",
        "outputId": "8d9a2d95-f905-45c6-ac32-64a132ed71f7"
      },
      "source": [
        "dict_1 = {'GP01': [27.5, 38.2, 40.5, 19.5],'GP02':[8376.9, 71889.4, 299.9, 172.1],\n",
        "        'GP03':[284.92, 838.8, 19.4, 387.9], 'GP04': [389.5, 299.2, 48.9, 699.7]}\n",
        "data_index = pd.date_range('2021-10-13',periods = 4, freq = 'D')\n",
        "df = pd.DataFrame(dict_1, index = data_index)\n",
        "print(df)"
      ],
      "execution_count": 6,
      "outputs": [
        {
          "output_type": "stream",
          "name": "stdout",
          "text": [
            "            GP01     GP02    GP03   GP04\n",
            "2021-10-13  27.5   8376.9  284.92  389.5\n",
            "2021-10-14  38.2  71889.4  838.80  299.2\n",
            "2021-10-15  40.5    299.9   19.40   48.9\n",
            "2021-10-16  19.5    172.1  387.90  699.7\n"
          ]
        }
      ]
    },
    {
      "cell_type": "code",
      "metadata": {
        "colab": {
          "base_uri": "https://localhost:8080/"
        },
        "id": "vxkxYtb8SLh_",
        "outputId": "4ab26dc8-4470-419b-ca98-a8c60e92ec34"
      },
      "source": [
        "df = aapl_table\n",
        "print(df.Close.tail(5))\n",
        "print(df['Volume'].tail(5))"
      ],
      "execution_count": 11,
      "outputs": [
        {
          "output_type": "stream",
          "name": "stdout",
          "text": [
            "Date\n",
            "2017-12-22    41.906773\n",
            "2017-12-26    40.843605\n",
            "2017-12-27    40.850773\n",
            "2017-12-28    40.965721\n",
            "2017-12-29    40.522732\n",
            "Name: Close, dtype: float64\n",
            "Date\n",
            "2017-12-22     65397600\n",
            "2017-12-26    132742000\n",
            "2017-12-27     85992800\n",
            "2017-12-28     65920800\n",
            "2017-12-29    103999600\n",
            "Name: Volume, dtype: int64\n"
          ]
        }
      ]
    },
    {
      "cell_type": "code",
      "metadata": {
        "colab": {
          "base_uri": "https://localhost:8080/"
        },
        "id": "Ma4uAQIBShR3",
        "outputId": "cb308d18-d53d-4b82-b559-aba32133cfaf"
      },
      "source": [
        "df = aapl_table\n",
        "print(df.Close.tail(8))\n",
        "print(df['Volume'].tail(3))"
      ],
      "execution_count": 12,
      "outputs": [
        {
          "output_type": "stream",
          "name": "stdout",
          "text": [
            "Date\n",
            "2017-12-19    41.794235\n",
            "2017-12-20    41.748737\n",
            "2017-12-21    41.906773\n",
            "2017-12-22    41.906773\n",
            "2017-12-26    40.843605\n",
            "2017-12-27    40.850773\n",
            "2017-12-28    40.965721\n",
            "2017-12-29    40.522732\n",
            "Name: Close, dtype: float64\n",
            "Date\n",
            "2017-12-27     85992800\n",
            "2017-12-28     65920800\n",
            "2017-12-29    103999600\n",
            "Name: Volume, dtype: int64\n"
          ]
        }
      ]
    },
    {
      "cell_type": "code",
      "metadata": {
        "colab": {
          "base_uri": "https://localhost:8080/"
        },
        "id": "8hxuNPgUSrYW",
        "outputId": "0cb74676-e97a-4b9e-a509-bf2d7ce37dfd"
      },
      "source": [
        "aapl_2016 = df['2016']\n",
        "aapl_month = aapl_2016.resample('M').agg(lambda x: x[-1])\n",
        "print(aapl_month)"
      ],
      "execution_count": 75,
      "outputs": [
        {
          "output_type": "stream",
          "name": "stdout",
          "text": [
            "                 Open       High        Low  ...     Volume  Dividends  Stock Splits\n",
            "Date                                         ...                                    \n",
            "2016-01-31  21.852386  22.440248  21.750950  ...  257666000        0.0             0\n",
            "2016-02-29  22.450755  22.768302  22.402081  ...  140865200        0.0             0\n",
            "2016-03-31  25.431524  25.473245  25.236823  ...  103553600        0.0             0\n",
            "2016-04-30  21.785531  21.954736  21.442489  ...  274126000        0.0             0\n",
            "2016-05-31  23.226403  23.412961  23.044510  ...  169228800        0.0             0\n",
            "2016-06-30  22.023112  22.333262  21.990464  ...  143345600        0.0             0\n",
            "2016-07-31  24.296778  24.380729  24.177847  ...  110934800        0.0             0\n",
            "2016-08-31  24.773061  24.986419  24.768371  ...  118649600        0.0             0\n",
            "2016-09-30  26.367382  26.580742  26.212639  ...  145516400        0.0             0\n",
            "2016-10-31  26.646391  26.782378  26.540882  ...  105677600        0.0             0\n",
            "2016-11-30  26.300088  26.441486  25.986654  ...  144649200        0.0             0\n",
            "2016-12-31  27.490191  27.619805  27.202681  ...  122345200        0.0             0\n",
            "\n",
            "[12 rows x 7 columns]\n"
          ]
        }
      ]
    },
    {
      "cell_type": "code",
      "metadata": {
        "colab": {
          "base_uri": "https://localhost:8080/"
        },
        "id": "44fsPu8HTIl_",
        "outputId": "8ae4337b-297f-4e65-9f47-fa853ef9322f"
      },
      "source": [
        "aapl_2017 = df['2017']\n",
        "aapl_month2 = aapl_2017.resample('M').agg(lambda x: x[-1])\n",
        "print(aapl_month2)"
      ],
      "execution_count": 15,
      "outputs": [
        {
          "output_type": "stream",
          "name": "stdout",
          "text": [
            "                 Open       High        Low  ...     Volume  Dividends  Stock Splits\n",
            "Date                                         ...                                    \n",
            "2017-01-31  28.550681  28.607239  28.425779  ...  196804000        0.0             0\n",
            "2017-02-28  32.444866  32.530073  32.354924  ...   93931600        0.0             0\n",
            "2017-03-31  34.016455  34.146633  33.848407  ...   78646800        0.0             0\n",
            "2017-04-30  34.104032  34.153737  33.909951  ...   83441600        0.0             0\n",
            "2017-05-31  36.592905  36.640437  36.215023  ...   97804800        0.0             0\n",
            "2017-06-30  34.330358  34.451568  34.171124  ...   92096400        0.0             0\n",
            "2017-07-31  35.625618  35.727815  35.204958  ...   79383600        0.0             0\n",
            "2017-08-31  39.043828  39.253793  39.005652  ...  107140400        0.0             0\n",
            "2017-09-30  36.555284  36.774792  36.266582  ...  105199200        0.0             0\n",
            "2017-10-31  40.060253  40.477796  39.831203  ...  144187200        0.0             0\n",
            "2017-11-30  40.810066  41.219533  40.333556  ...  166108800        0.0             0\n",
            "2017-12-31  40.831629  40.848389  40.520339  ...  103999600        0.0             0\n",
            "\n",
            "[12 rows x 7 columns]\n"
          ]
        }
      ]
    },
    {
      "cell_type": "code",
      "metadata": {
        "colab": {
          "base_uri": "https://localhost:8080/"
        },
        "id": "SL40gu3bTO9u",
        "outputId": "b67235aa-bc77-456a-de7c-d02337a2ab1b"
      },
      "source": [
        "aapl_bar = aapl_month[['Open', 'High', 'Low', 'Close']]\n",
        "print(aapl_bar)"
      ],
      "execution_count": 16,
      "outputs": [
        {
          "output_type": "stream",
          "name": "stdout",
          "text": [
            "                 Open       High        Low      Close\n",
            "Date                                                  \n",
            "2016-01-31  21.852386  22.440248  21.750950  22.440248\n",
            "2016-02-29  22.450755  22.768302  22.402081  22.411352\n",
            "2016-03-31  25.431524  25.473245  25.236823  25.262320\n",
            "2016-04-30  21.785531  21.954736  21.442489  21.727585\n",
            "2016-05-31  23.226403  23.412961  23.044510  23.287035\n",
            "2016-06-30  22.023112  22.333262  21.990464  22.293619\n",
            "2016-07-31  24.296778  24.380729  24.177847  24.301441\n",
            "2016-08-31  24.773061  24.986419  24.768371  24.876223\n",
            "2016-09-30  26.367382  26.580742  26.212639  26.505714\n",
            "2016-10-31  26.646391  26.782378  26.540882  26.620600\n",
            "2016-11-30  26.300088  26.441486  25.986654  26.045570\n",
            "2016-12-31  27.490191  27.619805  27.202681  27.294590\n"
          ]
        }
      ]
    },
    {
      "cell_type": "code",
      "metadata": {
        "colab": {
          "base_uri": "https://localhost:8080/"
        },
        "id": "iawzYeMuTR6J",
        "outputId": "d53e5c9c-3f82-4f46-e788-3593f0268816"
      },
      "source": [
        "aapl_bar2 = aapl_month2[['Open', 'High', 'Low', 'Close']]\n",
        "print(aapl_bar2)"
      ],
      "execution_count": 17,
      "outputs": [
        {
          "output_type": "stream",
          "name": "stdout",
          "text": [
            "                 Open       High        Low      Close\n",
            "Date                                                  \n",
            "2017-01-31  28.550681  28.607239  28.425779  28.597813\n",
            "2017-02-28  32.444866  32.530073  32.354924  32.423565\n",
            "2017-03-31  34.016455  34.146633  33.848407  34.002254\n",
            "2017-04-30  34.104032  34.153737  33.909951  33.999889\n",
            "2017-05-31  36.592905  36.640437  36.215023  36.305332\n",
            "2017-06-30  34.330358  34.451568  34.171124  34.228165\n",
            "2017-07-31  35.625618  35.727815  35.204958  35.347553\n",
            "2017-08-31  39.043828  39.253793  39.005652  39.129723\n",
            "2017-09-30  36.555284  36.774792  36.266582  36.772404\n",
            "2017-10-31  40.060253  40.477796  39.831203  40.332253\n",
            "2017-11-30  40.810066  41.219533  40.333556  41.150093\n",
            "2017-12-31  40.831629  40.848389  40.520339  40.522732\n"
          ]
        }
      ]
    },
    {
      "cell_type": "code",
      "metadata": {
        "colab": {
          "base_uri": "https://localhost:8080/"
        },
        "id": "DhGDmJSfTYFL",
        "outputId": "bb2e4ba2-e04e-4741-e6cb-7923a3273f8a"
      },
      "source": [
        "print(aapl_month.loc['2016-03':'2016-06',['Open', 'High', 'Low', 'Close']])"
      ],
      "execution_count": 18,
      "outputs": [
        {
          "output_type": "stream",
          "name": "stdout",
          "text": [
            "                 Open       High        Low      Close\n",
            "Date                                                  \n",
            "2016-03-31  25.431524  25.473245  25.236823  25.262320\n",
            "2016-04-30  21.785531  21.954736  21.442489  21.727585\n",
            "2016-05-31  23.226403  23.412961  23.044510  23.287035\n",
            "2016-06-30  22.023112  22.333262  21.990464  22.293619\n"
          ]
        }
      ]
    },
    {
      "cell_type": "code",
      "metadata": {
        "colab": {
          "base_uri": "https://localhost:8080/"
        },
        "id": "Xr7sieQGTZe1",
        "outputId": "05605234-17d8-44e2-86f0-54381aa4c034"
      },
      "source": [
        "print(aapl_month2.loc['2017-05':'2017-09',['Open', 'High', 'Low', 'Close']])"
      ],
      "execution_count": 20,
      "outputs": [
        {
          "output_type": "stream",
          "name": "stdout",
          "text": [
            "                 Open       High        Low      Close\n",
            "Date                                                  \n",
            "2017-05-31  36.592905  36.640437  36.215023  36.305332\n",
            "2017-06-30  34.330358  34.451568  34.171124  34.228165\n",
            "2017-07-31  35.625618  35.727815  35.204958  35.347553\n",
            "2017-08-31  39.043828  39.253793  39.005652  39.129723\n",
            "2017-09-30  36.555284  36.774792  36.266582  36.772404\n"
          ]
        }
      ]
    },
    {
      "cell_type": "code",
      "metadata": {
        "colab": {
          "base_uri": "https://localhost:8080/"
        },
        "id": "Bj-zvE6QTeuc",
        "outputId": "372ef36a-3f6c-49d7-e005-f6f6a9efa48f"
      },
      "source": [
        "import numpy as np\n",
        "\n",
        "above = aapl_bar[aapl_bar.Close > np.mean(aapl_bar.Close)]\n",
        "print(above)"
      ],
      "execution_count": 21,
      "outputs": [
        {
          "output_type": "stream",
          "name": "stdout",
          "text": [
            "                 Open       High        Low      Close\n",
            "Date                                                  \n",
            "2016-03-31  25.431524  25.473245  25.236823  25.262320\n",
            "2016-08-31  24.773061  24.986419  24.768371  24.876223\n",
            "2016-09-30  26.367382  26.580742  26.212639  26.505714\n",
            "2016-10-31  26.646391  26.782378  26.540882  26.620600\n",
            "2016-11-30  26.300088  26.441486  25.986654  26.045570\n",
            "2016-12-31  27.490191  27.619805  27.202681  27.294590\n"
          ]
        }
      ]
    },
    {
      "cell_type": "code",
      "metadata": {
        "colab": {
          "base_uri": "https://localhost:8080/"
        },
        "id": "Lnra-w5NTkBm",
        "outputId": "f138fbcb-f087-44b5-97d5-1ba84dca6cf2"
      },
      "source": [
        "import numpy as np\n",
        "\n",
        "above = aapl_bar2[aapl_bar2.Close > np.mean(aapl_bar2.Close)]\n",
        "print(above)"
      ],
      "execution_count": 22,
      "outputs": [
        {
          "output_type": "stream",
          "name": "stdout",
          "text": [
            "                 Open       High        Low      Close\n",
            "Date                                                  \n",
            "2017-05-31  36.592905  36.640437  36.215023  36.305332\n",
            "2017-08-31  39.043828  39.253793  39.005652  39.129723\n",
            "2017-09-30  36.555284  36.774792  36.266582  36.772404\n",
            "2017-10-31  40.060253  40.477796  39.831203  40.332253\n",
            "2017-11-30  40.810066  41.219533  40.333556  41.150093\n",
            "2017-12-31  40.831629  40.848389  40.520339  40.522732\n"
          ]
        }
      ]
    },
    {
      "cell_type": "code",
      "metadata": {
        "colab": {
          "base_uri": "https://localhost:8080/"
        },
        "id": "yhFujrEoTtC-",
        "outputId": "0f85291c-ae2e-40b4-9ed2-2e38ef6e84e3"
      },
      "source": [
        "aapl_bar['rate_return'] = aapl_bar.Close.pct_change()\n",
        "print(aapl_bar)"
      ],
      "execution_count": 23,
      "outputs": [
        {
          "output_type": "stream",
          "name": "stdout",
          "text": [
            "                 Open       High        Low      Close  rate_return\n",
            "Date                                                               \n",
            "2016-01-31  21.852386  22.440248  21.750950  22.440248          NaN\n",
            "2016-02-29  22.450755  22.768302  22.402081  22.411352    -0.001288\n",
            "2016-03-31  25.431524  25.473245  25.236823  25.262320     0.127211\n",
            "2016-04-30  21.785531  21.954736  21.442489  21.727585    -0.139921\n",
            "2016-05-31  23.226403  23.412961  23.044510  23.287035     0.071773\n",
            "2016-06-30  22.023112  22.333262  21.990464  22.293619    -0.042660\n",
            "2016-07-31  24.296778  24.380729  24.177847  24.301441     0.090063\n",
            "2016-08-31  24.773061  24.986419  24.768371  24.876223     0.023652\n",
            "2016-09-30  26.367382  26.580742  26.212639  26.505714     0.065504\n",
            "2016-10-31  26.646391  26.782378  26.540882  26.620600     0.004334\n",
            "2016-11-30  26.300088  26.441486  25.986654  26.045570    -0.021601\n",
            "2016-12-31  27.490191  27.619805  27.202681  27.294590     0.047955\n"
          ]
        },
        {
          "output_type": "stream",
          "name": "stderr",
          "text": [
            "/usr/local/lib/python3.7/dist-packages/ipykernel_launcher.py:1: SettingWithCopyWarning: \n",
            "A value is trying to be set on a copy of a slice from a DataFrame.\n",
            "Try using .loc[row_indexer,col_indexer] = value instead\n",
            "\n",
            "See the caveats in the documentation: https://pandas.pydata.org/pandas-docs/stable/user_guide/indexing.html#returning-a-view-versus-a-copy\n",
            "  \"\"\"Entry point for launching an IPython kernel.\n"
          ]
        }
      ]
    },
    {
      "cell_type": "code",
      "metadata": {
        "colab": {
          "base_uri": "https://localhost:8080/"
        },
        "id": "pf8yB8fVTwj-",
        "outputId": "6be65233-4e2c-46c3-b74b-e07410c827d1"
      },
      "source": [
        "aapl_bar2['rate_return'] = aapl_bar2.Close.pct_change()\n",
        "print(aapl_bar2)"
      ],
      "execution_count": 24,
      "outputs": [
        {
          "output_type": "stream",
          "name": "stdout",
          "text": [
            "                 Open       High        Low      Close  rate_return\n",
            "Date                                                               \n",
            "2017-01-31  28.550681  28.607239  28.425779  28.597813          NaN\n",
            "2017-02-28  32.444866  32.530073  32.354924  32.423565     0.133778\n",
            "2017-03-31  34.016455  34.146633  33.848407  34.002254     0.048690\n",
            "2017-04-30  34.104032  34.153737  33.909951  33.999889    -0.000070\n",
            "2017-05-31  36.592905  36.640437  36.215023  36.305332     0.067807\n",
            "2017-06-30  34.330358  34.451568  34.171124  34.228165    -0.057214\n",
            "2017-07-31  35.625618  35.727815  35.204958  35.347553     0.032704\n",
            "2017-08-31  39.043828  39.253793  39.005652  39.129723     0.106999\n",
            "2017-09-30  36.555284  36.774792  36.266582  36.772404    -0.060244\n",
            "2017-10-31  40.060253  40.477796  39.831203  40.332253     0.096808\n",
            "2017-11-30  40.810066  41.219533  40.333556  41.150093     0.020278\n",
            "2017-12-31  40.831629  40.848389  40.520339  40.522732    -0.015246\n"
          ]
        },
        {
          "output_type": "stream",
          "name": "stderr",
          "text": [
            "/usr/local/lib/python3.7/dist-packages/ipykernel_launcher.py:1: SettingWithCopyWarning: \n",
            "A value is trying to be set on a copy of a slice from a DataFrame.\n",
            "Try using .loc[row_indexer,col_indexer] = value instead\n",
            "\n",
            "See the caveats in the documentation: https://pandas.pydata.org/pandas-docs/stable/user_guide/indexing.html#returning-a-view-versus-a-copy\n",
            "  \"\"\"Entry point for launching an IPython kernel.\n"
          ]
        }
      ]
    },
    {
      "cell_type": "code",
      "metadata": {
        "colab": {
          "base_uri": "https://localhost:8080/"
        },
        "id": "M27gTVxxTzoi",
        "outputId": "e7b32bd7-40be-4083-b857-492b85746e33"
      },
      "source": [
        "missing = aapl_bar.isnull()\n",
        "print(missing)\n",
        "print('---------------------------------------------')\n",
        "print(missing.describe())"
      ],
      "execution_count": 27,
      "outputs": [
        {
          "output_type": "stream",
          "name": "stdout",
          "text": [
            "             Open   High    Low  Close  rate_return\n",
            "Date                                               \n",
            "2016-01-31  False  False  False  False         True\n",
            "2016-02-29  False  False  False  False        False\n",
            "2016-03-31  False  False  False  False        False\n",
            "2016-04-30  False  False  False  False        False\n",
            "2016-05-31  False  False  False  False        False\n",
            "2016-06-30  False  False  False  False        False\n",
            "2016-07-31  False  False  False  False        False\n",
            "2016-08-31  False  False  False  False        False\n",
            "2016-09-30  False  False  False  False        False\n",
            "2016-10-31  False  False  False  False        False\n",
            "2016-11-30  False  False  False  False        False\n",
            "2016-12-31  False  False  False  False        False\n",
            "---------------------------------------------\n",
            "         Open   High    Low  Close rate_return\n",
            "count      12     12     12     12          12\n",
            "unique      1      1      1      1           2\n",
            "top     False  False  False  False       False\n",
            "freq       12     12     12     12          11\n"
          ]
        }
      ]
    },
    {
      "cell_type": "code",
      "metadata": {
        "colab": {
          "base_uri": "https://localhost:8080/"
        },
        "id": "EbIaTq2wT24H",
        "outputId": "0da0435c-c16d-47d8-9b82-59ce2991b581"
      },
      "source": [
        "missing2 = aapl_bar2.isnull()\n",
        "print(missing2)\n",
        "print('---------------------------------------------')\n",
        "print(missing2.describe())"
      ],
      "execution_count": 28,
      "outputs": [
        {
          "output_type": "stream",
          "name": "stdout",
          "text": [
            "             Open   High    Low  Close  rate_return\n",
            "Date                                               \n",
            "2017-01-31  False  False  False  False         True\n",
            "2017-02-28  False  False  False  False        False\n",
            "2017-03-31  False  False  False  False        False\n",
            "2017-04-30  False  False  False  False        False\n",
            "2017-05-31  False  False  False  False        False\n",
            "2017-06-30  False  False  False  False        False\n",
            "2017-07-31  False  False  False  False        False\n",
            "2017-08-31  False  False  False  False        False\n",
            "2017-09-30  False  False  False  False        False\n",
            "2017-10-31  False  False  False  False        False\n",
            "2017-11-30  False  False  False  False        False\n",
            "2017-12-31  False  False  False  False        False\n",
            "---------------------------------------------\n",
            "         Open   High    Low  Close rate_return\n",
            "count      12     12     12     12          12\n",
            "unique      1      1      1      1           2\n",
            "top     False  False  False  False       False\n",
            "freq       12     12     12     12          11\n"
          ]
        }
      ]
    },
    {
      "cell_type": "code",
      "metadata": {
        "colab": {
          "base_uri": "https://localhost:8080/"
        },
        "id": "ap34H2n3UALi",
        "outputId": "f314e927-b451-4e00-8c42-1642f34591e8"
      },
      "source": [
        "print(missing[missing.rate_return == True])"
      ],
      "execution_count": 29,
      "outputs": [
        {
          "output_type": "stream",
          "name": "stdout",
          "text": [
            "             Open   High    Low  Close  rate_return\n",
            "Date                                               \n",
            "2016-01-31  False  False  False  False         True\n"
          ]
        }
      ]
    },
    {
      "cell_type": "code",
      "metadata": {
        "colab": {
          "base_uri": "https://localhost:8080/"
        },
        "id": "xRgKQ4pxUDBJ",
        "outputId": "ee95bee9-07eb-41b5-88e8-f8f204c5926a"
      },
      "source": [
        "print(missing2[missing2.rate_return == True])"
      ],
      "execution_count": 30,
      "outputs": [
        {
          "output_type": "stream",
          "name": "stdout",
          "text": [
            "             Open   High    Low  Close  rate_return\n",
            "Date                                               \n",
            "2017-01-31  False  False  False  False         True\n"
          ]
        }
      ]
    },
    {
      "cell_type": "code",
      "metadata": {
        "colab": {
          "base_uri": "https://localhost:8080/"
        },
        "id": "1n4usa7XUF0k",
        "outputId": "0b2b23e0-fe1c-45e9-d8cf-bec9694dfaa8"
      },
      "source": [
        "drop = aapl_bar.dropna()\n",
        "print(drop)\n",
        "print('\\n--------------------------------------------------\\n')\n",
        "fill = aapl_bar.fillna(0)\n",
        "print(fill)"
      ],
      "execution_count": 31,
      "outputs": [
        {
          "output_type": "stream",
          "name": "stdout",
          "text": [
            "                 Open       High        Low      Close  rate_return\n",
            "Date                                                               \n",
            "2016-02-29  22.450755  22.768302  22.402081  22.411352    -0.001288\n",
            "2016-03-31  25.431524  25.473245  25.236823  25.262320     0.127211\n",
            "2016-04-30  21.785531  21.954736  21.442489  21.727585    -0.139921\n",
            "2016-05-31  23.226403  23.412961  23.044510  23.287035     0.071773\n",
            "2016-06-30  22.023112  22.333262  21.990464  22.293619    -0.042660\n",
            "2016-07-31  24.296778  24.380729  24.177847  24.301441     0.090063\n",
            "2016-08-31  24.773061  24.986419  24.768371  24.876223     0.023652\n",
            "2016-09-30  26.367382  26.580742  26.212639  26.505714     0.065504\n",
            "2016-10-31  26.646391  26.782378  26.540882  26.620600     0.004334\n",
            "2016-11-30  26.300088  26.441486  25.986654  26.045570    -0.021601\n",
            "2016-12-31  27.490191  27.619805  27.202681  27.294590     0.047955\n",
            "\n",
            "--------------------------------------------------\n",
            "\n",
            "                 Open       High        Low      Close  rate_return\n",
            "Date                                                               \n",
            "2016-01-31  21.852386  22.440248  21.750950  22.440248     0.000000\n",
            "2016-02-29  22.450755  22.768302  22.402081  22.411352    -0.001288\n",
            "2016-03-31  25.431524  25.473245  25.236823  25.262320     0.127211\n",
            "2016-04-30  21.785531  21.954736  21.442489  21.727585    -0.139921\n",
            "2016-05-31  23.226403  23.412961  23.044510  23.287035     0.071773\n",
            "2016-06-30  22.023112  22.333262  21.990464  22.293619    -0.042660\n",
            "2016-07-31  24.296778  24.380729  24.177847  24.301441     0.090063\n",
            "2016-08-31  24.773061  24.986419  24.768371  24.876223     0.023652\n",
            "2016-09-30  26.367382  26.580742  26.212639  26.505714     0.065504\n",
            "2016-10-31  26.646391  26.782378  26.540882  26.620600     0.004334\n",
            "2016-11-30  26.300088  26.441486  25.986654  26.045570    -0.021601\n",
            "2016-12-31  27.490191  27.619805  27.202681  27.294590     0.047955\n"
          ]
        }
      ]
    },
    {
      "cell_type": "code",
      "metadata": {
        "colab": {
          "base_uri": "https://localhost:8080/"
        },
        "id": "Qy3YMOvvUJHk",
        "outputId": "1dcbceb7-d8d2-4941-abe8-bc9e089fcf02"
      },
      "source": [
        "drop2 = aapl_bar2.dropna()\n",
        "print(drop2)\n",
        "print('\\n--------------------------------------------------\\n')\n",
        "fill2 = aapl_bar2.fillna(0)\n",
        "print(fill2)"
      ],
      "execution_count": 32,
      "outputs": [
        {
          "output_type": "stream",
          "name": "stdout",
          "text": [
            "                 Open       High        Low      Close  rate_return\n",
            "Date                                                               \n",
            "2017-02-28  32.444866  32.530073  32.354924  32.423565     0.133778\n",
            "2017-03-31  34.016455  34.146633  33.848407  34.002254     0.048690\n",
            "2017-04-30  34.104032  34.153737  33.909951  33.999889    -0.000070\n",
            "2017-05-31  36.592905  36.640437  36.215023  36.305332     0.067807\n",
            "2017-06-30  34.330358  34.451568  34.171124  34.228165    -0.057214\n",
            "2017-07-31  35.625618  35.727815  35.204958  35.347553     0.032704\n",
            "2017-08-31  39.043828  39.253793  39.005652  39.129723     0.106999\n",
            "2017-09-30  36.555284  36.774792  36.266582  36.772404    -0.060244\n",
            "2017-10-31  40.060253  40.477796  39.831203  40.332253     0.096808\n",
            "2017-11-30  40.810066  41.219533  40.333556  41.150093     0.020278\n",
            "2017-12-31  40.831629  40.848389  40.520339  40.522732    -0.015246\n",
            "\n",
            "--------------------------------------------------\n",
            "\n",
            "                 Open       High        Low      Close  rate_return\n",
            "Date                                                               \n",
            "2017-01-31  28.550681  28.607239  28.425779  28.597813     0.000000\n",
            "2017-02-28  32.444866  32.530073  32.354924  32.423565     0.133778\n",
            "2017-03-31  34.016455  34.146633  33.848407  34.002254     0.048690\n",
            "2017-04-30  34.104032  34.153737  33.909951  33.999889    -0.000070\n",
            "2017-05-31  36.592905  36.640437  36.215023  36.305332     0.067807\n",
            "2017-06-30  34.330358  34.451568  34.171124  34.228165    -0.057214\n",
            "2017-07-31  35.625618  35.727815  35.204958  35.347553     0.032704\n",
            "2017-08-31  39.043828  39.253793  39.005652  39.129723     0.106999\n",
            "2017-09-30  36.555284  36.774792  36.266582  36.772404    -0.060244\n",
            "2017-10-31  40.060253  40.477796  39.831203  40.332253     0.096808\n",
            "2017-11-30  40.810066  41.219533  40.333556  41.150093     0.020278\n",
            "2017-12-31  40.831629  40.848389  40.520339  40.522732    -0.015246\n"
          ]
        }
      ]
    },
    {
      "cell_type": "code",
      "metadata": {
        "colab": {
          "base_uri": "https://localhost:8080/"
        },
        "id": "MOI8FDK8UPT_",
        "outputId": "d61b958b-3bef-4ab8-a241-fd76ebd08f40"
      },
      "source": [
        "s1 = pd.Series([143.5, 144.09, 142.73, 144.18, 143.77], name = 'AAPL')\n",
        "s2 = pd.Series([898.7, 911.71, 906.69, 918.59, 926.99], name = 'GOOG')\n",
        "data_frame = pd.concat([s1,s2], axis = 1)\n",
        "print(data_frame)"
      ],
      "execution_count": 33,
      "outputs": [
        {
          "output_type": "stream",
          "name": "stdout",
          "text": [
            "     AAPL    GOOG\n",
            "0  143.50  898.70\n",
            "1  144.09  911.71\n",
            "2  142.73  906.69\n",
            "3  144.18  918.59\n",
            "4  143.77  926.99\n"
          ]
        }
      ]
    },
    {
      "cell_type": "code",
      "metadata": {
        "colab": {
          "base_uri": "https://localhost:8080/"
        },
        "id": "AuAB3xrJWMc6",
        "outputId": "aa186bcf-77fd-4659-f87f-9b15878b1b47"
      },
      "source": [
        "table1 = pd.Series([83.1, 90.4, 89.2, 34.8, 109.8], name = 'GP01')\n",
        "table2 = pd.Series([56.9, 24.9, 76.2, 17.5, 39.1], name = 'GP02')\n",
        "data_frame2 = pd.concat([table1,table2], axis = 1)\n",
        "print(data_frame2)"
      ],
      "execution_count": 35,
      "outputs": [
        {
          "output_type": "stream",
          "name": "stdout",
          "text": [
            "    GP01  GP02\n",
            "0   83.1  56.9\n",
            "1   90.4  24.9\n",
            "2   89.2  76.2\n",
            "3   34.8  17.5\n",
            "4  109.8  39.1\n"
          ]
        }
      ]
    },
    {
      "cell_type": "code",
      "metadata": {
        "colab": {
          "base_uri": "https://localhost:8080/"
        },
        "id": "Os-r5uVFWk2r",
        "outputId": "e7dc9d1c-fa22-4ef3-e3db-1cb44fd4b213"
      },
      "source": [
        "\n",
        "log_price = np.log(aapl_bar.Close)\n",
        "log_price.name = 'log_price'\n",
        "print(log_price)\n",
        "print('\\n---------------------- separate line--------------------\\n')\n",
        "concat = pd.concat([aapl_bar, log_price], axis = 1)\n",
        "print(concat)"
      ],
      "execution_count": 36,
      "outputs": [
        {
          "output_type": "stream",
          "name": "stdout",
          "text": [
            "Date\n",
            "2016-01-31    3.110856\n",
            "2016-02-29    3.109568\n",
            "2016-03-31    3.229314\n",
            "2016-04-30    3.078583\n",
            "2016-05-31    3.147897\n",
            "2016-06-30    3.104301\n",
            "2016-07-31    3.190536\n",
            "2016-08-31    3.213912\n",
            "2016-09-30    3.277360\n",
            "2016-10-31    3.281685\n",
            "2016-11-30    3.259848\n",
            "2016-12-31    3.306689\n",
            "Freq: M, Name: log_price, dtype: float64\n",
            "\n",
            "---------------------- separate line--------------------\n",
            "\n",
            "                 Open       High        Low      Close  rate_return  log_price\n",
            "Date                                                                          \n",
            "2016-01-31  21.852386  22.440248  21.750950  22.440248          NaN   3.110856\n",
            "2016-02-29  22.450755  22.768302  22.402081  22.411352    -0.001288   3.109568\n",
            "2016-03-31  25.431524  25.473245  25.236823  25.262320     0.127211   3.229314\n",
            "2016-04-30  21.785531  21.954736  21.442489  21.727585    -0.139921   3.078583\n",
            "2016-05-31  23.226403  23.412961  23.044510  23.287035     0.071773   3.147897\n",
            "2016-06-30  22.023112  22.333262  21.990464  22.293619    -0.042660   3.104301\n",
            "2016-07-31  24.296778  24.380729  24.177847  24.301441     0.090063   3.190536\n",
            "2016-08-31  24.773061  24.986419  24.768371  24.876223     0.023652   3.213912\n",
            "2016-09-30  26.367382  26.580742  26.212639  26.505714     0.065504   3.277360\n",
            "2016-10-31  26.646391  26.782378  26.540882  26.620600     0.004334   3.281685\n",
            "2016-11-30  26.300088  26.441486  25.986654  26.045570    -0.021601   3.259848\n",
            "2016-12-31  27.490191  27.619805  27.202681  27.294590     0.047955   3.306689\n"
          ]
        }
      ]
    },
    {
      "cell_type": "code",
      "metadata": {
        "colab": {
          "base_uri": "https://localhost:8080/"
        },
        "id": "gJO1MTaNWnNM",
        "outputId": "4280280c-fd77-4d2f-8c46-4abb1600342c"
      },
      "source": [
        "\n",
        "log_price2 = np.log(aapl_bar2.Close)\n",
        "log_price2.name = 'log_price'\n",
        "print(log_price2)\n",
        "print('\\n---------------------- separate line--------------------\\n')\n",
        "concat2 = pd.concat([aapl_bar2, log_price2], axis = 1)\n",
        "print(concat2)"
      ],
      "execution_count": 37,
      "outputs": [
        {
          "output_type": "stream",
          "name": "stdout",
          "text": [
            "Date\n",
            "2017-01-31    3.353330\n",
            "2017-02-28    3.478885\n",
            "2017-03-31    3.526427\n",
            "2017-04-30    3.526357\n",
            "2017-05-31    3.591965\n",
            "2017-06-30    3.533049\n",
            "2017-07-31    3.565229\n",
            "2017-08-31    3.666882\n",
            "2017-09-30    3.604748\n",
            "2017-10-31    3.697151\n",
            "2017-11-30    3.717226\n",
            "2017-12-31    3.701863\n",
            "Freq: M, Name: log_price, dtype: float64\n",
            "\n",
            "---------------------- separate line--------------------\n",
            "\n",
            "                 Open       High        Low      Close  rate_return  log_price\n",
            "Date                                                                          \n",
            "2017-01-31  28.550681  28.607239  28.425779  28.597813          NaN   3.353330\n",
            "2017-02-28  32.444866  32.530073  32.354924  32.423565     0.133778   3.478885\n",
            "2017-03-31  34.016455  34.146633  33.848407  34.002254     0.048690   3.526427\n",
            "2017-04-30  34.104032  34.153737  33.909951  33.999889    -0.000070   3.526357\n",
            "2017-05-31  36.592905  36.640437  36.215023  36.305332     0.067807   3.591965\n",
            "2017-06-30  34.330358  34.451568  34.171124  34.228165    -0.057214   3.533049\n",
            "2017-07-31  35.625618  35.727815  35.204958  35.347553     0.032704   3.565229\n",
            "2017-08-31  39.043828  39.253793  39.005652  39.129723     0.106999   3.666882\n",
            "2017-09-30  36.555284  36.774792  36.266582  36.772404    -0.060244   3.604748\n",
            "2017-10-31  40.060253  40.477796  39.831203  40.332253     0.096808   3.697151\n",
            "2017-11-30  40.810066  41.219533  40.333556  41.150093     0.020278   3.717226\n",
            "2017-12-31  40.831629  40.848389  40.520339  40.522732    -0.015246   3.701863\n"
          ]
        }
      ]
    },
    {
      "cell_type": "code",
      "metadata": {
        "colab": {
          "base_uri": "https://localhost:8080/"
        },
        "id": "Yko81piKWtis",
        "outputId": "ec03acac-9dc5-4c32-9faf-97475293c50c"
      },
      "source": [
        "df_volume = aapl_table.loc['2016-10':'2017-04',['Volume', 'Stock Splits']].resample('M').agg(lambda x: x[-1])\n",
        "print(df_volume)\n",
        "print('\\n---------------------- separate line--------------------\\n')\n",
        "df_2017 = aapl_table.loc['2016-10':'2017-04',['Open', 'High', 'Low', 'Close']].resample('M').agg(lambda x: x[-1])\n",
        "print(df_2017)"
      ],
      "execution_count": 38,
      "outputs": [
        {
          "output_type": "stream",
          "name": "stdout",
          "text": [
            "               Volume  Stock Splits\n",
            "Date                               \n",
            "2016-10-31  105677600             0\n",
            "2016-11-30  144649200             0\n",
            "2016-12-31  122345200             0\n",
            "2017-01-31  196804000             0\n",
            "2017-02-28   93931600             0\n",
            "2017-03-31   78646800             0\n",
            "2017-04-30   83441600             0\n",
            "\n",
            "---------------------- separate line--------------------\n",
            "\n",
            "                 Open       High        Low      Close\n",
            "Date                                                  \n",
            "2016-10-31  26.646391  26.782378  26.540882  26.620600\n",
            "2016-11-30  26.300088  26.441486  25.986654  26.045570\n",
            "2016-12-31  27.490191  27.619805  27.202681  27.294590\n",
            "2017-01-31  28.550681  28.607239  28.425779  28.597813\n",
            "2017-02-28  32.444866  32.530073  32.354924  32.423565\n",
            "2017-03-31  34.016455  34.146633  33.848407  34.002254\n",
            "2017-04-30  34.104032  34.153737  33.909951  33.999889\n"
          ]
        }
      ]
    },
    {
      "cell_type": "code",
      "metadata": {
        "colab": {
          "base_uri": "https://localhost:8080/"
        },
        "id": "X-JGgCVxWx_D",
        "outputId": "d9325206-6b27-466b-cb41-52fe88bfedaa"
      },
      "source": [
        "df_volume2 = aapl_table.loc['2017-08':'2017-12',['Volume', 'Stock Splits']].resample('M').agg(lambda x: x[-1])\n",
        "print(df_volume2)\n",
        "print('\\n---------------------- separate line--------------------\\n')\n",
        "df_2017final = aapl_table.loc['2017-08':'2018-12',['Open', 'High', 'Low', 'Close']].resample('M').agg(lambda x: x[-1])\n",
        "print(df_2017final)"
      ],
      "execution_count": 44,
      "outputs": [
        {
          "output_type": "stream",
          "name": "stdout",
          "text": [
            "               Volume  Stock Splits\n",
            "Date                               \n",
            "2017-08-31  107140400             0\n",
            "2017-09-30  105199200             0\n",
            "2017-10-31  144187200             0\n",
            "2017-11-30  166108800             0\n",
            "2017-12-31  103999600             0\n",
            "\n",
            "---------------------- separate line--------------------\n",
            "\n",
            "                 Open       High        Low      Close\n",
            "Date                                                  \n",
            "2017-08-31  39.043828  39.253793  39.005652  39.129723\n",
            "2017-09-30  36.555284  36.774792  36.266582  36.772404\n",
            "2017-10-31  40.060253  40.477796  39.831203  40.332253\n",
            "2017-11-30  40.810066  41.219533  40.333556  41.150093\n",
            "2017-12-31  40.831629  40.848389  40.520339  40.522732\n"
          ]
        }
      ]
    },
    {
      "cell_type": "code",
      "metadata": {
        "colab": {
          "base_uri": "https://localhost:8080/"
        },
        "id": "fBdistoSXNCE",
        "outputId": "eadc6b31-bd92-44ec-d9ae-307a5067499d"
      },
      "source": [
        "concat = pd.concat([aapl_bar, df_volume], axis = 1)\n",
        "print(concat)"
      ],
      "execution_count": 41,
      "outputs": [
        {
          "output_type": "stream",
          "name": "stdout",
          "text": [
            "                 Open       High  ...       Volume  Stock Splits\n",
            "Date                              ...                           \n",
            "2016-01-31  21.852386  22.440248  ...          NaN           NaN\n",
            "2016-02-29  22.450755  22.768302  ...          NaN           NaN\n",
            "2016-03-31  25.431524  25.473245  ...          NaN           NaN\n",
            "2016-04-30  21.785531  21.954736  ...          NaN           NaN\n",
            "2016-05-31  23.226403  23.412961  ...          NaN           NaN\n",
            "2016-06-30  22.023112  22.333262  ...          NaN           NaN\n",
            "2016-07-31  24.296778  24.380729  ...          NaN           NaN\n",
            "2016-08-31  24.773061  24.986419  ...          NaN           NaN\n",
            "2016-09-30  26.367382  26.580742  ...          NaN           NaN\n",
            "2016-10-31  26.646391  26.782378  ...  105677600.0           0.0\n",
            "2016-11-30  26.300088  26.441486  ...  144649200.0           0.0\n",
            "2016-12-31  27.490191  27.619805  ...  122345200.0           0.0\n",
            "2017-01-31        NaN        NaN  ...  196804000.0           0.0\n",
            "2017-02-28        NaN        NaN  ...   93931600.0           0.0\n",
            "2017-03-31        NaN        NaN  ...   78646800.0           0.0\n",
            "2017-04-30        NaN        NaN  ...   83441600.0           0.0\n",
            "\n",
            "[16 rows x 7 columns]\n"
          ]
        }
      ]
    },
    {
      "cell_type": "code",
      "metadata": {
        "colab": {
          "base_uri": "https://localhost:8080/"
        },
        "id": "Reyq1hOvXPRA",
        "outputId": "de7ced08-9b9b-46c5-99ac-00b268b96511"
      },
      "source": [
        "concat2 = pd.concat([aapl_bar2, df_volume2], axis = 1)\n",
        "print(concat2)"
      ],
      "execution_count": 45,
      "outputs": [
        {
          "output_type": "stream",
          "name": "stdout",
          "text": [
            "                 Open       High  ...       Volume  Stock Splits\n",
            "Date                              ...                           \n",
            "2017-01-31  28.550681  28.607239  ...          NaN           NaN\n",
            "2017-02-28  32.444866  32.530073  ...          NaN           NaN\n",
            "2017-03-31  34.016455  34.146633  ...          NaN           NaN\n",
            "2017-04-30  34.104032  34.153737  ...          NaN           NaN\n",
            "2017-05-31  36.592905  36.640437  ...          NaN           NaN\n",
            "2017-06-30  34.330358  34.451568  ...          NaN           NaN\n",
            "2017-07-31  35.625618  35.727815  ...          NaN           NaN\n",
            "2017-08-31  39.043828  39.253793  ...  107140400.0           0.0\n",
            "2017-09-30  36.555284  36.774792  ...  105199200.0           0.0\n",
            "2017-10-31  40.060253  40.477796  ...  144187200.0           0.0\n",
            "2017-11-30  40.810066  41.219533  ...  166108800.0           0.0\n",
            "2017-12-31  40.831629  40.848389  ...  103999600.0           0.0\n",
            "\n",
            "[12 rows x 7 columns]\n"
          ]
        }
      ]
    },
    {
      "cell_type": "code",
      "metadata": {
        "colab": {
          "base_uri": "https://localhost:8080/"
        },
        "id": "Wd5OlJGtXdwB",
        "outputId": "dec8f21b-f348-45cb-e4e4-25d4f835e160"
      },
      "source": [
        "concat = pd.concat([aapl_bar,df_volume],axis = 1, join = 'inner')\n",
        "print(concat)"
      ],
      "execution_count": 46,
      "outputs": [
        {
          "output_type": "stream",
          "name": "stdout",
          "text": [
            "                 Open       High  ...     Volume  Stock Splits\n",
            "Date                              ...                         \n",
            "2016-10-31  26.646391  26.782378  ...  105677600             0\n",
            "2016-11-30  26.300088  26.441486  ...  144649200             0\n",
            "2016-12-31  27.490191  27.619805  ...  122345200             0\n",
            "\n",
            "[3 rows x 7 columns]\n"
          ]
        }
      ]
    },
    {
      "cell_type": "code",
      "metadata": {
        "colab": {
          "base_uri": "https://localhost:8080/"
        },
        "id": "I5n-zLW_Xe_C",
        "outputId": "5e5edcf1-1679-4008-a6b7-fb48d7ed4e3a"
      },
      "source": [
        "concat = pd.concat([aapl_bar2,df_volume2],axis = 1, join = 'inner')\n",
        "print(concat)"
      ],
      "execution_count": 47,
      "outputs": [
        {
          "output_type": "stream",
          "name": "stdout",
          "text": [
            "                 Open       High  ...     Volume  Stock Splits\n",
            "Date                              ...                         \n",
            "2017-08-31  39.043828  39.253793  ...  107140400             0\n",
            "2017-09-30  36.555284  36.774792  ...  105199200             0\n",
            "2017-10-31  40.060253  40.477796  ...  144187200             0\n",
            "2017-11-30  40.810066  41.219533  ...  166108800             0\n",
            "2017-12-31  40.831629  40.848389  ...  103999600             0\n",
            "\n",
            "[5 rows x 7 columns]\n"
          ]
        }
      ]
    },
    {
      "cell_type": "code",
      "metadata": {
        "colab": {
          "base_uri": "https://localhost:8080/"
        },
        "id": "jSj2T1ekXi1b",
        "outputId": "bb8bf907-5dfc-464a-ae43-e557a2f3757a"
      },
      "source": [
        "append = aapl_bar.append(df_2017)\n",
        "print(append)"
      ],
      "execution_count": 48,
      "outputs": [
        {
          "output_type": "stream",
          "name": "stdout",
          "text": [
            "                 Open       High        Low      Close  rate_return\n",
            "Date                                                               \n",
            "2016-01-31  21.852386  22.440248  21.750950  22.440248          NaN\n",
            "2016-02-29  22.450755  22.768302  22.402081  22.411352    -0.001288\n",
            "2016-03-31  25.431524  25.473245  25.236823  25.262320     0.127211\n",
            "2016-04-30  21.785531  21.954736  21.442489  21.727585    -0.139921\n",
            "2016-05-31  23.226403  23.412961  23.044510  23.287035     0.071773\n",
            "2016-06-30  22.023112  22.333262  21.990464  22.293619    -0.042660\n",
            "2016-07-31  24.296778  24.380729  24.177847  24.301441     0.090063\n",
            "2016-08-31  24.773061  24.986419  24.768371  24.876223     0.023652\n",
            "2016-09-30  26.367382  26.580742  26.212639  26.505714     0.065504\n",
            "2016-10-31  26.646391  26.782378  26.540882  26.620600     0.004334\n",
            "2016-11-30  26.300088  26.441486  25.986654  26.045570    -0.021601\n",
            "2016-12-31  27.490191  27.619805  27.202681  27.294590     0.047955\n",
            "2016-10-31  26.646391  26.782378  26.540882  26.620600          NaN\n",
            "2016-11-30  26.300088  26.441486  25.986654  26.045570          NaN\n",
            "2016-12-31  27.490191  27.619805  27.202681  27.294590          NaN\n",
            "2017-01-31  28.550681  28.607239  28.425779  28.597813          NaN\n",
            "2017-02-28  32.444866  32.530073  32.354924  32.423565          NaN\n",
            "2017-03-31  34.016455  34.146633  33.848407  34.002254          NaN\n",
            "2017-04-30  34.104032  34.153737  33.909951  33.999889          NaN\n"
          ]
        }
      ]
    },
    {
      "cell_type": "code",
      "metadata": {
        "colab": {
          "base_uri": "https://localhost:8080/"
        },
        "id": "-DmJ7IC2XkuG",
        "outputId": "d219883e-7369-4f55-8138-19dca6f56f56"
      },
      "source": [
        "append = aapl_bar2.append(df_2017final)\n",
        "print(append)"
      ],
      "execution_count": 49,
      "outputs": [
        {
          "output_type": "stream",
          "name": "stdout",
          "text": [
            "                 Open       High        Low      Close  rate_return\n",
            "Date                                                               \n",
            "2017-01-31  28.550681  28.607239  28.425779  28.597813          NaN\n",
            "2017-02-28  32.444866  32.530073  32.354924  32.423565     0.133778\n",
            "2017-03-31  34.016455  34.146633  33.848407  34.002254     0.048690\n",
            "2017-04-30  34.104032  34.153737  33.909951  33.999889    -0.000070\n",
            "2017-05-31  36.592905  36.640437  36.215023  36.305332     0.067807\n",
            "2017-06-30  34.330358  34.451568  34.171124  34.228165    -0.057214\n",
            "2017-07-31  35.625618  35.727815  35.204958  35.347553     0.032704\n",
            "2017-08-31  39.043828  39.253793  39.005652  39.129723     0.106999\n",
            "2017-09-30  36.555284  36.774792  36.266582  36.772404    -0.060244\n",
            "2017-10-31  40.060253  40.477796  39.831203  40.332253     0.096808\n",
            "2017-11-30  40.810066  41.219533  40.333556  41.150093     0.020278\n",
            "2017-12-31  40.831629  40.848389  40.520339  40.522732    -0.015246\n",
            "2017-08-31  39.043828  39.253793  39.005652  39.129723          NaN\n",
            "2017-09-30  36.555284  36.774792  36.266582  36.772404          NaN\n",
            "2017-10-31  40.060253  40.477796  39.831203  40.332253          NaN\n",
            "2017-11-30  40.810066  41.219533  40.333556  41.150093          NaN\n",
            "2017-12-31  40.831629  40.848389  40.520339  40.522732          NaN\n"
          ]
        }
      ]
    },
    {
      "cell_type": "code",
      "metadata": {
        "colab": {
          "base_uri": "https://localhost:8080/"
        },
        "id": "4dMIAOSkXqfD",
        "outputId": "1d2b4624-8f14-4a6f-e538-7acb938d786b"
      },
      "source": [
        "concat = pd.concat([aapl_bar, df_2017], axis = 0)\n",
        "print(concat)"
      ],
      "execution_count": 50,
      "outputs": [
        {
          "output_type": "stream",
          "name": "stdout",
          "text": [
            "                 Open       High        Low      Close  rate_return\n",
            "Date                                                               \n",
            "2016-01-31  21.852386  22.440248  21.750950  22.440248          NaN\n",
            "2016-02-29  22.450755  22.768302  22.402081  22.411352    -0.001288\n",
            "2016-03-31  25.431524  25.473245  25.236823  25.262320     0.127211\n",
            "2016-04-30  21.785531  21.954736  21.442489  21.727585    -0.139921\n",
            "2016-05-31  23.226403  23.412961  23.044510  23.287035     0.071773\n",
            "2016-06-30  22.023112  22.333262  21.990464  22.293619    -0.042660\n",
            "2016-07-31  24.296778  24.380729  24.177847  24.301441     0.090063\n",
            "2016-08-31  24.773061  24.986419  24.768371  24.876223     0.023652\n",
            "2016-09-30  26.367382  26.580742  26.212639  26.505714     0.065504\n",
            "2016-10-31  26.646391  26.782378  26.540882  26.620600     0.004334\n",
            "2016-11-30  26.300088  26.441486  25.986654  26.045570    -0.021601\n",
            "2016-12-31  27.490191  27.619805  27.202681  27.294590     0.047955\n",
            "2016-10-31  26.646391  26.782378  26.540882  26.620600          NaN\n",
            "2016-11-30  26.300088  26.441486  25.986654  26.045570          NaN\n",
            "2016-12-31  27.490191  27.619805  27.202681  27.294590          NaN\n",
            "2017-01-31  28.550681  28.607239  28.425779  28.597813          NaN\n",
            "2017-02-28  32.444866  32.530073  32.354924  32.423565          NaN\n",
            "2017-03-31  34.016455  34.146633  33.848407  34.002254          NaN\n",
            "2017-04-30  34.104032  34.153737  33.909951  33.999889          NaN\n"
          ]
        }
      ]
    },
    {
      "cell_type": "code",
      "metadata": {
        "colab": {
          "base_uri": "https://localhost:8080/"
        },
        "id": "3MO3ETcsXsIK",
        "outputId": "ba06fb25-0428-4202-c140-1d56dbf7b301"
      },
      "source": [
        "concat = pd.concat([aapl_bar2, df_2017final], axis = 0)\n",
        "print(concat)"
      ],
      "execution_count": 51,
      "outputs": [
        {
          "output_type": "stream",
          "name": "stdout",
          "text": [
            "                 Open       High        Low      Close  rate_return\n",
            "Date                                                               \n",
            "2017-01-31  28.550681  28.607239  28.425779  28.597813          NaN\n",
            "2017-02-28  32.444866  32.530073  32.354924  32.423565     0.133778\n",
            "2017-03-31  34.016455  34.146633  33.848407  34.002254     0.048690\n",
            "2017-04-30  34.104032  34.153737  33.909951  33.999889    -0.000070\n",
            "2017-05-31  36.592905  36.640437  36.215023  36.305332     0.067807\n",
            "2017-06-30  34.330358  34.451568  34.171124  34.228165    -0.057214\n",
            "2017-07-31  35.625618  35.727815  35.204958  35.347553     0.032704\n",
            "2017-08-31  39.043828  39.253793  39.005652  39.129723     0.106999\n",
            "2017-09-30  36.555284  36.774792  36.266582  36.772404    -0.060244\n",
            "2017-10-31  40.060253  40.477796  39.831203  40.332253     0.096808\n",
            "2017-11-30  40.810066  41.219533  40.333556  41.150093     0.020278\n",
            "2017-12-31  40.831629  40.848389  40.520339  40.522732    -0.015246\n",
            "2017-08-31  39.043828  39.253793  39.005652  39.129723          NaN\n",
            "2017-09-30  36.555284  36.774792  36.266582  36.772404          NaN\n",
            "2017-10-31  40.060253  40.477796  39.831203  40.332253          NaN\n",
            "2017-11-30  40.810066  41.219533  40.333556  41.150093          NaN\n",
            "2017-12-31  40.831629  40.848389  40.520339  40.522732          NaN\n"
          ]
        }
      ]
    },
    {
      "cell_type": "code",
      "metadata": {
        "colab": {
          "base_uri": "https://localhost:8080/"
        },
        "id": "z6d9VGflXw2Z",
        "outputId": "d2beab44-eb19-4249-fb7d-bbbd33016ccd"
      },
      "source": [
        "df_2017.columns = ['Change', 'High','Low','Close']\n",
        "concat = pd.concat([aapl_bar, df_2017], axis = 0)\n",
        "print(concat)"
      ],
      "execution_count": 52,
      "outputs": [
        {
          "output_type": "stream",
          "name": "stdout",
          "text": [
            "                 Open       High        Low      Close  rate_return     Change\n",
            "Date                                                                          \n",
            "2016-01-31  21.852386  22.440248  21.750950  22.440248          NaN        NaN\n",
            "2016-02-29  22.450755  22.768302  22.402081  22.411352    -0.001288        NaN\n",
            "2016-03-31  25.431524  25.473245  25.236823  25.262320     0.127211        NaN\n",
            "2016-04-30  21.785531  21.954736  21.442489  21.727585    -0.139921        NaN\n",
            "2016-05-31  23.226403  23.412961  23.044510  23.287035     0.071773        NaN\n",
            "2016-06-30  22.023112  22.333262  21.990464  22.293619    -0.042660        NaN\n",
            "2016-07-31  24.296778  24.380729  24.177847  24.301441     0.090063        NaN\n",
            "2016-08-31  24.773061  24.986419  24.768371  24.876223     0.023652        NaN\n",
            "2016-09-30  26.367382  26.580742  26.212639  26.505714     0.065504        NaN\n",
            "2016-10-31  26.646391  26.782378  26.540882  26.620600     0.004334        NaN\n",
            "2016-11-30  26.300088  26.441486  25.986654  26.045570    -0.021601        NaN\n",
            "2016-12-31  27.490191  27.619805  27.202681  27.294590     0.047955        NaN\n",
            "2016-10-31        NaN  26.782378  26.540882  26.620600          NaN  26.646391\n",
            "2016-11-30        NaN  26.441486  25.986654  26.045570          NaN  26.300088\n",
            "2016-12-31        NaN  27.619805  27.202681  27.294590          NaN  27.490191\n",
            "2017-01-31        NaN  28.607239  28.425779  28.597813          NaN  28.550681\n",
            "2017-02-28        NaN  32.530073  32.354924  32.423565          NaN  32.444866\n",
            "2017-03-31        NaN  34.146633  33.848407  34.002254          NaN  34.016455\n",
            "2017-04-30        NaN  34.153737  33.909951  33.999889          NaN  34.104032\n"
          ]
        }
      ]
    },
    {
      "cell_type": "code",
      "metadata": {
        "colab": {
          "base_uri": "https://localhost:8080/"
        },
        "id": "2CWCtlFnXzX7",
        "outputId": "df86f80b-a167-4467-9613-ad815a086495"
      },
      "source": [
        "df_2017final.columns = ['Change', 'High','Low','Close']\n",
        "concat = pd.concat([aapl_bar2, df_2017final], axis = 0)\n",
        "print(concat)"
      ],
      "execution_count": 53,
      "outputs": [
        {
          "output_type": "stream",
          "name": "stdout",
          "text": [
            "                 Open       High        Low      Close  rate_return     Change\n",
            "Date                                                                          \n",
            "2017-01-31  28.550681  28.607239  28.425779  28.597813          NaN        NaN\n",
            "2017-02-28  32.444866  32.530073  32.354924  32.423565     0.133778        NaN\n",
            "2017-03-31  34.016455  34.146633  33.848407  34.002254     0.048690        NaN\n",
            "2017-04-30  34.104032  34.153737  33.909951  33.999889    -0.000070        NaN\n",
            "2017-05-31  36.592905  36.640437  36.215023  36.305332     0.067807        NaN\n",
            "2017-06-30  34.330358  34.451568  34.171124  34.228165    -0.057214        NaN\n",
            "2017-07-31  35.625618  35.727815  35.204958  35.347553     0.032704        NaN\n",
            "2017-08-31  39.043828  39.253793  39.005652  39.129723     0.106999        NaN\n",
            "2017-09-30  36.555284  36.774792  36.266582  36.772404    -0.060244        NaN\n",
            "2017-10-31  40.060253  40.477796  39.831203  40.332253     0.096808        NaN\n",
            "2017-11-30  40.810066  41.219533  40.333556  41.150093     0.020278        NaN\n",
            "2017-12-31  40.831629  40.848389  40.520339  40.522732    -0.015246        NaN\n",
            "2017-08-31        NaN  39.253793  39.005652  39.129723          NaN  39.043828\n",
            "2017-09-30        NaN  36.774792  36.266582  36.772404          NaN  36.555284\n",
            "2017-10-31        NaN  40.477796  39.831203  40.332253          NaN  40.060253\n",
            "2017-11-30        NaN  41.219533  40.333556  41.150093          NaN  40.810066\n",
            "2017-12-31        NaN  40.848389  40.520339  40.522732          NaN  40.831629\n"
          ]
        }
      ]
    }
  ]
}